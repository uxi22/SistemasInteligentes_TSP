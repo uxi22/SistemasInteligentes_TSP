{
 "cells": [
  {
   "cell_type": "markdown",
   "metadata": {},
   "source": [
    "\n",
    "# Práctica 3: Metaheurísticas basadas en poblaciones - Algoritmos Genéticos"
   ]
  },
  {
   "cell_type": "markdown",
   "metadata": {},
   "source": [
    "<center><h3>\n",
    "    Uxía Carro Tacón\n",
    "</h3></center>\n",
    "\n"
   ]
  },
  {
   "cell_type": "markdown",
   "metadata": {},
   "source": [
    "## Instrucciones\n",
    "\n"
   ]
  },
  {
   "cell_type": "markdown",
   "metadata": {},
   "source": [
    "Esto es **Jupyter Notebook**, un documento que integra código Python en un archivo Markdown.\n",
    "Esto nos permite ir ejecutando celdas de código poco a poco, así como generar automáticamente un informe bien formateado de la práctica.\n",
    "\n",
    "Puedes añadir una celda con el botón **\"Insert\"** de la barra de herramentas, y cambiar su tipo con **\"Cell > Cell Type\"**\n",
    "\n",
    "Para ejecutar una celda de código, la seleccionaremos y pulsaremos el botón **\"▶ Run\"** de la barra de herramentas.\n",
    "Para pasar el documento a HTML, seleccionaremos **\"File > Download as > HTML (.html)\"**\n",
    "\n",
    "Sigue este guión hasta el final. Ejecuta el código proporcionado paso a paso comprendiendo lo que estás haciendo y reflexionando sobre los resultados. Habrá preguntas intercaladas a lo largo del guión, responde a todas ellas en la sección reservada para ese fin: **\"Respuestas a los cuestionarios\"**. Por favor, no modifiques ninguna linea de código excepto cuando se te pida explícitamente.\n",
    "\n",
    "No olvides insertar tu **nombre y apellidos** en la celda superior.\n",
    "\n",
    "IMPORTANTE: Escribe el código de tu o tus soluciones/respuestas en las celdas que se indican para ello. Además, a lo largo de la práctica se plantearán varias preguntas que debéis responder en la parte inferior del documento, incluyendo las celdas que veáis necesarias (si hacéis referencia a partes concretas de vuestro código, etc) para reponder a ellas."
   ]
  },
  {
   "cell_type": "markdown",
   "metadata": {},
   "source": [
    "## Entrega de la práctica"
   ]
  },
  {
   "cell_type": "markdown",
   "metadata": {},
   "source": [
    "La fecha límite de entrega será la indicada en el Campus Virtual. La entrega consistirá de un único archivo comprimido con nombre `APELIDOS_NOME_Geneticos.zip` que contenga los seguientes ficheros:\n",
    "\n",
    " * `APELIDOS_NOME_Geneticos.html`: Archivo HTML fruto de la exportación del presente Notebook, con las preguntas respondidas al final del documento.\n",
    " * `APELIDOS_NOME_Geneticos.ipynb`: Archivo fuente Jupyter Notebook.\n",
    " * Archivo de datos de los problema utilizados en la resolución."
   ]
  },
  {
   "cell_type": "markdown",
   "metadata": {},
   "source": [
    "\n",
    "## Preliminares adicionales sobre Python\n"
   ]
  },
  {
   "cell_type": "markdown",
   "metadata": {},
   "source": [
    "Para esta práctica, te sugerimos algunas funciones de paquetes que pueden resultarte útiles en la realización de esta práctica."
   ]
  },
  {
   "cell_type": "markdown",
   "metadata": {},
   "source": [
    "Has visto que cuando realizas laboratorios y pruebas para ajustar parámetros resulta necesario tener una estimación del tiempo invertido en la ejecución. Eso ayuda a valorar el balance del tiempo computacional frente a la inclusión de valores de parámetros en el laboratorio. En ese sentido, puede resultar conveniente añadir barras de progreso que además te permitan visualizar el progreso de resolución de las iteraciones. Para ese propósito podéis hacer uso del paquete `tqdm` (https://tqdm.github.io/). \n",
    "\n",
    "Puedes ver ejemplos en detalle descritos en https://towardsdatascience.com/progress-bars-for-python-with-tqdm-4dba0d4cb4c\n",
    "\n",
    "Veámos un ejemplo ilustrativo aquí."
   ]
  },
  {
   "cell_type": "code",
   "execution_count": 9,
   "metadata": {},
   "outputs": [
    {
     "ename": "ModuleNotFoundError",
     "evalue": "No module named 'tqdm'",
     "output_type": "error",
     "traceback": [
      "\u001b[0;31m---------------------------------------------------------------------------\u001b[0m",
      "\u001b[0;31mModuleNotFoundError\u001b[0m                       Traceback (most recent call last)",
      "\u001b[0;32m<ipython-input-9-2739a12fa2f8>\u001b[0m in \u001b[0;36m<module>\u001b[0;34m\u001b[0m\n\u001b[1;32m      2\u001b[0m \u001b[0;31m# fíjate que estamos importando del paquete tqdm.notebook para que incorpore los decoradores compatibles en Jupyter\u001b[0m\u001b[0;34m\u001b[0m\u001b[0;34m\u001b[0m\u001b[0;34m\u001b[0m\u001b[0m\n\u001b[1;32m      3\u001b[0m \u001b[0;31m# (en Python podrías importar simplemente desde el paquete\u001b[0m\u001b[0;34m\u001b[0m\u001b[0;34m\u001b[0m\u001b[0;34m\u001b[0m\u001b[0m\n\u001b[0;32m----> 4\u001b[0;31m \u001b[0;32mimport\u001b[0m \u001b[0mtqdm\u001b[0m\u001b[0;34m.\u001b[0m\u001b[0mnotebook\u001b[0m\u001b[0;34m\u001b[0m\u001b[0;34m\u001b[0m\u001b[0m\n\u001b[0m",
      "\u001b[0;31mModuleNotFoundError\u001b[0m: No module named 'tqdm'"
     ]
    }
   ],
   "source": [
    "# solo debes importarlo una vez en el notebook.\n",
    "# fíjate que estamos importando del paquete tqdm.notebook para que incorpore los decoradores compatibles en Jupyter \n",
    "# (en Python podrías importar simplemente desde el paquete\n",
    "import tqdm.notebook"
   ]
  },
  {
   "cell_type": "markdown",
   "metadata": {},
   "source": [
    "`tqdm` permite añadir una barra de progreso que informe sobre el tiempo y el paso de iteraciones. En el ejemplo, la variable `nit` son el número de iteraciones a realizar y para conseguir que se visualize el progreso se pasa a `tqdm` un iterador de rango."
   ]
  },
  {
   "cell_type": "code",
   "execution_count": 10,
   "metadata": {},
   "outputs": [
    {
     "ename": "NameError",
     "evalue": "name 'tqdm' is not defined",
     "output_type": "error",
     "traceback": [
      "\u001b[0;31m---------------------------------------------------------------------------\u001b[0m",
      "\u001b[0;31mNameError\u001b[0m                                 Traceback (most recent call last)",
      "\u001b[0;32m<ipython-input-10-31a3e92fed08>\u001b[0m in \u001b[0;36m<module>\u001b[0;34m\u001b[0m\n\u001b[1;32m      4\u001b[0m \u001b[0mtails\u001b[0m \u001b[0;34m=\u001b[0m \u001b[0;36m0\u001b[0m\u001b[0;34m\u001b[0m\u001b[0;34m\u001b[0m\u001b[0m\n\u001b[1;32m      5\u001b[0m \u001b[0mnit\u001b[0m\u001b[0;34m=\u001b[0m\u001b[0;36m1000000\u001b[0m\u001b[0;34m\u001b[0m\u001b[0;34m\u001b[0m\u001b[0m\n\u001b[0;32m----> 6\u001b[0;31m \u001b[0;32mfor\u001b[0m \u001b[0mi\u001b[0m \u001b[0;32min\u001b[0m \u001b[0mtqdm\u001b[0m\u001b[0;34m(\u001b[0m\u001b[0mrange\u001b[0m\u001b[0;34m(\u001b[0m\u001b[0mnit\u001b[0m\u001b[0;34m)\u001b[0m\u001b[0;34m,\u001b[0m \u001b[0mdesc\u001b[0m\u001b[0;34m=\u001b[0m\u001b[0;34m'Coin Flip Progress'\u001b[0m\u001b[0;34m)\u001b[0m\u001b[0;34m:\u001b[0m\u001b[0;34m\u001b[0m\u001b[0;34m\u001b[0m\u001b[0m\n\u001b[0m\u001b[1;32m      7\u001b[0m     \u001b[0mtoss\u001b[0m \u001b[0;34m=\u001b[0m \u001b[0mrandint\u001b[0m\u001b[0;34m(\u001b[0m\u001b[0;36m0\u001b[0m\u001b[0;34m,\u001b[0m \u001b[0;36m1\u001b[0m\u001b[0;34m)\u001b[0m\u001b[0;34m\u001b[0m\u001b[0;34m\u001b[0m\u001b[0m\n\u001b[1;32m      8\u001b[0m     \u001b[0;32mif\u001b[0m \u001b[0mtoss\u001b[0m \u001b[0;34m==\u001b[0m \u001b[0;36m0\u001b[0m\u001b[0;34m:\u001b[0m\u001b[0;34m\u001b[0m\u001b[0;34m\u001b[0m\u001b[0m\n",
      "\u001b[0;31mNameError\u001b[0m: name 'tqdm' is not defined"
     ]
    }
   ],
   "source": [
    "from random import randint\n",
    "\n",
    "heads = 0\n",
    "tails = 0\n",
    "nit=1000000\n",
    "for i in tqdm(range(nit), desc='Coin Flip Progress'):\n",
    "    toss = randint(0, 1)\n",
    "    if toss == 0:\n",
    "        heads += 1\n",
    "    else:\n",
    "        tails += 1"
   ]
  },
  {
   "cell_type": "markdown",
   "metadata": {},
   "source": [
    "El paquete nos ofrece la posibilidad combinar `tdqm(range(NUM_IT))` en una única función, llamada `trange(NUM_IT)`. Veamos su funcionamiento en el siguiente ejemplo, que muestra también cómo podemos hacer cuando necesitamos llevar cuenta del progreso en bucles anidados."
   ]
  },
  {
   "cell_type": "code",
   "execution_count": 11,
   "metadata": {
    "scrolled": true
   },
   "outputs": [
    {
     "ename": "NameError",
     "evalue": "name 'trange' is not defined",
     "output_type": "error",
     "traceback": [
      "\u001b[0;31m---------------------------------------------------------------------------\u001b[0m",
      "\u001b[0;31mNameError\u001b[0m                                 Traceback (most recent call last)",
      "\u001b[0;32m<ipython-input-11-b6586e954ff0>\u001b[0m in \u001b[0;36m<module>\u001b[0;34m\u001b[0m\n\u001b[1;32m      1\u001b[0m \u001b[0mnum_games\u001b[0m \u001b[0;34m=\u001b[0m \u001b[0;36m3\u001b[0m\u001b[0;34m\u001b[0m\u001b[0;34m\u001b[0m\u001b[0m\n\u001b[1;32m      2\u001b[0m \u001b[0;34m\u001b[0m\u001b[0m\n\u001b[0;32m----> 3\u001b[0;31m \u001b[0;32mfor\u001b[0m \u001b[0mgame\u001b[0m \u001b[0;32min\u001b[0m \u001b[0mtrange\u001b[0m\u001b[0;34m(\u001b[0m\u001b[0mnum_games\u001b[0m\u001b[0;34m,\u001b[0m \u001b[0mdesc\u001b[0m\u001b[0;34m=\u001b[0m\u001b[0;34m'Overall Progress'\u001b[0m\u001b[0;34m)\u001b[0m\u001b[0;34m:\u001b[0m\u001b[0;34m\u001b[0m\u001b[0;34m\u001b[0m\u001b[0m\n\u001b[0m\u001b[1;32m      4\u001b[0m     \u001b[0mheads\u001b[0m \u001b[0;34m=\u001b[0m \u001b[0;36m0\u001b[0m\u001b[0;34m\u001b[0m\u001b[0;34m\u001b[0m\u001b[0m\n\u001b[1;32m      5\u001b[0m     \u001b[0mtails\u001b[0m \u001b[0;34m=\u001b[0m \u001b[0;36m0\u001b[0m\u001b[0;34m\u001b[0m\u001b[0;34m\u001b[0m\u001b[0m\n",
      "\u001b[0;31mNameError\u001b[0m: name 'trange' is not defined"
     ]
    }
   ],
   "source": [
    "num_games = 3\n",
    "\n",
    "for game in trange(num_games, desc='Overall Progress'):\n",
    "    heads = 0\n",
    "    tails = 0\n",
    "    nit=1000000\n",
    "    for j in trange((nit), desc=f'Game {game+1} Progress'):\n",
    "        toss = randint(0, 1)\n",
    "        if toss == 0:\n",
    "            heads += 1\n",
    "        else:\n",
    "            tails += 1\n",
    "            \n",
    "    print(f'Heads: {heads}, Tails: {tails}')\n"
   ]
  },
  {
   "cell_type": "markdown",
   "metadata": {},
   "source": [
    "Aprovechamos para recordarte que puedes utilizar semillas en la generación de secuencias de números aleatorios para hacer determinista y más verificable tu implementación. "
   ]
  },
  {
   "cell_type": "code",
   "execution_count": 1,
   "metadata": {},
   "outputs": [],
   "source": [
    "import random\n",
    "import time"
   ]
  },
  {
   "cell_type": "code",
   "execution_count": 13,
   "metadata": {},
   "outputs": [
    {
     "name": "stdout",
     "output_type": "stream",
     "text": [
      "vector aleatorio  [9, 10, 1, 8, 2, 7, 8, 5, 2]\n",
      "vector aleatorio  [5, 1, 3, 1, 2, 1, 5, 1, 2]\n",
      "vector aleatorio igual que el anterior [5, 1, 3, 1, 2, 1, 5, 1, 2]\n"
     ]
    }
   ],
   "source": [
    "# este vector será aleatorio si no habíamos establecido una semilla previamente.\n",
    "# Podríamos tener incluso una semilla basada en el tiempo actual para forzar que se aleatorice \n",
    "# si ejecutamos esta celda múltiples veces\n",
    "random.seed(time.time())\n",
    "\n",
    "vector_aleatorio = [ random.randint(1, 10) for i in range(1,10) ]\n",
    "print (\"vector aleatorio \", vector_aleatorio)\n",
    "\n",
    "# aquí establecemos una semilla totalmente fija\n",
    "# que no depende del tiempo y por tanto está bajo nuestro control\n",
    "semilla = 123456\n",
    "random.seed (semilla)\n",
    "\n",
    "# este viene determinado por la semilla\n",
    "vector_aleatorio = [ random.randint(1, 10) for i in range(1,10) ]\n",
    "print (\"vector aleatorio \", vector_aleatorio)\n",
    "\n",
    "# y ahora somos capaces de generar la misma serie \"aleatoria\"\n",
    "random.seed (semilla)\n",
    "vector_aleatorio = [ random.randint(1, 10) for i in range(1,10) ]\n",
    "print (\"vector aleatorio igual que el anterior\", vector_aleatorio)\n"
   ]
  },
  {
   "cell_type": "markdown",
   "metadata": {},
   "source": [
    "Esto puede ser útil para verificar que siempre obtienes los mismos resultados ante el mismo conjunto de entradas."
   ]
  },
  {
   "cell_type": "markdown",
   "metadata": {},
   "source": [
    "## El Problema del Viajante de Comercio (VC) con Algoritmos Genéticos\n",
    "\n",
    "El objetivo de esta práctica es modelar e implementar un agente inteligente que sea capaz de resolver el problema del VC mediante la metaheurística (MH) de poblaciones conocida como Algoritmo Genético (GA, del inglés *Genetic  Algorithm*). Para ello, realizarás una implementación del algoritmo básico visto en la clase expositiva y valorarás si la introducción de modificaciones en el diseño del algoritmo te permite mejorar la calidad de las soluciones alcanzadas."
   ]
  },
  {
   "cell_type": "markdown",
   "metadata": {},
   "source": [
    "\n",
    "### Definición del problema de Viajante de Comercio (VC)\n"
   ]
  },
  {
   "cell_type": "markdown",
   "metadata": {},
   "source": [
    "La definición del problema sigue la descripción ya vista en las prácticas anterior, en la que se disponía de una represetación del problema mediante un grafo ponderado. Así que, en primer lugar importa el módulo Python que acompaña esta práctica, que ya trae las funciones de apoyo como la clase `Localizaciones` que implementaba la carga de datos y que utilizaba una matriz de adyacencia."
   ]
  },
  {
   "cell_type": "code",
   "execution_count": 1,
   "metadata": {},
   "outputs": [],
   "source": [
    "from helpers_mod_ga import *"
   ]
  },
  {
   "cell_type": "markdown",
   "metadata": {},
   "source": [
    "Si todo va bien, la primera distancia entre la ciudad 0 y 1 debe ser unos 55 km para el problema de las 8 ciudades gallegas."
   ]
  },
  {
   "cell_type": "code",
   "execution_count": 2,
   "metadata": {},
   "outputs": [
    {
     "name": "stdout",
     "output_type": "stream",
     "text": [
      "55.88273580792048\n"
     ]
    }
   ],
   "source": [
    "g1=Localizaciones(filename='./data/grafo8cidades.txt')\n",
    "print (g1.distancia(0,1))"
   ]
  },
  {
   "cell_type": "markdown",
   "metadata": {},
   "source": [
    "\n",
    "## P3.1: Implementación básica de Algoritmo Genético\n"
   ]
  },
  {
   "cell_type": "markdown",
   "metadata": {},
   "source": [
    "Implementa un algoritmo genético básico para resolver el problema del VC, siguiendo la descripción algorítmica de la MH vista en la clase expositiva.\n",
    "\n",
    "Ten en cuenta las siguientes consideraciones de diseño para completar esta implementación básica:\n",
    "\n",
    "- Representación  de  las  soluciones:  representación  de  orden  (permutaciones) comenzando y finalizando en la ciudad 0. \n",
    "\n",
    "- Población inicial: inicialización completamente aleatoria de la población inicial, que sean permutaciones válidas.\n",
    "\n",
    "- Operador de cruce: Order Crossover (OX). La función/método que se encargue de hacer el cruce ordenado debe aceptar como parámetros la probabilidad de cruce (por defecto, establecida a pc=0.95), los dos puntos de corte así como los cromosomas sobre los que actuar.\n",
    "\n",
    "- Operador de mutación: se utilizará el operador de intercambio, aplicado con una probabilidad de mutación. Vuestra implementación debe manejar dos variantes de esta función:\n",
    "    - Mutación individual: solo se aplica la mutación, si procede, sobre un único gen en el cromosoma. La probabilidad de mutación por defecto se establece pm=0.25. Esta función debería recibir el índice del gen sobre el que actuar además de la probabilidad de mutación y el cromosoma original.\n",
    "    - Mutación cromosómica: se aplica la mutación contemplando todo el cromosoma, de forma que individualmente puede mutar cada gen de manera independiente según una probabilidad de mutación, establecida por defecto a pm=0.01.\n",
    "\n",
    "- El reemplazo de la generación debe seguir un modelo de reemplazo generacional con elitismo. En particular, tu implementación debe disponer de dos variantes de la función de reemplazo:\n",
    "    - mitades: haz que la mitad de la población resultante del reemplazo provenga de la generación actual mientras que la otra mitad provenga de los descendientes, tomando en ambos casos los mejores individuos. \n",
    "    - elitismo \"elite=2\": de esta forma, hay que mantener los 2 mejores individuos de la generación actual/ancestros; mientras que el resto provienen de entre los mejores hijos. La función de reemplazo debería parametrizar \"elite\".\n",
    "    \n",
    "\n",
    "Ambas variantes deben recibir como parámetro la lista de cromosomas de las poblaciones ascentros e hijos generados y retornar la población resultante.\n",
    "\n",
    "- Condición de parada simple basado en un número de iteraciones máximo pasado como parámetro.\n",
    "\n",
    "- La implementación debe ser completamente parametrizable, de forma que todos los componentes susceptibles de ser ajustados mediante parámetros deberían puedan ser establecidos en cada ejecución/problema.\n",
    "\n",
    "Lanza varias ejecuciones para verificar que puede resolver el problema con los siguientes grafos de\n",
    "ejemplo:\n",
    "\n",
    "- grafo 8 ciudades gallegas (`data/grafo8cidades.txt`), con una población de 2 individuos y 150 iteraciones.\n",
    "- grafo 120 ciudades estadounidenses (`data/US120.txt`), con una población de 32 individuos y 500 iteraciones.\n",
    "\n",
    "Si no te convergiera, prueba a extender el número de iteraciones o variar parámetros como la probabilidad de mutación.\n",
    "\n"
   ]
  },
  {
   "cell_type": "code",
   "execution_count": 3,
   "metadata": {},
   "outputs": [],
   "source": [
    "# Escribe aquí tu código para la función que implenta tu algoritmo genético\n",
    "# Crea tantas celdas como consideres oportuno para escribir tu código\n",
    "# Documenta siempre tu código con comentarios como este\n",
    "\n",
    "import random\n",
    "import time\n",
    "\n",
    "#funcion para generar una solucion inicial\n",
    "def genera_solucion_inicial(longitud):\n",
    "    random.seed(time.time())\n",
    "    #se obtiene un array con las ciudades intermedias mezcladas\n",
    "    vector_aleatorio = random.sample(list(range(1, longitud)), longitud-1)\n",
    "    return vector_aleatorio\n",
    "\n",
    "#funcion para calcular el coste de una solución: la distancia total entre las ciudades de la solución\n",
    "def coste(g, solucionI):\n",
    "    solucion = [0]+solucionI+[0]\n",
    "    suma_coste = 0\n",
    "    #se van sumando las distancias entre las ciudades de la solucion\n",
    "    for i in range(0, len(solucion)-1):\n",
    "        suma_coste += g.distancia(solucion[i], solucion[i+1])\n",
    "    return suma_coste\n",
    "\n",
    "\n",
    "#operador de cruce para hacer el cruce ordenado de los cromosomas 1 y 2 con 2 puntos de corte. El cruce sucede con una probabilidad pc\n",
    "def operador_cruce(puntoCorte1, puntoCorte2, cromosoma1, cromosoma2, pc=0.95):\n",
    "    #se encarga de hacer el cruce ordenado \n",
    "    #entre dos cromosomas\n",
    "    #se obtienen los cromosomas intermedios\n",
    "    random.seed(time.time())\n",
    "    prob = random.random()\n",
    "    if (prob > pc):\n",
    "        return cromosoma1, cromosoma2\n",
    "    \n",
    "    #hace el cruce ordenado de manera que no se repitan los genes en los cromosomas\n",
    "    #se obtienen los genes de los cromosomas\n",
    "    genes1 = cromosoma1[puntoCorte1:puntoCorte2]\n",
    "    genes2 = cromosoma2[puntoCorte1:puntoCorte2]\n",
    "    #se hace el cruce ordenado\n",
    "    #se obtienen los genes que no estan en el cromosoma2\n",
    "    genes_faltantes = [x for x in cromosoma2[puntoCorte2:] if x not in genes1]\n",
    "    for x in cromosoma2[:puntoCorte2]:\n",
    "        if x not in genes1:\n",
    "            genes_faltantes.append(x)\n",
    "    hijo1 = [0] * len(cromosoma1)\n",
    "    hijo1[puntoCorte1:puntoCorte2] = genes1\n",
    "    #rellena H1 con el resto de genes en el orden en el que aparecen en el cromosoma 2 a partir del segundo punto de corte\n",
    "    for i in range(puntoCorte2, len(hijo1)):\n",
    "        if (hijo1[i] == 0): hijo1[i] = genes_faltantes.pop()\n",
    "    for i in range(puntoCorte1):\n",
    "        if (hijo1[i] == 0): hijo1[i] = genes_faltantes.pop()\n",
    "    \n",
    "    genes_faltantes = [x for x in cromosoma1[puntoCorte2:] if x not in genes2]\n",
    "    for x in cromosoma1[:puntoCorte2]:\n",
    "        if x not in genes2:\n",
    "            genes_faltantes.append(x)\n",
    "    hijo2= [0]*len(cromosoma2)\n",
    "    hijo2[puntoCorte1:puntoCorte2] = genes2\n",
    "    for i in range(puntoCorte2, len(hijo2)):\n",
    "        if(hijo2[i]==0): hijo2[i] = genes_faltantes.pop()\n",
    "    for i in range(puntoCorte1):\n",
    "        if(hijo2[i]==0): hijo2[i] = genes_faltantes.pop()\n",
    "    \n",
    "    #se devuelve los cromosomas\n",
    "    return hijo1, hijo2\n",
    "\n",
    "\n",
    "#operador de mutacion mediante intercambio. Ocurre con una probabilidad de mutacion pm. Se aplica sobre un único gen del cromosoma\n",
    "#recibe el índice del gen, el cromosoma individual y la pm\n",
    "def mutacion_individual(cromosoma, gen, pm=0.25):\n",
    "    random.seed(time.time())\n",
    "    prob = random.random()\n",
    "    if (prob > pm):\n",
    "        return cromosoma\n",
    "    #si se muta, producimos un descendiente ligeramente modificado\n",
    "    #se escoge una posicion aleatoria del cromosoma\n",
    "    random.seed(time.time())\n",
    "    posicion = random.randint(0, len(cromosoma)-1)\n",
    "    while (gen == posicion):\n",
    "        random.seed(time.time())\n",
    "        posicion = random.randint(0, len(cromosoma)-1)\n",
    "    cromosoma = list(cromosoma)\n",
    "    #se intercambian los genes\n",
    "    aux = cromosoma[posicion]\n",
    "    cromosoma[posicion] = cromosoma[gen]\n",
    "    cromosoma[gen] = aux\n",
    "\n",
    "    return cromosoma\n",
    "\n",
    "#operador de mutacion cromosomica mediante intercambio. Probabilidad pm\n",
    "# se aplica la mutacion contemplando todo el cromosoma, de forma que individualmente se puede mutar cada gen según la probabilidad pm\n",
    "def mutacion_cromosomica(cromosoma, pm=0.01):\n",
    "    #para cada gen del cromosoma se decide si se muta o no\n",
    "    for i in range(0, len(cromosoma)):\n",
    "        random.seed(time.time())\n",
    "        if (random.random() > pm):\n",
    "            #se pasa al siguiente gen\n",
    "            continue\n",
    "        random.seed(time.time())\n",
    "        posicion = random.randint(0, len(cromosoma)-1)\n",
    "        cromosoma[i], cromosoma[posicion] = cromosoma[posicion], cromosoma[i]\n",
    "    return cromosoma\n",
    "\n",
    "#reemplazo de la generacion con elitismo\n",
    "#mitades: la mitad de la poblacion resultante proviene de hijos y la otra mitad de ancestros, de ambos se cogen los mejores individuos\n",
    "def reemplazo_generacion_mitades(g, ancestros, hijos, tam_poblacion):\n",
    "    ancestros_o = sorted(ancestros, key=lambda x: coste(g, x))\n",
    "    hijos_o = sorted(hijos, key=lambda x: coste(g, x))\n",
    "    #se seleccionan los mejores de los ancestros y de los hijos\n",
    "    mejores = ancestros_o[:int(tam_poblacion/2)] + hijos_o[:int(tam_poblacion/2)]\n",
    "    return mejores\n",
    "\n",
    "#elite=2. Mantenemos los 2 mejores individuos de la generacion anterior. El resto de la poblacion se reemplaza por los mejores descendientes\n",
    "def reemplazo_generacion_elite(g, ancestros, hijos, tam_poblacion, elite=2):\n",
    "    ancestros_o = sorted(ancestros, key=lambda x: coste(g, x))\n",
    "    hijos_o = sorted(hijos, key=lambda x: coste(g, x))\n",
    "    #se seleccionan los 2 mejores de los ancestros \n",
    "    mejores = ancestros_o[:elite]\n",
    "    for i in range(len(hijos_o)):\n",
    "        if (len(mejores) == tam_poblacion):\n",
    "            break\n",
    "        mejores.append(hijos_o[i])\n",
    "    return mejores\n",
    "\n",
    "#funcion para seleccionar los puntos de corte para el operador de cruce\n",
    "def puntos_corte(g):\n",
    "    random.seed(time.time())\n",
    "    punto1 = random.randint(0, g.nciudades-1)\n",
    "    random.seed(time.time())\n",
    "    punto2 = random.randint(0, g.nciudades-1)\n",
    "    while (punto1 == punto2):\n",
    "        punto2 = random.randint(0, g.nciudades-1)\n",
    "    if (punto1 > punto2):\n",
    "        punto1, punto2 = punto2, punto1\n",
    "    return punto1, punto2"
   ]
  },
  {
   "cell_type": "code",
   "execution_count": 4,
   "metadata": {},
   "outputs": [],
   "source": [
    "def algoritmo_genetico(tam_poblacion, n_generaciones, mitades=0, individual=0, pmi=0.25, pmc=0.01, pc=0.95, elite=2, filename=\"./data/grafo8cidades.txt\"):\n",
    "    #se genera una poblacion inicial de tamaño tam_poblacion de manera aleatoria\n",
    "    poblacion = []\n",
    "    g = Localizaciones(filename=filename)\n",
    "    for i in range(0, tam_poblacion):\n",
    "        poblacion.append(genera_solucion_inicial(g.nciudades))\n",
    "    iteracion=0\n",
    "    while (iteracion < n_generaciones): #condicion de parada\n",
    "        hijos = []\n",
    "        punto1, punto2 = puntos_corte(g)\n",
    "        #desordenamos la población para coger los padres de dos en dos sin tener en cuenta el coste\n",
    "        #porque al hacer el reemplazo se ordenan según coste\n",
    "        random.seed(time.time())\n",
    "        random.shuffle(poblacion)\n",
    "        for i in range(0, tam_poblacion-1, 2):\n",
    "            #seleccion de padres a cruzar\n",
    "            \n",
    "            hijo1, hijo2 = operador_cruce(punto1, punto2, poblacion[i], poblacion[i+1], pc)\n",
    "            if (individual == 0):\n",
    "                hijos.append(mutacion_cromosomica(hijo1, pmc))\n",
    "                hijos.append(mutacion_cromosomica(hijo2, pmc))\n",
    "            else:\n",
    "                random.seed(time.time())\n",
    "                gen = random.randint(0, g.nciudades-2)\n",
    "                hijos.append(mutacion_individual(hijo1, gen, pm=pmi))\n",
    "                random.seed(time.time())\n",
    "                gen = random.randint(0, g.nciudades-2)\n",
    "                hijos.append(mutacion_individual(hijo2, gen,pm=pmi))\n",
    "        #print('HIJOS: ', hijos)\n",
    "        if (mitades == 0):\n",
    "            poblacion = reemplazo_generacion_elite(g, poblacion, hijos, tam_poblacion, elite)\n",
    "        else:\n",
    "            poblacion = reemplazo_generacion_mitades(g, poblacion, hijos, tam_poblacion)\n",
    "        iteracion += 1\n",
    "    \n",
    "    #se devuelve el mejor individuo de la poblacion\n",
    "    poblacion = sorted(poblacion, key=lambda x: coste(g, x))\n",
    "    return poblacion[0], coste(g, poblacion[0])"
   ]
  },
  {
   "cell_type": "code",
   "execution_count": 5,
   "metadata": {},
   "outputs": [
    {
     "data": {
      "text/plain": [
       "([2, 1, 7, 5, 3, 6, 4], [4, 7, 1, 2, 6, 5, 3])"
      ]
     },
     "execution_count": 5,
     "metadata": {},
     "output_type": "execute_result"
    }
   ],
   "source": [
    "operador_cruce(3, 7, [1, 7, 2, 5, 3, 6, 4], [7, 4, 1, 2, 6, 5, 3])"
   ]
  },
  {
   "cell_type": "code",
   "execution_count": 10,
   "metadata": {},
   "outputs": [
    {
     "name": "stdout",
     "output_type": "stream",
     "text": [
      "8 [1, 2, 3, 5, 6, 7, 4]\n"
     ]
    }
   ],
   "source": [
    "g = Localizaciones(filename=\"./data/grafo8cidades.txt\")\n",
    "sol = genera_solucion_inicial(g.nciudades)\n",
    "print(g.nciudades, sol)"
   ]
  },
  {
   "cell_type": "code",
   "execution_count": 11,
   "metadata": {},
   "outputs": [
    {
     "data": {
      "text/plain": [
       "([3, 2, 6, 4, 1, 5, 7], 721.0678274993777)"
      ]
     },
     "execution_count": 11,
     "metadata": {},
     "output_type": "execute_result"
    }
   ],
   "source": [
    "algoritmo_genetico(2, 150, mitades=0, individual=1)"
   ]
  },
  {
   "cell_type": "code",
   "execution_count": 85,
   "metadata": {
    "scrolled": true
   },
   "outputs": [
    {
     "data": {
      "text/plain": [
       "([7, 6, 5, 4, 3, 2, 1], 381.6699617675482)"
      ]
     },
     "execution_count": 85,
     "metadata": {},
     "output_type": "execute_result"
    }
   ],
   "source": [
    "algoritmo_genetico(2, 150, mitades=1)"
   ]
  },
  {
   "cell_type": "code",
   "execution_count": 47,
   "metadata": {},
   "outputs": [
    {
     "name": "stdout",
     "output_type": "stream",
     "text": [
      "87285.984474142\n"
     ]
    }
   ],
   "source": [
    "#con elitismo\n",
    "sol120 = algoritmo_genetico(32, 500, mitades=0, filename=\"./data/US120.txt\")\n",
    "print(sol120[1])"
   ]
  },
  {
   "cell_type": "code",
   "execution_count": 49,
   "metadata": {},
   "outputs": [
    {
     "name": "stdout",
     "output_type": "stream",
     "text": [
      "([69, 7, 66, 28, 93, 75, 27, 60, 86, 111, 15, 118, 12, 115, 106, 67, 4, 3, 53, 34, 117, 41, 14, 55, 64, 11, 18, 37, 2, 82, 10, 79, 32, 59, 47, 20, 26, 113, 84, 119, 80, 101, 114, 107, 105, 71, 35, 94, 56, 30, 29, 33, 108, 97, 44, 6, 45, 76, 102, 85, 48, 57, 87, 103, 96, 92, 52, 65, 63, 95, 72, 46, 104, 74, 43, 77, 68, 100, 51, 91, 50, 58, 16, 1, 25, 88, 73, 49, 70, 9, 23, 17, 24, 62, 21, 83, 99, 98, 61, 31, 116, 39, 112, 54, 5, 19, 36, 42, 89, 8, 110, 109, 13, 81, 22, 90, 78, 38, 40], 67207.12051242735)\n"
     ]
    }
   ],
   "source": [
    "#con mitades\n",
    "sol120_o = algoritmo_genetico(32, 500, mitades=1, filename=\"./data/US120.txt\")\n",
    "print(sol120_o)"
   ]
  },
  {
   "cell_type": "code",
   "execution_count": 50,
   "metadata": {},
   "outputs": [
    {
     "name": "stdout",
     "output_type": "stream",
     "text": [
      "67207.12051242735\n"
     ]
    }
   ],
   "source": [
    "print(sol120_o[1])"
   ]
  },
  {
   "cell_type": "code",
   "execution_count": 39,
   "metadata": {},
   "outputs": [
    {
     "data": {
      "text/plain": [
       "([5, 2, 3, 6, 4, 1], [2, 3, 5, 4, 6, 1])"
      ]
     },
     "execution_count": 39,
     "metadata": {},
     "output_type": "execute_result"
    }
   ],
   "source": [
    "operador_cruce(1, 3, [1, 2, 3, 4, 5, 6], [1, 3, 5, 6, 4, 2])"
   ]
  },
  {
   "cell_type": "markdown",
   "metadata": {},
   "source": [
    "❓ **Pregunta 1**. Explica brevemente los detalles relevantes de tu código para entender tu implementación (p.ej., estructura de tu código, funciones, implementación de operadores, etc.). ¿Cuál es el mecanismo de selección escogido para tu implementación? Explica también cómo has verificado tu implementación.\n",
    "\n"
   ]
  },
  {
   "cell_type": "markdown",
   "metadata": {},
   "source": [
    "## P3.2: Laboratorio"
   ]
  },
  {
   "cell_type": "markdown",
   "metadata": {},
   "source": [
    "Como toda metaheurística, resulta crucial conocer cómo afecta en términos prácticos los parámetros\n",
    "del algoritmo y los operadores desarrollados. Estudia el comportamiento del algoritmo implementado para resolver VC atendiendo a las siguientes cuestiones.\n"
   ]
  },
  {
   "cell_type": "markdown",
   "metadata": {},
   "source": [
    "❓ **Pregunta 2**. Realiza el estudio de la calidad de la solución variando el tamaño de la población: 1, 2, 4, 8, 16, 32, 64... ¿Qué valor recomendarías para el problema de las 120 ciudades? ¿Por qué? Ten en cuenta que tienes dos variantes del mecanismo de reemplazo.\n",
    "\n",
    "❓ **Pregunta 3**. Ahora realiza un estudio similar variando la probabilidad de mutación en el rango 0, ..., 0.95 en pasos de 0.05~0.10. ¿Qué valor recomendarías para este parámetro? ¿Por qué? Ten en cuenta que tienes dos variantes del mecanismo de mutación.\n",
    "\n",
    "❓ **Pregunta 4**. Finalmente realiza un estudio variando el número de iteraciones máximas en el rango de 50 a 1000, considerando un paso variable o adaptativo a conveniencia. ¿Qué valor recomendarías para este parámetro? ¿Por qué? Realiza una discusión reflexionando sobre los resultados conjuntos de estos tres parámetros. \n",
    "\n",
    "Se espera q a medida q dejemos evolcionar, debería seguir mejorando. Si vemos q tras x iteraciones no se mejora o empeora, cortar y no continuar iterando. Discutir como estos 3 parámetros, decidir con cual nos quedamos de cada cosa.\n",
    "\n",
    "Apoya todas tus respuestas en datos-gráficos resultantes de tus estudios, reportados de forma que sea fácil de comparar/contrastar.\n",
    "\n",
    "Importante: además de la calidad de la soluciones obtenidas, se recomienda medir tiempos para tomar medidas operativas sobre el número de repeticiones que permitan realizar promedios (se recomienda no más de 10 si se ralentiza mucho) y prescindir de manera razonada de valores en las series de ejecución que no sean computacionalmente rentables/viables con tu implementación/ordenador (p.ej., tamaños de población elevados pueden tomar mucho tiempo para resolver).\n",
    "\n"
   ]
  },
  {
   "cell_type": "code",
   "execution_count": 51,
   "metadata": {},
   "outputs": [],
   "source": [
    "# puedes añadir aquí la implementación o cualquier código que necesites para responder las preguntas\n",
    "# utiliza tantas celdas como necesites\n"
   ]
  },
  {
   "cell_type": "markdown",
   "metadata": {},
   "source": [
    "Calidad de la solución variando el tamaño de la población:"
   ]
  },
  {
   "cell_type": "code",
   "execution_count": 13,
   "metadata": {},
   "outputs": [],
   "source": [
    "soluciones_mitades8=[]\n",
    "soluciones_elitismo8=[]\n",
    "for i in range(2, 100, 2):\n",
    "    soluciones_elitismo8.append(algoritmo_genetico(i, 150, mitades=0, individual=1, filename='./data/grafo8cidades.txt')[1])\n",
    "    soluciones_mitades8.append(algoritmo_genetico(i, 150, mitades=1, individual=1, filename='./data/grafo8cidades.txt')[1])"
   ]
  },
  {
   "cell_type": "code",
   "execution_count": 6,
   "metadata": {},
   "outputs": [],
   "source": [
    "soluciones_mitades120=[]\n",
    "soluciones_elitismo120=[]\n",
    "tiempos_mitades=[]\n",
    "tiempos_elitismo=[]\n",
    "for i in range(2, 100, 2):\n",
    "    ti = time.time()\n",
    "    soluciones_elitismo120.append(algoritmo_genetico(i, 150, mitades=0, individual=1, filename='./data/US120.txt')[1])\n",
    "    tf = time.time()\n",
    "    tiempos_elitismo.append(tf-ti)\n",
    "    ti = time.time()\n",
    "    soluciones_mitades120.append(algoritmo_genetico(i, 150, mitades=1, individual=1, filename='./data/US120.txt')[1])\n",
    "    tf = time.time()\n",
    "    tiempos_mitades.append(tf-ti)\n",
    "    \n",
    "soluciones_mitades120c=[]\n",
    "soluciones_elitismo120c=[]\n",
    "tiempos_mitadesc=[]\n",
    "tiempos_elitismoc=[]\n",
    "for i in range(2, 100, 2):\n",
    "    ti = time.time()\n",
    "    soluciones_elitismo120c.append(algoritmo_genetico(i, 150, mitades=0, individual=0, filename='./data/US120.txt')[1])\n",
    "    tf = time.time()\n",
    "    tiempos_elitismoc.append(tf-ti)\n",
    "    ti = time.time()\n",
    "    soluciones_mitades120c.append(algoritmo_genetico(i, 150, mitades=1, individual=0, filename='./data/US120.txt')[1])\n",
    "    tf = time.time()\n",
    "    tiempos_mitadesc.append(tf-ti)\n"
   ]
  },
  {
   "cell_type": "code",
   "execution_count": 9,
   "metadata": {},
   "outputs": [
    {
     "name": "stdout",
     "output_type": "stream",
     "text": [
      "Minimo mitades individual:  75192.02986772107\n",
      "Minimo elitismo individual:  110479.85640946431\n"
     ]
    }
   ],
   "source": [
    "print('Minimo mitades individual: ', min(soluciones_mitades120))\n",
    "print('Minimo elitismo individual: ', min(soluciones_elitismo120))"
   ]
  },
  {
   "cell_type": "markdown",
   "metadata": {},
   "source": [
    "Calidad de la solución variando la probabilidad de mutación, tanto para la variación individual como para la cromosómica:"
   ]
  },
  {
   "cell_type": "code",
   "execution_count": 22,
   "metadata": {},
   "outputs": [],
   "source": [
    "si=[]\n",
    "sc=[]\n",
    "tin=[]\n",
    "tc=[]\n",
    "for i in range(1, 20, 1):\n",
    "    v = i*0.05\n",
    "    ti = time.time()\n",
    "    si.append(algoritmo_genetico(64, 200, mitades=1, individual=1, pmi=v, filename='./data/US120.txt')[1])\n",
    "    tf = time.time()\n",
    "    tin.append(tf-ti)\n",
    "    ti = time.time()\n",
    "    sc.append(algoritmo_genetico(64, 200, mitades=1, individual=0, pmc=v, filename='./data/US120.txt')[1])\n",
    "    tf = time.time()\n",
    "    tc.append(tf-ti)"
   ]
  },
  {
   "cell_type": "code",
   "execution_count": 7,
   "metadata": {},
   "outputs": [],
   "source": [
    "s=[]\n",
    "t=[]\n",
    "for i in range(50, 1000, 50):\n",
    "    ti=0\n",
    "    tf=0\n",
    "    v = i*0.05\n",
    "    ti = time.time()\n",
    "    s.append(algoritmo_genetico(64, i, mitades=1, individual=1, pmi=0.18, filename='./data/US120.txt')[1])\n",
    "    tf = time.time()\n",
    "    t.append(tf-ti)"
   ]
  },
  {
   "cell_type": "code",
   "execution_count": 8,
   "metadata": {},
   "outputs": [
    {
     "name": "stdout",
     "output_type": "stream",
     "text": [
      "[113071.92855422349, 90148.38757295441, 80349.97313836917, 76770.12020303392, 68306.60276774346, 70340.5737098801, 63188.522130729594, 64170.69689579273, 62587.13613729509, 58228.41394221328, 56731.177481846345, 56128.964178729686, 55927.14056422645, 49783.38411135381, 56458.871928276436, 54072.964948834284, 48390.39665252764, 47752.59503146575, 50820.705491460656]\n",
      "[0.6186819076538086, 1.2716822624206543, 1.784712553024292, 2.224792003631592, 2.6210057735443115, 3.3548405170440674, 3.804619312286377, 4.174257755279541, 4.622564315795898, 5.274459362030029, 5.7522547245025635, 6.3693482875823975, 7.047818899154663, 7.2383177280426025, 7.7624523639678955, 8.59170913696289, 8.954241752624512, 9.501838445663452, 10.516944169998169]\n"
     ]
    }
   ],
   "source": [
    "print(s)\n",
    "print(t)"
   ]
  },
  {
   "cell_type": "markdown",
   "metadata": {},
   "source": [
    "\n",
    "#### Respuestas y evaluación\n",
    "\n",
    "Recordatorio: No olvides escribir tu nombre y apellidos en la segunda celda de este documento.\n",
    "La respuestas a las preguntas deben venir acompañadas de las implementaciones necesarias para su respuesta.\n",
    "\n",
    "*P3.1: Implementación básica* (5 puntos)\n",
    "\n",
    "La implementación básica se evaluará mediante un cuestionario automático de evaluación. Este lo realizarás en la primera sesión tras la entrega, y se centrará en la resolución por tu parte de diversas cuestiones prácticas relacionadas con la implementación realizada, pudiendo ser necesaria la ejecución, adaptación y modificación de la misma. \n",
    "\n",
    "Pregunta 1.\n",
    "\n",
    "Independientemente del cuestionario automático de evaluación, considera siempre que las preguntas planteadas en el notebook deben ser respondidas también. Esas preguntas generales están diseñadas para formarte, y te servián para razonar y reflexionar sobre el tema, así como también para fomentar una discusión constructiva con los docentes en caso de dudas.\n",
    "\n",
    "\n",
    "*P3.2: Laboratorio* (5 puntos)\n",
    "\n",
    "Pregunta 2.\n",
    "\n",
    "Pregunta 3.\n",
    "\n",
    "Pregunta 4.\n",
    "\n",
    "\n",
    "El informe a elaborar no debe exceder la longitud máxima de 1200 palabras.\n",
    "\n",
    "Aclaraciones: La evaluación de esta parte se llevará a cabo en términos de la completitud y correctitud del laboratorio implementado, así como de la calidad del propio informe, que debe ser conciso y preciso, pudiendo acompañarse de gráficas y tablas que faciliten y fundamenten la explicación e argumentación. Es muy importante explicar de manera clara, precisa y fundamentada. Se reservará hasta un punto que se asignará en términos de la calidad de la mejor solución obtenida entre el conjunto de las prácticas entregadas (es por ello que no debes olvidar marcar en tu informe muy claramente cuál ha sido tu mejor solución y con qué configuración/versión).\n",
    "\n"
   ]
  },
  {
   "cell_type": "markdown",
   "metadata": {},
   "source": [
    "## Informe\n",
    "\n",
    "Vamos estudiar el comportamiento del algoritmo para resolver el problema del viajante de comercio para 120 ciudades estadounidenses, cuyos datos podemos obtener de './data/US120.txt'.\n",
    "\n",
    "**Estudio de la calidad de la solución variando el tamaño de la población.**\n",
    "\n",
    "En primer lugar, queremos obtener el mejor valor de tamaño de población para la resolución del problema con estas 120 ciudades. \n",
    "\n",
    "Para la realización de este estudio se han utilizado las dos variaciones para la mutación, la individual y la cromosómica,  así como las dos variaciones de reemplazo de la generación implementadas, reemplazo por mitades y mediante elitismo, con élite=2. Además, se han utilizado 150 iteraciones.\n",
    "\n",
    "Con los parámetros especificados obtenemos los siguientes resultados. En las dos primeras gráficas podemos ver los resultados en coste y tiempo de computación para la variante de mutación individual, y en las dos siguientes los de la mutación cromosómica.\n",
    "\n",
    "<img src=\"./fotos/graf3.png\">\n",
    "\n",
    "Con estos datos, podemos ver que sobre todo para el caso de mitades, el coste va disminuyendo de manera gradual a medida que aumentamos el tamaño de población. En cuanto al tiempo de computación, se va elevando a medida que aumenta el tamaño de población, como era de esperar. Esto lo hace de una manera bastante uniforme, con algunos pequeños picos debidos a las probabilidades de mutación y cruce, que no ocurren en todos los casos. \n",
    "\n",
    "También se puede apreciar fácilmente que el comportamiento de los dos tipos de mutación es parecido, tanto en la evolución del coste, como del tiempo de computación necesario, a pesar de que para el caso de la mutación cromosómica es notablemente más elevado, puesto que se realizan muchas más operaciones. \n",
    "\n",
    "Una vez observados estos datos podemos ver claramente que se puede llegar a una buena solución sin un tamaño de población excesivamente elevado. Sin embargo, el comportamiento de la variantes de reemplazo es diferente, excepto para el tamaño de población 4, en el que ambas variaciones se comportarán de la misma manera, puesto que seleccionarán los 2 mejores padres y los 2 mejores hijos obtenidos. Además, con el tamaño de población 2, para el caso de elitismo con el parámetro élite = 2 no va a tener sentido puesto que nunca se van a reemplazar los dos padres obtenidos con la inicialización aleatoria, por eso se obtiene un coste mucho más elevado.\n",
    "\n",
    "Puesto que cada una de las variaciones se comportará de manera diferente, no tiene sentido elegir un mismo valor para el tamaño de población para ambos. \n",
    "\n",
    "En cuanto a la variante de reemplazo con elitismo, con un valor de elite=2, parece que con el aumento del tamaño de la población, se van obteniendo soluciones ligeramente peores, por lo que para no desperdiciar tiempo de computación estaría bien quedarnos con un tamaño de población cercano a 16. Esto sucede porque al aumentar el tamaño de la población pero manteniendo el mismo valor de élite, la proporción de soluciones que mantenemos de una generación a la siguiente se va haciendo mucho más pequeña, seleccionando únicamente las 2 mejores y completando el resto de la población de la siguiente generación con los nuevos hijos generados, que pueden ser peores en cuanto a coste que muchos de los ancestros descartados, que ya no se emplearán para crear hijos nuevos y posiblemente mejores.\n",
    "\n",
    "Por otra parte, para el reemplazo por mitades, sí que se puede observar que el coste disminuye cada vez más, por lo que sería bueno elegir un tamaño más elevado, como 64, con el que obtendríamos una buena solución sin incrementar excesivamente el tiempo necesario.\n",
    "\n",
    "\n",
    "**Calidad de la solución variando la probabilidad de mutación:**\n",
    "\n",
    "En este apartado se probará de manera experimental el comportamiento del algoritmo genético variando las probabilidades de mutación. La mutación ocurre tras el cruce de los padres seleccionados con una probabilidad dada. Contamos con dos variantes de esta mutación: la individual, en la cual se intercambia un único gen del cromosoma con otro aleatorio; y la cromosómica, para la que se exploran todos los genes.\n",
    "\n",
    "Las variantes se probarán por separado con valores entre 0.05 y 0.95, incrementandose en 0.05. Además utilizaremos únicamente el reemplazo por mitades, para el que utilizaremos un tamaño de población de 64. Para el criterio de parada utilizaremos 200 iteraciones. Con estos parámetros obtenemos los siguientes resultados:\n",
    "\n",
    "<img src='./fotos/graf4.png'>\n",
    "\n",
    "En las anteriores gráficas podemos ver en azul las variaciones del coste de la solución obtenida para cada caso probado, y en rojo el tiempo de computación empleado. \n",
    "\n",
    "En estas vemos que para ambas mutaciones el coste obtenido se va haciendo cada vez mayor a medida que aumentamos la probabilidad de mutación, a la vez que también lo hace el tiempo requerido, ya que el hecho de que la mutación ocurra requiere de más operaciones, lo que se va haciendo cada vez más probable. En cuanto al coste de la solución final, encontramos diferencias entre el comportamiento cada variante. \n",
    "\n",
    "Para la mutación individual vemos una trayectoria ascendente pero con notables picos, debidos a que el parámetro modificado es una probabilidad por lo que no determina completamente el comportamiento del algoritmo. Aquí se intercambia con la probabilidad dada un único gen del cromosoma de cada hijo, por lo que en el caso de que se dé, el cromosoma seguirá siendo parecido a sus antecesores. Sin embargo, a medida que la probabilidad aumenta, la mutación se va haciendo menos controlada, haciendo la búsqueda demasiado explroatoria, con lo que se dificulta la convergencia hacia mejores soluciones.\n",
    "\n",
    "En el caso de la mutación cromosómica, esto último que comentábamos se hace mucho más notorio, puesto que en lugar de intercambiarse un único gen de los hijos, pueden intercambiarse cada uno de ellos con la probabilidad establecida. Esto hace que aumentando la probabilidad de que ocurra, los hijos pueden llegar a ser completamente diferentes a los padres sin seguir ningún criterio más allá de la aleatoriedad. Por esto mismo, las soluciones obtenidas empeoran mucho más rápido.\n",
    "\n",
    "Para obtener unas buenas soluciones tenemos que contemplar un equilibrio entre la exploracion y la explotación, manteniendo una mutación controlada, por lo que las probabilidades escogidas deben ser bajas, sobre todo la de la cromosómica. Así, nos quedaremos con una probabilidad de 0.18 para la individual y 0.05 para la cromosómica, aunque también sería bueno contemplar valores aún más bajos.\n",
    "\n",
    "\n",
    "**Comportamiento del algoritmo genético variando el número de iteraciones máximas:**\n",
    "\n",
    "Por último en este informe estudiaremos la influencia del número de iteraciones máximas, para lo que usaremos entonces los valores obtenidos hasta ahora, con tamaño de población 64, reemplazo por mitades y mutación individual con probabilidad 0.18. Con estos parámetros obtenemos las siguientes soluciones:\n",
    "\n",
    "<img src='./fotos/graf5.png'>\n",
    "\n",
    "En estos resultados se puede ver que el coste disminuye rápidamente al aumentar el número de iteraciones, puesto que el algoritmo tiene más oportunidades de encontrar mejores soluciones y explotarlas. Al mismo tiempo, el coste aumenta de manera prácticamente lineal. \n",
    "\n",
    "Puesto que se trata de una metaheurística, la finalidad es obtener una solución suficientemente buena en un tiempo razonable. Por esta razón, para el número de iteraciones nos quedaremos con 750, que junto con el resto de valores decididos en los anteriores apartados conseguimos un coste de **49783.3841km** en **7.2383 segundos**."
   ]
  },
  {
   "cell_type": "code",
   "execution_count": null,
   "metadata": {},
   "outputs": [],
   "source": []
  }
 ],
 "metadata": {
  "kernelspec": {
   "display_name": "Python 3",
   "language": "python",
   "name": "python3"
  },
  "language_info": {
   "codemirror_mode": {
    "name": "ipython",
    "version": 3
   },
   "file_extension": ".py",
   "mimetype": "text/x-python",
   "name": "python",
   "nbconvert_exporter": "python",
   "pygments_lexer": "ipython3",
   "version": "3.7.3"
  }
 },
 "nbformat": 4,
 "nbformat_minor": 4
}
