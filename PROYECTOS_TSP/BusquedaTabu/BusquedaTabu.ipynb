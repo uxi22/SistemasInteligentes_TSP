{
 "cells": [
  {
   "cell_type": "markdown",
   "metadata": {
    "collapsed": false
   },
   "source": [
    "\n",
    "# Práctica 2: Metaheurísticas basadas en trayectorias: Tabu Search"
   ]
  },
  {
   "cell_type": "markdown",
   "metadata": {
    "collapsed": false
   },
   "source": [
    "<center><h3>\n",
    "    Uxía Carro Tacón\n",
    "</h3></center>\n"
   ]
  },
  {
   "cell_type": "markdown",
   "metadata": {
    "collapsed": false,
    "tags": [
    ]
   },
   "source": [
    "# Instrucciones"
   ]
  },
  {
   "cell_type": "markdown",
   "metadata": {
    "collapsed": false
   },
   "source": [
    "Igual que en la Práctica 1, utilizaremos un **Jupyter Notebook** para la resolución de esta práctica.\n",
    "\n",
    "Como ya sabéis, nos permite ir ejecutando celdas de código poco a poco, así como generar automáticamente un informe bien formateado de la práctica. Aun así, a continuación tenéis unas breves instrucciones sobre como funciona:\n",
    "\n",
    "* Puedes añadir una celda con el botón **\"Insert\"** de la barra de herramentas, y cambiar su tipo con **\"Cell > Cell Type\"**\n",
    "* Para ejecutar una celda de código, la seleccionaremos y pulsaremos el botón **\"▶ Run\"** de la barra de herramentas.\n",
    "* Para pasar el documento a HTML, seleccionaremos **\"File > Download as > HTML (.html)\"**\n",
    "\n",
    "Sigue este guión hasta el final. Ejecuta el código proporcionado paso a paso comprendiendo lo que estás haciendo y reflexionando sobre los resultados. Habrá preguntas intercaladas a lo largo del guión, responde a todas ellas en la sección reservada para ese fin: **\"Respuestas a los cuestionarios\"**. Por favor, no modifiques ninguna linea de código excepto cuando se te pida explícitamente.\n",
    "\n",
    "No olvides insertar tu **nombre y apellidos** en la celda superior.\n",
    "\n",
    "IMPORTANTE: Se te pedirán dos implementaciones del algoritmo de Búsqueda Tabú, una primera implementación obligatoria y una implementación mejorada optativa. Escribe el código de tu o tus soluciones en las celdas que se indican para ello. Además, a lo largo de la práctica se plantearán varias preguntas que debéis responder en la parte inferior del documento, incluyendo las celdas que veáis necesarias (si hacéis referencia a partes concretas de vuestro código, etc) para reponder a ellas."
   ]
  },
  {
   "cell_type": "markdown",
   "metadata": {
    "collapsed": false
   },
   "source": [
    "## Entrega de la práctica"
   ]
  },
  {
   "cell_type": "markdown",
   "metadata": {
    "collapsed": false
   },
   "source": [
    "La fecha límite de entrega será la indicada en el Campus Virtual. La entrega consistirá de un único archivo comprimido con nombre `APELIDOS_NOME_BusquedaTabu.zip` que contenga los seguientes ficheros:\n",
    "\n",
    " * `APELIDOS_NOME_BusquedaTabu.html`: Archivo HTML fruto de la exportación del presente Notebook, con las preguntas respondidas al final del documento.\n",
    " * `APELIDOS_NOME_BusquedaTabu.ipynb`: Archivo fuente Jupyter Notebook.\n",
    " * Archivo de datos de los problema utilizados en la resolución.\n",
    " \n",
    " ---"
   ]
  },
  {
   "cell_type": "markdown",
   "metadata": {
    "collapsed": false,
    "tags": [
    ]
   },
   "source": [
    "\n",
    "# Preliminares adicionales sobre Python"
   ]
  },
  {
   "cell_type": "markdown",
   "metadata": {
    "collapsed": false
   },
   "source": [
    "Además de lo visto en las prácticas anteriores, conviene familiarizarse con algunas funciones disponibles en Python que pueden resultarte útiles más adelante en la realización de esta práctica y en el uso del lenguaje en general.\n"
   ]
  },
  {
   "cell_type": "markdown",
   "metadata": {
    "collapsed": false
   },
   "source": [
    "Por ejemplo, cuando necesitas consultar documentación sobre paquetes Python, conviene que conozcas la versión que estás utilizando en tu entorno para poder encontrar las especificidades de cada *release*. Fíjate que en la sección *Docs by version* de la web https://docs.python.org/3/ puedes seleccionar los documentos de referencia de la versión.\n",
    "\n",
    "Para averiguar la versión que está ejecutando este Jupyter Noteboook puedes emplear las siguientes líneas."
   ]
  },
  {
   "cell_type": "code",
   "execution_count": 3,
   "metadata": {
    "collapsed": false
   },
   "outputs": [
    {
     "name": "stdout",
     "output_type": "stream",
     "text": [
      "3.10.12\n"
     ]
    }
   ],
   "source": [
    "from platform import python_version\n",
    "\n",
    "print(python_version())\n"
   ]
  },
  {
   "cell_type": "markdown",
   "metadata": {
    "collapsed": false
   },
   "source": [
    "Un paquete interesante puede ser statistics. Conociendo la versión, puedes puedes consultar la documentación y la lista completa de funciones disponibles: https://docs.python.org/3/library/statistics.html\n",
    "\n",
    "A modo ilustrativo, puedes obtener estadísticos sobre series de datos de la siguiente forma.\n"
   ]
  },
  {
   "cell_type": "code",
   "execution_count": 28,
   "metadata": {
    "collapsed": false
   },
   "outputs": [
    {
     "name": "stdout",
     "output_type": "stream",
     "text": [
      "3 1.5811388300841898\n",
      "3.3 1.5751984002023365\n"
     ]
    }
   ],
   "source": [
    "import statistics\n",
    "\n",
    "# ejemplo de obtención de medias y desviaciones típicas\n",
    "listav = [1, 2, 3, 4, 5]\n",
    "media = statistics.mean(listav)\n",
    "desvtip = statistics.stdev(listav)\n",
    "print(media, desvtip)\n",
    "\n",
    "listav = [1.0, 2.5, 3.75, 4.25, 5]\n",
    "media = statistics.mean(listav)\n",
    "desvtip = statistics.stdev(listav)\n",
    "print(media, desvtip)\n"
   ]
  },
  {
   "cell_type": "markdown",
   "metadata": {
    "collapsed": false
   },
   "source": [
    "Otro paquete que puede resultarte útil a la hora de crear un informe o documentar tu práctica puede ser `matplotlib.pyplot`, que permite hacer gráficas de manera integrada en el propio Notebook. Puedes consultar sus capacidades en https://matplotlib.org/stable/gallery/index.html\n",
    "\n",
    "Veámos un ejemplo ilustrativo."
   ]
  },
  {
   "cell_type": "code",
   "execution_count": 5,
   "metadata": {
    "collapsed": false
   },
   "outputs": [
    {
     "data": {
      "application/javascript": "/* Put everything inside the global mpl namespace */\n/* global mpl */\nwindow.mpl = {};\n\nmpl.get_websocket_type = function () {\n    if (typeof WebSocket !== 'undefined') {\n        return WebSocket;\n    } else if (typeof MozWebSocket !== 'undefined') {\n        return MozWebSocket;\n    } else {\n        alert(\n            'Your browser does not have WebSocket support. ' +\n                'Please try Chrome, Safari or Firefox ≥ 6. ' +\n                'Firefox 4 and 5 are also supported but you ' +\n                'have to enable WebSockets in about:config.'\n        );\n    }\n};\n\nmpl.figure = function (figure_id, websocket, ondownload, parent_element) {\n    this.id = figure_id;\n\n    this.ws = websocket;\n\n    this.supports_binary = this.ws.binaryType !== undefined;\n\n    if (!this.supports_binary) {\n        var warnings = document.getElementById('mpl-warnings');\n        if (warnings) {\n            warnings.style.display = 'block';\n            warnings.textContent =\n                'This browser does not support binary websocket messages. ' +\n                'Performance may be slow.';\n        }\n    }\n\n    this.imageObj = new Image();\n\n    this.context = undefined;\n    this.message = undefined;\n    this.canvas = undefined;\n    this.rubberband_canvas = undefined;\n    this.rubberband_context = undefined;\n    this.format_dropdown = undefined;\n\n    this.image_mode = 'full';\n\n    this.root = document.createElement('div');\n    this.root.setAttribute('style', 'display: inline-block');\n    this._root_extra_style(this.root);\n\n    parent_element.appendChild(this.root);\n\n    this._init_header(this);\n    this._init_canvas(this);\n    this._init_toolbar(this);\n\n    var fig = this;\n\n    this.waiting = false;\n\n    this.ws.onopen = function () {\n        fig.send_message('supports_binary', { value: fig.supports_binary });\n        fig.send_message('send_image_mode', {});\n        if (fig.ratio !== 1) {\n            fig.send_message('set_device_pixel_ratio', {\n                device_pixel_ratio: fig.ratio,\n            });\n        }\n        fig.send_message('refresh', {});\n    };\n\n    this.imageObj.onload = function () {\n        if (fig.image_mode === 'full') {\n            // Full images could contain transparency (where diff images\n            // almost always do), so we need to clear the canvas so that\n            // there is no ghosting.\n            fig.context.clearRect(0, 0, fig.canvas.width, fig.canvas.height);\n        }\n        fig.context.drawImage(fig.imageObj, 0, 0);\n    };\n\n    this.imageObj.onunload = function () {\n        fig.ws.close();\n    };\n\n    this.ws.onmessage = this._make_on_message_function(this);\n\n    this.ondownload = ondownload;\n};\n\nmpl.figure.prototype._init_header = function () {\n    var titlebar = document.createElement('div');\n    titlebar.classList =\n        'ui-dialog-titlebar ui-widget-header ui-corner-all ui-helper-clearfix';\n    var titletext = document.createElement('div');\n    titletext.classList = 'ui-dialog-title';\n    titletext.setAttribute(\n        'style',\n        'width: 100%; text-align: center; padding: 3px;'\n    );\n    titlebar.appendChild(titletext);\n    this.root.appendChild(titlebar);\n    this.header = titletext;\n};\n\nmpl.figure.prototype._canvas_extra_style = function (_canvas_div) {};\n\nmpl.figure.prototype._root_extra_style = function (_canvas_div) {};\n\nmpl.figure.prototype._init_canvas = function () {\n    var fig = this;\n\n    var canvas_div = (this.canvas_div = document.createElement('div'));\n    canvas_div.setAttribute('tabindex', '0');\n    canvas_div.setAttribute(\n        'style',\n        'border: 1px solid #ddd;' +\n            'box-sizing: content-box;' +\n            'clear: both;' +\n            'min-height: 1px;' +\n            'min-width: 1px;' +\n            'outline: 0;' +\n            'overflow: hidden;' +\n            'position: relative;' +\n            'resize: both;' +\n            'z-index: 2;'\n    );\n\n    function on_keyboard_event_closure(name) {\n        return function (event) {\n            return fig.key_event(event, name);\n        };\n    }\n\n    canvas_div.addEventListener(\n        'keydown',\n        on_keyboard_event_closure('key_press')\n    );\n    canvas_div.addEventListener(\n        'keyup',\n        on_keyboard_event_closure('key_release')\n    );\n\n    this._canvas_extra_style(canvas_div);\n    this.root.appendChild(canvas_div);\n\n    var canvas = (this.canvas = document.createElement('canvas'));\n    canvas.classList.add('mpl-canvas');\n    canvas.setAttribute(\n        'style',\n        'box-sizing: content-box;' +\n            'pointer-events: none;' +\n            'position: relative;' +\n            'z-index: 0;'\n    );\n\n    this.context = canvas.getContext('2d');\n\n    var backingStore =\n        this.context.backingStorePixelRatio ||\n        this.context.webkitBackingStorePixelRatio ||\n        this.context.mozBackingStorePixelRatio ||\n        this.context.msBackingStorePixelRatio ||\n        this.context.oBackingStorePixelRatio ||\n        this.context.backingStorePixelRatio ||\n        1;\n\n    this.ratio = (window.devicePixelRatio || 1) / backingStore;\n\n    var rubberband_canvas = (this.rubberband_canvas = document.createElement(\n        'canvas'\n    ));\n    rubberband_canvas.setAttribute(\n        'style',\n        'box-sizing: content-box;' +\n            'left: 0;' +\n            'pointer-events: none;' +\n            'position: absolute;' +\n            'top: 0;' +\n            'z-index: 1;'\n    );\n\n    // Apply a ponyfill if ResizeObserver is not implemented by browser.\n    if (this.ResizeObserver === undefined) {\n        if (window.ResizeObserver !== undefined) {\n            this.ResizeObserver = window.ResizeObserver;\n        } else {\n            var obs = _JSXTOOLS_RESIZE_OBSERVER({});\n            this.ResizeObserver = obs.ResizeObserver;\n        }\n    }\n\n    this.resizeObserverInstance = new this.ResizeObserver(function (entries) {\n        var nentries = entries.length;\n        for (var i = 0; i < nentries; i++) {\n            var entry = entries[i];\n            var width, height;\n            if (entry.contentBoxSize) {\n                if (entry.contentBoxSize instanceof Array) {\n                    // Chrome 84 implements new version of spec.\n                    width = entry.contentBoxSize[0].inlineSize;\n                    height = entry.contentBoxSize[0].blockSize;\n                } else {\n                    // Firefox implements old version of spec.\n                    width = entry.contentBoxSize.inlineSize;\n                    height = entry.contentBoxSize.blockSize;\n                }\n            } else {\n                // Chrome <84 implements even older version of spec.\n                width = entry.contentRect.width;\n                height = entry.contentRect.height;\n            }\n\n            // Keep the size of the canvas and rubber band canvas in sync with\n            // the canvas container.\n            if (entry.devicePixelContentBoxSize) {\n                // Chrome 84 implements new version of spec.\n                canvas.setAttribute(\n                    'width',\n                    entry.devicePixelContentBoxSize[0].inlineSize\n                );\n                canvas.setAttribute(\n                    'height',\n                    entry.devicePixelContentBoxSize[0].blockSize\n                );\n            } else {\n                canvas.setAttribute('width', width * fig.ratio);\n                canvas.setAttribute('height', height * fig.ratio);\n            }\n            /* This rescales the canvas back to display pixels, so that it\n             * appears correct on HiDPI screens. */\n            canvas.style.width = width + 'px';\n            canvas.style.height = height + 'px';\n\n            rubberband_canvas.setAttribute('width', width);\n            rubberband_canvas.setAttribute('height', height);\n\n            // And update the size in Python. We ignore the initial 0/0 size\n            // that occurs as the element is placed into the DOM, which should\n            // otherwise not happen due to the minimum size styling.\n            if (fig.ws.readyState == 1 && width != 0 && height != 0) {\n                fig.request_resize(width, height);\n            }\n        }\n    });\n    this.resizeObserverInstance.observe(canvas_div);\n\n    function on_mouse_event_closure(name) {\n        /* User Agent sniffing is bad, but WebKit is busted:\n         * https://bugs.webkit.org/show_bug.cgi?id=144526\n         * https://bugs.webkit.org/show_bug.cgi?id=181818\n         * The worst that happens here is that they get an extra browser\n         * selection when dragging, if this check fails to catch them.\n         */\n        var UA = navigator.userAgent;\n        var isWebKit = /AppleWebKit/.test(UA) && !/Chrome/.test(UA);\n        if(isWebKit) {\n            return function (event) {\n                /* This prevents the web browser from automatically changing to\n                 * the text insertion cursor when the button is pressed. We\n                 * want to control all of the cursor setting manually through\n                 * the 'cursor' event from matplotlib */\n                event.preventDefault()\n                return fig.mouse_event(event, name);\n            };\n        } else {\n            return function (event) {\n                return fig.mouse_event(event, name);\n            };\n        }\n    }\n\n    canvas_div.addEventListener(\n        'mousedown',\n        on_mouse_event_closure('button_press')\n    );\n    canvas_div.addEventListener(\n        'mouseup',\n        on_mouse_event_closure('button_release')\n    );\n    canvas_div.addEventListener(\n        'dblclick',\n        on_mouse_event_closure('dblclick')\n    );\n    // Throttle sequential mouse events to 1 every 20ms.\n    canvas_div.addEventListener(\n        'mousemove',\n        on_mouse_event_closure('motion_notify')\n    );\n\n    canvas_div.addEventListener(\n        'mouseenter',\n        on_mouse_event_closure('figure_enter')\n    );\n    canvas_div.addEventListener(\n        'mouseleave',\n        on_mouse_event_closure('figure_leave')\n    );\n\n    canvas_div.addEventListener('wheel', function (event) {\n        if (event.deltaY < 0) {\n            event.step = 1;\n        } else {\n            event.step = -1;\n        }\n        on_mouse_event_closure('scroll')(event);\n    });\n\n    canvas_div.appendChild(canvas);\n    canvas_div.appendChild(rubberband_canvas);\n\n    this.rubberband_context = rubberband_canvas.getContext('2d');\n    this.rubberband_context.strokeStyle = '#000000';\n\n    this._resize_canvas = function (width, height, forward) {\n        if (forward) {\n            canvas_div.style.width = width + 'px';\n            canvas_div.style.height = height + 'px';\n        }\n    };\n\n    // Disable right mouse context menu.\n    canvas_div.addEventListener('contextmenu', function (_e) {\n        event.preventDefault();\n        return false;\n    });\n\n    function set_focus() {\n        canvas.focus();\n        canvas_div.focus();\n    }\n\n    window.setTimeout(set_focus, 100);\n};\n\nmpl.figure.prototype._init_toolbar = function () {\n    var fig = this;\n\n    var toolbar = document.createElement('div');\n    toolbar.classList = 'mpl-toolbar';\n    this.root.appendChild(toolbar);\n\n    function on_click_closure(name) {\n        return function (_event) {\n            return fig.toolbar_button_onclick(name);\n        };\n    }\n\n    function on_mouseover_closure(tooltip) {\n        return function (event) {\n            if (!event.currentTarget.disabled) {\n                return fig.toolbar_button_onmouseover(tooltip);\n            }\n        };\n    }\n\n    fig.buttons = {};\n    var buttonGroup = document.createElement('div');\n    buttonGroup.classList = 'mpl-button-group';\n    for (var toolbar_ind in mpl.toolbar_items) {\n        var name = mpl.toolbar_items[toolbar_ind][0];\n        var tooltip = mpl.toolbar_items[toolbar_ind][1];\n        var image = mpl.toolbar_items[toolbar_ind][2];\n        var method_name = mpl.toolbar_items[toolbar_ind][3];\n\n        if (!name) {\n            /* Instead of a spacer, we start a new button group. */\n            if (buttonGroup.hasChildNodes()) {\n                toolbar.appendChild(buttonGroup);\n            }\n            buttonGroup = document.createElement('div');\n            buttonGroup.classList = 'mpl-button-group';\n            continue;\n        }\n\n        var button = (fig.buttons[name] = document.createElement('button'));\n        button.classList = 'mpl-widget';\n        button.setAttribute('role', 'button');\n        button.setAttribute('aria-disabled', 'false');\n        button.addEventListener('click', on_click_closure(method_name));\n        button.addEventListener('mouseover', on_mouseover_closure(tooltip));\n\n        var icon_img = document.createElement('img');\n        icon_img.src = '_images/' + image + '.png';\n        icon_img.srcset = '_images/' + image + '_large.png 2x';\n        icon_img.alt = tooltip;\n        button.appendChild(icon_img);\n\n        buttonGroup.appendChild(button);\n    }\n\n    if (buttonGroup.hasChildNodes()) {\n        toolbar.appendChild(buttonGroup);\n    }\n\n    var fmt_picker = document.createElement('select');\n    fmt_picker.classList = 'mpl-widget';\n    toolbar.appendChild(fmt_picker);\n    this.format_dropdown = fmt_picker;\n\n    for (var ind in mpl.extensions) {\n        var fmt = mpl.extensions[ind];\n        var option = document.createElement('option');\n        option.selected = fmt === mpl.default_extension;\n        option.innerHTML = fmt;\n        fmt_picker.appendChild(option);\n    }\n\n    var status_bar = document.createElement('span');\n    status_bar.classList = 'mpl-message';\n    toolbar.appendChild(status_bar);\n    this.message = status_bar;\n};\n\nmpl.figure.prototype.request_resize = function (x_pixels, y_pixels) {\n    // Request matplotlib to resize the figure. Matplotlib will then trigger a resize in the client,\n    // which will in turn request a refresh of the image.\n    this.send_message('resize', { width: x_pixels, height: y_pixels });\n};\n\nmpl.figure.prototype.send_message = function (type, properties) {\n    properties['type'] = type;\n    properties['figure_id'] = this.id;\n    this.ws.send(JSON.stringify(properties));\n};\n\nmpl.figure.prototype.send_draw_message = function () {\n    if (!this.waiting) {\n        this.waiting = true;\n        this.ws.send(JSON.stringify({ type: 'draw', figure_id: this.id }));\n    }\n};\n\nmpl.figure.prototype.handle_save = function (fig, _msg) {\n    var format_dropdown = fig.format_dropdown;\n    var format = format_dropdown.options[format_dropdown.selectedIndex].value;\n    fig.ondownload(fig, format);\n};\n\nmpl.figure.prototype.handle_resize = function (fig, msg) {\n    var size = msg['size'];\n    if (size[0] !== fig.canvas.width || size[1] !== fig.canvas.height) {\n        fig._resize_canvas(size[0], size[1], msg['forward']);\n        fig.send_message('refresh', {});\n    }\n};\n\nmpl.figure.prototype.handle_rubberband = function (fig, msg) {\n    var x0 = msg['x0'] / fig.ratio;\n    var y0 = (fig.canvas.height - msg['y0']) / fig.ratio;\n    var x1 = msg['x1'] / fig.ratio;\n    var y1 = (fig.canvas.height - msg['y1']) / fig.ratio;\n    x0 = Math.floor(x0) + 0.5;\n    y0 = Math.floor(y0) + 0.5;\n    x1 = Math.floor(x1) + 0.5;\n    y1 = Math.floor(y1) + 0.5;\n    var min_x = Math.min(x0, x1);\n    var min_y = Math.min(y0, y1);\n    var width = Math.abs(x1 - x0);\n    var height = Math.abs(y1 - y0);\n\n    fig.rubberband_context.clearRect(\n        0,\n        0,\n        fig.canvas.width / fig.ratio,\n        fig.canvas.height / fig.ratio\n    );\n\n    fig.rubberband_context.strokeRect(min_x, min_y, width, height);\n};\n\nmpl.figure.prototype.handle_figure_label = function (fig, msg) {\n    // Updates the figure title.\n    fig.header.textContent = msg['label'];\n};\n\nmpl.figure.prototype.handle_cursor = function (fig, msg) {\n    fig.canvas_div.style.cursor = msg['cursor'];\n};\n\nmpl.figure.prototype.handle_message = function (fig, msg) {\n    fig.message.textContent = msg['message'];\n};\n\nmpl.figure.prototype.handle_draw = function (fig, _msg) {\n    // Request the server to send over a new figure.\n    fig.send_draw_message();\n};\n\nmpl.figure.prototype.handle_image_mode = function (fig, msg) {\n    fig.image_mode = msg['mode'];\n};\n\nmpl.figure.prototype.handle_history_buttons = function (fig, msg) {\n    for (var key in msg) {\n        if (!(key in fig.buttons)) {\n            continue;\n        }\n        fig.buttons[key].disabled = !msg[key];\n        fig.buttons[key].setAttribute('aria-disabled', !msg[key]);\n    }\n};\n\nmpl.figure.prototype.handle_navigate_mode = function (fig, msg) {\n    if (msg['mode'] === 'PAN') {\n        fig.buttons['Pan'].classList.add('active');\n        fig.buttons['Zoom'].classList.remove('active');\n    } else if (msg['mode'] === 'ZOOM') {\n        fig.buttons['Pan'].classList.remove('active');\n        fig.buttons['Zoom'].classList.add('active');\n    } else {\n        fig.buttons['Pan'].classList.remove('active');\n        fig.buttons['Zoom'].classList.remove('active');\n    }\n};\n\nmpl.figure.prototype.updated_canvas_event = function () {\n    // Called whenever the canvas gets updated.\n    this.send_message('ack', {});\n};\n\n// A function to construct a web socket function for onmessage handling.\n// Called in the figure constructor.\nmpl.figure.prototype._make_on_message_function = function (fig) {\n    return function socket_on_message(evt) {\n        if (evt.data instanceof Blob) {\n            var img = evt.data;\n            if (img.type !== 'image/png') {\n                /* FIXME: We get \"Resource interpreted as Image but\n                 * transferred with MIME type text/plain:\" errors on\n                 * Chrome.  But how to set the MIME type?  It doesn't seem\n                 * to be part of the websocket stream */\n                img.type = 'image/png';\n            }\n\n            /* Free the memory for the previous frames */\n            if (fig.imageObj.src) {\n                (window.URL || window.webkitURL).revokeObjectURL(\n                    fig.imageObj.src\n                );\n            }\n\n            fig.imageObj.src = (window.URL || window.webkitURL).createObjectURL(\n                img\n            );\n            fig.updated_canvas_event();\n            fig.waiting = false;\n            return;\n        } else if (\n            typeof evt.data === 'string' &&\n            evt.data.slice(0, 21) === 'data:image/png;base64'\n        ) {\n            fig.imageObj.src = evt.data;\n            fig.updated_canvas_event();\n            fig.waiting = false;\n            return;\n        }\n\n        var msg = JSON.parse(evt.data);\n        var msg_type = msg['type'];\n\n        // Call the  \"handle_{type}\" callback, which takes\n        // the figure and JSON message as its only arguments.\n        try {\n            var callback = fig['handle_' + msg_type];\n        } catch (e) {\n            console.log(\n                \"No handler for the '\" + msg_type + \"' message type: \",\n                msg\n            );\n            return;\n        }\n\n        if (callback) {\n            try {\n                // console.log(\"Handling '\" + msg_type + \"' message: \", msg);\n                callback(fig, msg);\n            } catch (e) {\n                console.log(\n                    \"Exception inside the 'handler_\" + msg_type + \"' callback:\",\n                    e,\n                    e.stack,\n                    msg\n                );\n            }\n        }\n    };\n};\n\nfunction getModifiers(event) {\n    var mods = [];\n    if (event.ctrlKey) {\n        mods.push('ctrl');\n    }\n    if (event.altKey) {\n        mods.push('alt');\n    }\n    if (event.shiftKey) {\n        mods.push('shift');\n    }\n    if (event.metaKey) {\n        mods.push('meta');\n    }\n    return mods;\n}\n\n/*\n * return a copy of an object with only non-object keys\n * we need this to avoid circular references\n * https://stackoverflow.com/a/24161582/3208463\n */\nfunction simpleKeys(original) {\n    return Object.keys(original).reduce(function (obj, key) {\n        if (typeof original[key] !== 'object') {\n            obj[key] = original[key];\n        }\n        return obj;\n    }, {});\n}\n\nmpl.figure.prototype.mouse_event = function (event, name) {\n    if (name === 'button_press') {\n        this.canvas.focus();\n        this.canvas_div.focus();\n    }\n\n    // from https://stackoverflow.com/q/1114465\n    var boundingRect = this.canvas.getBoundingClientRect();\n    var x = (event.clientX - boundingRect.left) * this.ratio;\n    var y = (event.clientY - boundingRect.top) * this.ratio;\n\n    this.send_message(name, {\n        x: x,\n        y: y,\n        button: event.button,\n        step: event.step,\n        modifiers: getModifiers(event),\n        guiEvent: simpleKeys(event),\n    });\n\n    return false;\n};\n\nmpl.figure.prototype._key_event_extra = function (_event, _name) {\n    // Handle any extra behaviour associated with a key event\n};\n\nmpl.figure.prototype.key_event = function (event, name) {\n    // Prevent repeat events\n    if (name === 'key_press') {\n        if (event.key === this._key) {\n            return;\n        } else {\n            this._key = event.key;\n        }\n    }\n    if (name === 'key_release') {\n        this._key = null;\n    }\n\n    var value = '';\n    if (event.ctrlKey && event.key !== 'Control') {\n        value += 'ctrl+';\n    }\n    else if (event.altKey && event.key !== 'Alt') {\n        value += 'alt+';\n    }\n    else if (event.shiftKey && event.key !== 'Shift') {\n        value += 'shift+';\n    }\n\n    value += 'k' + event.key;\n\n    this._key_event_extra(event, name);\n\n    this.send_message(name, { key: value, guiEvent: simpleKeys(event) });\n    return false;\n};\n\nmpl.figure.prototype.toolbar_button_onclick = function (name) {\n    if (name === 'download') {\n        this.handle_save(this, null);\n    } else {\n        this.send_message('toolbar_button', { name: name });\n    }\n};\n\nmpl.figure.prototype.toolbar_button_onmouseover = function (tooltip) {\n    this.message.textContent = tooltip;\n};\n\n///////////////// REMAINING CONTENT GENERATED BY embed_js.py /////////////////\n// prettier-ignore\nvar _JSXTOOLS_RESIZE_OBSERVER=function(A){var t,i=new WeakMap,n=new WeakMap,a=new WeakMap,r=new WeakMap,o=new Set;function s(e){if(!(this instanceof s))throw new TypeError(\"Constructor requires 'new' operator\");i.set(this,e)}function h(){throw new TypeError(\"Function is not a constructor\")}function c(e,t,i,n){e=0 in arguments?Number(arguments[0]):0,t=1 in arguments?Number(arguments[1]):0,i=2 in arguments?Number(arguments[2]):0,n=3 in arguments?Number(arguments[3]):0,this.right=(this.x=this.left=e)+(this.width=i),this.bottom=(this.y=this.top=t)+(this.height=n),Object.freeze(this)}function d(){t=requestAnimationFrame(d);var s=new WeakMap,p=new Set;o.forEach((function(t){r.get(t).forEach((function(i){var r=t instanceof window.SVGElement,o=a.get(t),d=r?0:parseFloat(o.paddingTop),f=r?0:parseFloat(o.paddingRight),l=r?0:parseFloat(o.paddingBottom),u=r?0:parseFloat(o.paddingLeft),g=r?0:parseFloat(o.borderTopWidth),m=r?0:parseFloat(o.borderRightWidth),w=r?0:parseFloat(o.borderBottomWidth),b=u+f,F=d+l,v=(r?0:parseFloat(o.borderLeftWidth))+m,W=g+w,y=r?0:t.offsetHeight-W-t.clientHeight,E=r?0:t.offsetWidth-v-t.clientWidth,R=b+v,z=F+W,M=r?t.width:parseFloat(o.width)-R-E,O=r?t.height:parseFloat(o.height)-z-y;if(n.has(t)){var k=n.get(t);if(k[0]===M&&k[1]===O)return}n.set(t,[M,O]);var S=Object.create(h.prototype);S.target=t,S.contentRect=new c(u,d,M,O),s.has(i)||(s.set(i,[]),p.add(i)),s.get(i).push(S)}))})),p.forEach((function(e){i.get(e).call(e,s.get(e),e)}))}return s.prototype.observe=function(i){if(i instanceof window.Element){r.has(i)||(r.set(i,new Set),o.add(i),a.set(i,window.getComputedStyle(i)));var n=r.get(i);n.has(this)||n.add(this),cancelAnimationFrame(t),t=requestAnimationFrame(d)}},s.prototype.unobserve=function(i){if(i instanceof window.Element&&r.has(i)){var n=r.get(i);n.has(this)&&(n.delete(this),n.size||(r.delete(i),o.delete(i))),n.size||r.delete(i),o.size||cancelAnimationFrame(t)}},A.DOMRectReadOnly=c,A.ResizeObserver=s,A.ResizeObserverEntry=h,A}; // eslint-disable-line\nmpl.toolbar_items = [[\"Home\", \"Reset original view\", \"fa fa-home\", \"home\"], [\"Back\", \"Back to previous view\", \"fa fa-arrow-left\", \"back\"], [\"Forward\", \"Forward to next view\", \"fa fa-arrow-right\", \"forward\"], [\"\", \"\", \"\", \"\"], [\"Pan\", \"Left button pans, Right button zooms\\nx/y fixes axis, CTRL fixes aspect\", \"fa fa-arrows\", \"pan\"], [\"Zoom\", \"Zoom to rectangle\\nx/y fixes axis\", \"fa fa-square-o\", \"zoom\"], [\"\", \"\", \"\", \"\"], [\"Download\", \"Download plot\", \"fa fa-floppy-o\", \"download\"]];\n\nmpl.extensions = [\"eps\", \"jpeg\", \"pgf\", \"pdf\", \"png\", \"ps\", \"raw\", \"svg\", \"tif\", \"webp\"];\n\nmpl.default_extension = \"png\";/* global mpl */\n\nvar comm_websocket_adapter = function (comm) {\n    // Create a \"websocket\"-like object which calls the given IPython comm\n    // object with the appropriate methods. Currently this is a non binary\n    // socket, so there is still some room for performance tuning.\n    var ws = {};\n\n    ws.binaryType = comm.kernel.ws.binaryType;\n    ws.readyState = comm.kernel.ws.readyState;\n    function updateReadyState(_event) {\n        if (comm.kernel.ws) {\n            ws.readyState = comm.kernel.ws.readyState;\n        } else {\n            ws.readyState = 3; // Closed state.\n        }\n    }\n    comm.kernel.ws.addEventListener('open', updateReadyState);\n    comm.kernel.ws.addEventListener('close', updateReadyState);\n    comm.kernel.ws.addEventListener('error', updateReadyState);\n\n    ws.close = function () {\n        comm.close();\n    };\n    ws.send = function (m) {\n        //console.log('sending', m);\n        comm.send(m);\n    };\n    // Register the callback with on_msg.\n    comm.on_msg(function (msg) {\n        //console.log('receiving', msg['content']['data'], msg);\n        var data = msg['content']['data'];\n        if (data['blob'] !== undefined) {\n            data = {\n                data: new Blob(msg['buffers'], { type: data['blob'] }),\n            };\n        }\n        // Pass the mpl event to the overridden (by mpl) onmessage function.\n        ws.onmessage(data);\n    });\n    return ws;\n};\n\nmpl.mpl_figure_comm = function (comm, msg) {\n    // This is the function which gets called when the mpl process\n    // starts-up an IPython Comm through the \"matplotlib\" channel.\n\n    var id = msg.content.data.id;\n    // Get hold of the div created by the display call when the Comm\n    // socket was opened in Python.\n    var element = document.getElementById(id);\n    var ws_proxy = comm_websocket_adapter(comm);\n\n    function ondownload(figure, _format) {\n        window.open(figure.canvas.toDataURL());\n    }\n\n    var fig = new mpl.figure(id, ws_proxy, ondownload, element);\n\n    // Call onopen now - mpl needs it, as it is assuming we've passed it a real\n    // web socket which is closed, not our websocket->open comm proxy.\n    ws_proxy.onopen();\n\n    fig.parent_element = element;\n    fig.cell_info = mpl.find_output_cell(\"<div id='\" + id + \"'></div>\");\n    if (!fig.cell_info) {\n        console.error('Failed to find cell for figure', id, fig);\n        return;\n    }\n    fig.cell_info[0].output_area.element.on(\n        'cleared',\n        { fig: fig },\n        fig._remove_fig_handler\n    );\n};\n\nmpl.figure.prototype.handle_close = function (fig, msg) {\n    var width = fig.canvas.width / fig.ratio;\n    fig.cell_info[0].output_area.element.off(\n        'cleared',\n        fig._remove_fig_handler\n    );\n    fig.resizeObserverInstance.unobserve(fig.canvas_div);\n\n    // Update the output cell to use the data from the current canvas.\n    fig.push_to_output();\n    var dataURL = fig.canvas.toDataURL();\n    // Re-enable the keyboard manager in IPython - without this line, in FF,\n    // the notebook keyboard shortcuts fail.\n    IPython.keyboard_manager.enable();\n    fig.parent_element.innerHTML =\n        '<img src=\"' + dataURL + '\" width=\"' + width + '\">';\n    fig.close_ws(fig, msg);\n};\n\nmpl.figure.prototype.close_ws = function (fig, msg) {\n    fig.send_message('closing', msg);\n    // fig.ws.close()\n};\n\nmpl.figure.prototype.push_to_output = function (_remove_interactive) {\n    // Turn the data on the canvas into data in the output cell.\n    var width = this.canvas.width / this.ratio;\n    var dataURL = this.canvas.toDataURL();\n    this.cell_info[1]['text/html'] =\n        '<img src=\"' + dataURL + '\" width=\"' + width + '\">';\n};\n\nmpl.figure.prototype.updated_canvas_event = function () {\n    // Tell IPython that the notebook contents must change.\n    IPython.notebook.set_dirty(true);\n    this.send_message('ack', {});\n    var fig = this;\n    // Wait a second, then push the new image to the DOM so\n    // that it is saved nicely (might be nice to debounce this).\n    setTimeout(function () {\n        fig.push_to_output();\n    }, 1000);\n};\n\nmpl.figure.prototype._init_toolbar = function () {\n    var fig = this;\n\n    var toolbar = document.createElement('div');\n    toolbar.classList = 'btn-toolbar';\n    this.root.appendChild(toolbar);\n\n    function on_click_closure(name) {\n        return function (_event) {\n            return fig.toolbar_button_onclick(name);\n        };\n    }\n\n    function on_mouseover_closure(tooltip) {\n        return function (event) {\n            if (!event.currentTarget.disabled) {\n                return fig.toolbar_button_onmouseover(tooltip);\n            }\n        };\n    }\n\n    fig.buttons = {};\n    var buttonGroup = document.createElement('div');\n    buttonGroup.classList = 'btn-group';\n    var button;\n    for (var toolbar_ind in mpl.toolbar_items) {\n        var name = mpl.toolbar_items[toolbar_ind][0];\n        var tooltip = mpl.toolbar_items[toolbar_ind][1];\n        var image = mpl.toolbar_items[toolbar_ind][2];\n        var method_name = mpl.toolbar_items[toolbar_ind][3];\n\n        if (!name) {\n            /* Instead of a spacer, we start a new button group. */\n            if (buttonGroup.hasChildNodes()) {\n                toolbar.appendChild(buttonGroup);\n            }\n            buttonGroup = document.createElement('div');\n            buttonGroup.classList = 'btn-group';\n            continue;\n        }\n\n        button = fig.buttons[name] = document.createElement('button');\n        button.classList = 'btn btn-default';\n        button.href = '#';\n        button.title = name;\n        button.innerHTML = '<i class=\"fa ' + image + ' fa-lg\"></i>';\n        button.addEventListener('click', on_click_closure(method_name));\n        button.addEventListener('mouseover', on_mouseover_closure(tooltip));\n        buttonGroup.appendChild(button);\n    }\n\n    if (buttonGroup.hasChildNodes()) {\n        toolbar.appendChild(buttonGroup);\n    }\n\n    // Add the status bar.\n    var status_bar = document.createElement('span');\n    status_bar.classList = 'mpl-message pull-right';\n    toolbar.appendChild(status_bar);\n    this.message = status_bar;\n\n    // Add the close button to the window.\n    var buttongrp = document.createElement('div');\n    buttongrp.classList = 'btn-group inline pull-right';\n    button = document.createElement('button');\n    button.classList = 'btn btn-mini btn-primary';\n    button.href = '#';\n    button.title = 'Stop Interaction';\n    button.innerHTML = '<i class=\"fa fa-power-off icon-remove icon-large\"></i>';\n    button.addEventListener('click', function (_evt) {\n        fig.handle_close(fig, {});\n    });\n    button.addEventListener(\n        'mouseover',\n        on_mouseover_closure('Stop Interaction')\n    );\n    buttongrp.appendChild(button);\n    var titlebar = this.root.querySelector('.ui-dialog-titlebar');\n    titlebar.insertBefore(buttongrp, titlebar.firstChild);\n};\n\nmpl.figure.prototype._remove_fig_handler = function (event) {\n    var fig = event.data.fig;\n    if (event.target !== this) {\n        // Ignore bubbled events from children.\n        return;\n    }\n    fig.close_ws(fig, {});\n};\n\nmpl.figure.prototype._root_extra_style = function (el) {\n    el.style.boxSizing = 'content-box'; // override notebook setting of border-box.\n};\n\nmpl.figure.prototype._canvas_extra_style = function (el) {\n    // this is important to make the div 'focusable\n    el.setAttribute('tabindex', 0);\n    // reach out to IPython and tell the keyboard manager to turn it's self\n    // off when our div gets focus\n\n    // location in version 3\n    if (IPython.notebook.keyboard_manager) {\n        IPython.notebook.keyboard_manager.register_events(el);\n    } else {\n        // location in version 2\n        IPython.keyboard_manager.register_events(el);\n    }\n};\n\nmpl.figure.prototype._key_event_extra = function (event, _name) {\n    // Check for shift+enter\n    if (event.shiftKey && event.which === 13) {\n        this.canvas_div.blur();\n        // select the cell after this one\n        var index = IPython.notebook.find_cell_index(this.cell_info[0]);\n        IPython.notebook.select(index + 1);\n    }\n};\n\nmpl.figure.prototype.handle_save = function (fig, _msg) {\n    fig.ondownload(fig, null);\n};\n\nmpl.find_output_cell = function (html_output) {\n    // Return the cell and output element which can be found *uniquely* in the notebook.\n    // Note - this is a bit hacky, but it is done because the \"notebook_saving.Notebook\"\n    // IPython event is triggered only after the cells have been serialised, which for\n    // our purposes (turning an active figure into a static one), is too late.\n    var cells = IPython.notebook.get_cells();\n    var ncells = cells.length;\n    for (var i = 0; i < ncells; i++) {\n        var cell = cells[i];\n        if (cell.cell_type === 'code') {\n            for (var j = 0; j < cell.output_area.outputs.length; j++) {\n                var data = cell.output_area.outputs[j];\n                if (data.data) {\n                    // IPython >= 3 moved mimebundle to data attribute of output\n                    data = data.data;\n                }\n                if (data['text/html'] === html_output) {\n                    return [cell, data, j];\n                }\n            }\n        }\n    }\n};\n\n// Register the function which deals with the matplotlib target/channel.\n// The kernel may be null if the page has been refreshed.\nif (IPython.notebook.kernel !== null) {\n    IPython.notebook.kernel.comm_manager.register_target(\n        'matplotlib',\n        mpl.mpl_figure_comm\n    );\n}\n",
      "text/plain": [
       "<IPython.core.display.Javascript object>"
      ]
     },
     "execution_count": 5,
     "metadata": {
     },
     "output_type": "execute_result"
    },
    {
     "data": {
      "text/html": [
       "<div id='a5449eba-b4a1-404c-8170-3effd4d8cbc2'></div>"
      ],
      "text/plain": [
       "<IPython.core.display.HTML object>"
      ]
     },
     "execution_count": 5,
     "metadata": {
     },
     "output_type": "execute_result"
    }
   ],
   "source": [
    "# Indicamos al Notebook que queremos figuras interactivas (esto sólo es necesario hacerlo una vez)\n",
    "%matplotlib notebook\n",
    "\n",
    "import matplotlib.pyplot as plt  # Importamos la librería (esto sólo es necesario hacerlo una vez)\n",
    "import math\n",
    "\n",
    "# definimos algunas líneas de tendencia arbitrarias\n",
    "vectorx = [x for x in range (1,10)]\n",
    "vectorlogy = [ math.log(i) for i in vectorx ]\n",
    "vectorpowy = [ math.pow(i, 2) for i in vectorx ]\n",
    "\n",
    "fig = plt.figure()  # Creamos una figura (contenedor para elementos a dibujar)\n",
    "ax = fig.add_subplot(111, projection='rectilinear')  # añadimos subplot-canvas a la figura (contiene los elementos del dibujo)\n",
    " \n",
    "# añadimos los plots\n",
    "ax.plot(vectorx, vectorlogy, '--', color=\"green\")\n",
    "ax.plot(vectorx, vectorpowy, '--', color=\"red\")\n",
    " \n",
    "ax.set_title(\"Ejemplo\")  # Ponemos un título\n",
    "ax.set_xlabel(\"Eje X\")  # Nombramos los ejes\n",
    "ax.set_ylabel(\"Eje Y\")\n",
    " \n",
    "plt.show()  # Mostramos a figura por pantalla, que se corresponde con la fig creada arriba"
   ]
  },
  {
   "cell_type": "markdown",
   "metadata": {
    "collapsed": false,
    "tags": [
    ]
   },
   "source": [
    "---\n",
    "\n",
    "# El Problema del Viajante de Comercio (VC) con Búsqueda Tabú\n",
    "\n",
    "De nuevo, trataremos de resolver el problema del Viajante de Comercio, pero ahora con el algoritmo de Búsqueda Tabú.\n",
    "\n",
    "El objetivo de esta práctica es modelar e implementar un agente inteligente que sea capaz de resolver el problema del VC mediante la metaheurística (MH) de Busquedá Tabú (TS, del inglés Tabu Search). Para ello, realizarás una implementación del algoritmo básico visto en la clase expositiva y valorarás si la introducción de modificaciones en el diseño del algoritmo te permite mejorar la calidad de las soluciones alcanzadas."
   ]
  },
  {
   "cell_type": "markdown",
   "metadata": {
    "collapsed": false
   },
   "source": [
    "\n",
    "## Definición del problema de Viajante de Comercio (VC)\n"
   ]
  },
  {
   "cell_type": "markdown",
   "metadata": {
    "collapsed": false
   },
   "source": [
    "\n",
    "El problema del viajante de comercio (VC) es el problema de la persona que quiere vender un producto, y que para ello quiere encontrar el viaje más corto posible a través de las ciudades de los clientes, haciendo una única visita a cada una, empezando y acabando el recorrido en su propia ciudad (recorrido circular desde la ciudad inicial).\n",
    "Típicamente, el problema parte de una representación mediante un grafo ponderado $G=(N, A)$, donde $N$ es el conjunto de $n=|N|$ nodos (ciudades), y siendo A el conjunto de arcos conectando los nodos. Cada arco $(i, j) ∈ A$ tiene asignado un peso $d_ij$ que representa la distancia entre las ciudades $i$ y $j$.\n",
    "El VC se reduce al problema de crear el circuito Hamiltoniano de longitud mínima sobre el grafo $G$. La solución a una instancia del problema del VC puede representarse como una permutación de los índices de las ciudades, donde lo importante es el orden de visita, que determinará el coste del viaje en términos de la distancia recorrida total. \n",
    "De este modo, el problema pertenece a la categoría de problemas NP, pues puede haber n permutaciones que se corresponden al espacio de búsqueda posible. Esto hace que resolver instancias de problemas con muchas ciudades (n grande) haga el problema impracticable con estrategias de búsqueda no-informadas y éste pueda beneficiarse de ciertas metaheurísticas, pudiendo abordar de problemas con tallas más grande a la vez que se obtienen soluciones razonablemente buenas.\n"
   ]
  },
  {
   "cell_type": "markdown",
   "metadata": {
    "collapsed": false
   },
   "source": [
    "### Nociones previas\n",
    "\n",
    "Para facilitar vuestra labor de implementación, os proporcionamos la clase `Localizaciones`, que permite cargar las localizaciones GPS que representan los vértices del grafo G de N ciudades, y permite calcular de manera transparente la distancia entre cualquier par de ciudades usando la [fórmula del semiverseno]( https://es.wikipedia.org/wiki/F%C3%B3rmula_del_semiverseno), que sirve para calcular las distancias teniendo en cuenta la curvatura de la Tierra. \n",
    "Es importante tener en cuenta que en la fórmula del semiverseno las coordenadas se expresan en radianes.\n",
    "\n",
    "\n",
    "En primer lugar importa el módulo Python que acompaña esta práctica, que trae alguna función de apoyo implementada así como la clase de carga de datos."
   ]
  },
  {
   "cell_type": "code",
   "execution_count": 15,
   "metadata": {
    "collapsed": false
   },
   "outputs": [
   ],
   "source": [
    "from helpers_mod_sa import *"
   ]
  },
  {
   "cell_type": "markdown",
   "metadata": {
    "collapsed": false
   },
   "source": [
    "Inspecciona el código de carga de localizaciones mediante `psource(Localizaciones)`"
   ]
  },
  {
   "cell_type": "code",
   "execution_count": 16,
   "metadata": {
    "collapsed": false
   },
   "outputs": [
    {
     "data": {
      "text/html": [
       "<!DOCTYPE html PUBLIC \"-//W3C//DTD HTML 4.01//EN\"\n",
       "   \"http://www.w3.org/TR/html4/strict.dtd\">\n",
       "<!--\n",
       "generated by Pygments <https://pygments.org/>\n",
       "Copyright 2006-2022 by the Pygments team.\n",
       "Licensed under the BSD license, see LICENSE for details.\n",
       "-->\n",
       "<html>\n",
       "<head>\n",
       "  <title></title>\n",
       "  <meta http-equiv=\"content-type\" content=\"text/html; charset=None\">\n",
       "  <style type=\"text/css\">\n",
       "/*\n",
       "generated by Pygments <https://pygments.org/>\n",
       "Copyright 2006-2022 by the Pygments team.\n",
       "Licensed under the BSD license, see LICENSE for details.\n",
       "*/\n",
       "pre { line-height: 125%; }\n",
       "td.linenos .normal { color: inherit; background-color: transparent; padding-left: 5px; padding-right: 5px; }\n",
       "span.linenos { color: inherit; background-color: transparent; padding-left: 5px; padding-right: 5px; }\n",
       "td.linenos .special { color: #000000; background-color: #ffffc0; padding-left: 5px; padding-right: 5px; }\n",
       "span.linenos.special { color: #000000; background-color: #ffffc0; padding-left: 5px; padding-right: 5px; }\n",
       "body .hll { background-color: #ffffcc }\n",
       "body { background: #f8f8f8; }\n",
       "body .c { color: #3D7B7B; font-style: italic } /* Comment */\n",
       "body .err { border: 1px solid #FF0000 } /* Error */\n",
       "body .k { color: #008000; font-weight: bold } /* Keyword */\n",
       "body .o { color: #666666 } /* Operator */\n",
       "body .ch { color: #3D7B7B; font-style: italic } /* Comment.Hashbang */\n",
       "body .cm { color: #3D7B7B; font-style: italic } /* Comment.Multiline */\n",
       "body .cp { color: #9C6500 } /* Comment.Preproc */\n",
       "body .cpf { color: #3D7B7B; font-style: italic } /* Comment.PreprocFile */\n",
       "body .c1 { color: #3D7B7B; font-style: italic } /* Comment.Single */\n",
       "body .cs { color: #3D7B7B; font-style: italic } /* Comment.Special */\n",
       "body .gd { color: #A00000 } /* Generic.Deleted */\n",
       "body .ge { font-style: italic } /* Generic.Emph */\n",
       "body .gr { color: #E40000 } /* Generic.Error */\n",
       "body .gh { color: #000080; font-weight: bold } /* Generic.Heading */\n",
       "body .gi { color: #008400 } /* Generic.Inserted */\n",
       "body .go { color: #717171 } /* Generic.Output */\n",
       "body .gp { color: #000080; font-weight: bold } /* Generic.Prompt */\n",
       "body .gs { font-weight: bold } /* Generic.Strong */\n",
       "body .gu { color: #800080; font-weight: bold } /* Generic.Subheading */\n",
       "body .gt { color: #0044DD } /* Generic.Traceback */\n",
       "body .kc { color: #008000; font-weight: bold } /* Keyword.Constant */\n",
       "body .kd { color: #008000; font-weight: bold } /* Keyword.Declaration */\n",
       "body .kn { color: #008000; font-weight: bold } /* Keyword.Namespace */\n",
       "body .kp { color: #008000 } /* Keyword.Pseudo */\n",
       "body .kr { color: #008000; font-weight: bold } /* Keyword.Reserved */\n",
       "body .kt { color: #B00040 } /* Keyword.Type */\n",
       "body .m { color: #666666 } /* Literal.Number */\n",
       "body .s { color: #BA2121 } /* Literal.String */\n",
       "body .na { color: #687822 } /* Name.Attribute */\n",
       "body .nb { color: #008000 } /* Name.Builtin */\n",
       "body .nc { color: #0000FF; font-weight: bold } /* Name.Class */\n",
       "body .no { color: #880000 } /* Name.Constant */\n",
       "body .nd { color: #AA22FF } /* Name.Decorator */\n",
       "body .ni { color: #717171; font-weight: bold } /* Name.Entity */\n",
       "body .ne { color: #CB3F38; font-weight: bold } /* Name.Exception */\n",
       "body .nf { color: #0000FF } /* Name.Function */\n",
       "body .nl { color: #767600 } /* Name.Label */\n",
       "body .nn { color: #0000FF; font-weight: bold } /* Name.Namespace */\n",
       "body .nt { color: #008000; font-weight: bold } /* Name.Tag */\n",
       "body .nv { color: #19177C } /* Name.Variable */\n",
       "body .ow { color: #AA22FF; font-weight: bold } /* Operator.Word */\n",
       "body .w { color: #bbbbbb } /* Text.Whitespace */\n",
       "body .mb { color: #666666 } /* Literal.Number.Bin */\n",
       "body .mf { color: #666666 } /* Literal.Number.Float */\n",
       "body .mh { color: #666666 } /* Literal.Number.Hex */\n",
       "body .mi { color: #666666 } /* Literal.Number.Integer */\n",
       "body .mo { color: #666666 } /* Literal.Number.Oct */\n",
       "body .sa { color: #BA2121 } /* Literal.String.Affix */\n",
       "body .sb { color: #BA2121 } /* Literal.String.Backtick */\n",
       "body .sc { color: #BA2121 } /* Literal.String.Char */\n",
       "body .dl { color: #BA2121 } /* Literal.String.Delimiter */\n",
       "body .sd { color: #BA2121; font-style: italic } /* Literal.String.Doc */\n",
       "body .s2 { color: #BA2121 } /* Literal.String.Double */\n",
       "body .se { color: #AA5D1F; font-weight: bold } /* Literal.String.Escape */\n",
       "body .sh { color: #BA2121 } /* Literal.String.Heredoc */\n",
       "body .si { color: #A45A77; font-weight: bold } /* Literal.String.Interpol */\n",
       "body .sx { color: #008000 } /* Literal.String.Other */\n",
       "body .sr { color: #A45A77 } /* Literal.String.Regex */\n",
       "body .s1 { color: #BA2121 } /* Literal.String.Single */\n",
       "body .ss { color: #19177C } /* Literal.String.Symbol */\n",
       "body .bp { color: #008000 } /* Name.Builtin.Pseudo */\n",
       "body .fm { color: #0000FF } /* Name.Function.Magic */\n",
       "body .vc { color: #19177C } /* Name.Variable.Class */\n",
       "body .vg { color: #19177C } /* Name.Variable.Global */\n",
       "body .vi { color: #19177C } /* Name.Variable.Instance */\n",
       "body .vm { color: #19177C } /* Name.Variable.Magic */\n",
       "body .il { color: #666666 } /* Literal.Number.Integer.Long */\n",
       "\n",
       "  </style>\n",
       "</head>\n",
       "<body>\n",
       "<h2></h2>\n",
       "\n",
       "<div class=\"highlight\"><pre><span></span><span class=\"k\">class</span> <span class=\"nc\">Localizaciones</span> <span class=\"p\">():</span>\n",
       "\n",
       "    <span class=\"k\">def</span> <span class=\"fm\">__init__</span> <span class=\"p\">(</span><span class=\"bp\">self</span><span class=\"p\">,</span> <span class=\"n\">filename</span><span class=\"o\">=</span><span class=\"s1\">&#39;./data/grafo8cidades.txt&#39;</span><span class=\"p\">):</span>\n",
       "        <span class=\"bp\">self</span><span class=\"o\">.</span><span class=\"n\">filename</span> <span class=\"o\">=</span> <span class=\"n\">filename</span>\n",
       "        <span class=\"n\">file</span> <span class=\"o\">=</span> <span class=\"nb\">open</span><span class=\"p\">(</span><span class=\"n\">filename</span><span class=\"p\">,</span> <span class=\"s1\">&#39;r&#39;</span><span class=\"p\">)</span>\n",
       "        <span class=\"n\">Lines</span> <span class=\"o\">=</span> <span class=\"n\">file</span><span class=\"o\">.</span><span class=\"n\">readlines</span><span class=\"p\">()</span>\n",
       "\n",
       "        <span class=\"n\">count</span> <span class=\"o\">=</span> <span class=\"o\">-</span><span class=\"mi\">1</span>\n",
       "        <span class=\"bp\">self</span><span class=\"o\">.</span><span class=\"n\">nciudades</span> <span class=\"o\">=</span> <span class=\"mi\">0</span> \n",
       "        <span class=\"bp\">self</span><span class=\"o\">.</span><span class=\"n\">tablaciudades</span> <span class=\"o\">=</span> <span class=\"nb\">dict</span><span class=\"p\">()</span>\n",
       "        <span class=\"k\">for</span> <span class=\"n\">line</span> <span class=\"ow\">in</span> <span class=\"n\">Lines</span><span class=\"p\">:</span>\n",
       "            <span class=\"k\">if</span> <span class=\"n\">count</span> <span class=\"o\">==</span> <span class=\"o\">-</span><span class=\"mi\">1</span><span class=\"p\">:</span>\n",
       "                <span class=\"bp\">self</span><span class=\"o\">.</span><span class=\"n\">nciudades</span> <span class=\"o\">=</span> <span class=\"nb\">int</span><span class=\"p\">(</span><span class=\"n\">line</span><span class=\"o\">.</span><span class=\"n\">strip</span><span class=\"p\">()</span><span class=\"o\">.</span><span class=\"n\">split</span><span class=\"p\">()[</span><span class=\"mi\">0</span><span class=\"p\">])</span>        \n",
       "            <span class=\"k\">else</span><span class=\"p\">:</span>\n",
       "                <span class=\"n\">tokens</span> <span class=\"o\">=</span> <span class=\"n\">line</span><span class=\"o\">.</span><span class=\"n\">strip</span><span class=\"p\">()</span><span class=\"o\">.</span><span class=\"n\">split</span><span class=\"p\">()</span>\n",
       "                <span class=\"bp\">self</span><span class=\"o\">.</span><span class=\"n\">tablaciudades</span><span class=\"p\">[</span><span class=\"n\">count</span><span class=\"p\">]</span><span class=\"o\">=</span><span class=\"nb\">tuple</span><span class=\"p\">((</span><span class=\"nb\">float</span><span class=\"p\">(</span><span class=\"n\">tokens</span><span class=\"p\">[</span><span class=\"mi\">0</span><span class=\"p\">]),</span><span class=\"nb\">float</span><span class=\"p\">(</span><span class=\"n\">tokens</span><span class=\"p\">[</span><span class=\"mi\">1</span><span class=\"p\">])))</span>                \n",
       "\n",
       "            <span class=\"n\">count</span><span class=\"o\">+=</span><span class=\"mi\">1</span>\n",
       "    \n",
       "        <span class=\"bp\">self</span><span class=\"o\">.</span><span class=\"n\">matriz</span> <span class=\"o\">=</span> <span class=\"p\">[]</span>\n",
       "        <span class=\"k\">for</span> <span class=\"n\">c1</span> <span class=\"ow\">in</span> <span class=\"nb\">range</span><span class=\"p\">(</span><span class=\"bp\">self</span><span class=\"o\">.</span><span class=\"n\">nciudades</span><span class=\"p\">):</span>\n",
       "            <span class=\"n\">a</span> <span class=\"o\">=</span> <span class=\"p\">[</span><span class=\"mi\">0</span><span class=\"p\">]</span><span class=\"o\">*</span><span class=\"bp\">self</span><span class=\"o\">.</span><span class=\"n\">nciudades</span>\n",
       "            <span class=\"bp\">self</span><span class=\"o\">.</span><span class=\"n\">matriz</span><span class=\"o\">.</span><span class=\"n\">append</span><span class=\"p\">(</span><span class=\"n\">a</span><span class=\"p\">)</span>\n",
       "            <span class=\"k\">for</span> <span class=\"n\">c2</span> <span class=\"ow\">in</span> <span class=\"nb\">range</span><span class=\"p\">(</span><span class=\"bp\">self</span><span class=\"o\">.</span><span class=\"n\">nciudades</span><span class=\"p\">):</span>\n",
       "                <span class=\"bp\">self</span><span class=\"o\">.</span><span class=\"n\">matriz</span><span class=\"p\">[</span><span class=\"n\">c1</span><span class=\"p\">][</span><span class=\"n\">c2</span><span class=\"p\">]</span> <span class=\"o\">=</span> <span class=\"bp\">self</span><span class=\"o\">.</span><span class=\"n\">__distancia_semiverseno__</span><span class=\"p\">(</span><span class=\"n\">c1</span><span class=\"p\">,</span> <span class=\"n\">c2</span><span class=\"p\">)</span>\n",
       "    \n",
       "    <span class=\"k\">def</span> <span class=\"nf\">__distancia_semiverseno__</span> <span class=\"p\">(</span><span class=\"bp\">self</span><span class=\"p\">,</span> <span class=\"n\">c1</span><span class=\"p\">,</span> <span class=\"n\">c2</span><span class=\"p\">):</span>\n",
       "        <span class=\"n\">radioTierra</span> <span class=\"o\">=</span> <span class=\"mi\">6371</span>\n",
       "        <span class=\"n\">lat1</span> <span class=\"o\">=</span> <span class=\"n\">math</span><span class=\"o\">.</span><span class=\"n\">radians</span><span class=\"p\">(</span><span class=\"bp\">self</span><span class=\"o\">.</span><span class=\"n\">tablaciudades</span><span class=\"p\">[</span><span class=\"n\">c1</span><span class=\"p\">][</span><span class=\"mi\">0</span><span class=\"p\">]);</span>\n",
       "        <span class=\"n\">lon1</span> <span class=\"o\">=</span> <span class=\"n\">math</span><span class=\"o\">.</span><span class=\"n\">radians</span><span class=\"p\">(</span><span class=\"bp\">self</span><span class=\"o\">.</span><span class=\"n\">tablaciudades</span><span class=\"p\">[</span><span class=\"n\">c1</span><span class=\"p\">][</span><span class=\"mi\">1</span><span class=\"p\">]);</span>\n",
       "        <span class=\"n\">lat2</span> <span class=\"o\">=</span> <span class=\"n\">math</span><span class=\"o\">.</span><span class=\"n\">radians</span><span class=\"p\">(</span><span class=\"bp\">self</span><span class=\"o\">.</span><span class=\"n\">tablaciudades</span><span class=\"p\">[</span><span class=\"n\">c2</span><span class=\"p\">][</span><span class=\"mi\">0</span><span class=\"p\">]);</span>\n",
       "        <span class=\"n\">lon2</span> <span class=\"o\">=</span> <span class=\"n\">math</span><span class=\"o\">.</span><span class=\"n\">radians</span><span class=\"p\">(</span><span class=\"bp\">self</span><span class=\"o\">.</span><span class=\"n\">tablaciudades</span><span class=\"p\">[</span><span class=\"n\">c2</span><span class=\"p\">][</span><span class=\"mi\">1</span><span class=\"p\">]);</span>\n",
       "        \n",
       "        <span class=\"n\">sinChi</span> <span class=\"o\">=</span> <span class=\"n\">math</span><span class=\"o\">.</span><span class=\"n\">sin</span><span class=\"p\">((</span><span class=\"n\">lat2</span> <span class=\"o\">-</span> <span class=\"n\">lat1</span><span class=\"p\">)</span> <span class=\"o\">/</span> <span class=\"mi\">2</span><span class=\"p\">);</span>\n",
       "        <span class=\"n\">sinLambda</span> <span class=\"o\">=</span> <span class=\"n\">math</span><span class=\"o\">.</span><span class=\"n\">sin</span><span class=\"p\">((</span><span class=\"n\">lon2</span> <span class=\"o\">-</span> <span class=\"n\">lon1</span><span class=\"p\">)</span> <span class=\"o\">/</span> <span class=\"mi\">2</span><span class=\"p\">);</span>\n",
       "\n",
       "        <span class=\"n\">raiz</span> <span class=\"o\">=</span> <span class=\"p\">(</span><span class=\"n\">sinChi</span> <span class=\"o\">*</span> <span class=\"n\">sinChi</span><span class=\"p\">)</span> <span class=\"o\">+</span> <span class=\"n\">math</span><span class=\"o\">.</span><span class=\"n\">cos</span><span class=\"p\">(</span><span class=\"n\">lat1</span><span class=\"p\">)</span> <span class=\"o\">*</span> <span class=\"n\">math</span><span class=\"o\">.</span><span class=\"n\">cos</span><span class=\"p\">(</span><span class=\"n\">lat2</span><span class=\"p\">)</span> <span class=\"o\">*</span> <span class=\"p\">(</span><span class=\"n\">sinLambda</span> <span class=\"o\">*</span> <span class=\"n\">sinLambda</span><span class=\"p\">);</span>\n",
       "\n",
       "        <span class=\"k\">return</span> <span class=\"mi\">2</span> <span class=\"o\">*</span> <span class=\"n\">radioTierra</span> <span class=\"o\">*</span> <span class=\"n\">math</span><span class=\"o\">.</span><span class=\"n\">asin</span><span class=\"p\">(</span><span class=\"n\">math</span><span class=\"o\">.</span><span class=\"n\">sqrt</span><span class=\"p\">(</span><span class=\"n\">raiz</span><span class=\"p\">));</span>\n",
       "    \n",
       "    <span class=\"k\">def</span> <span class=\"nf\">distancia</span> <span class=\"p\">(</span><span class=\"bp\">self</span><span class=\"p\">,</span> <span class=\"n\">c1</span><span class=\"p\">,</span> <span class=\"n\">c2</span><span class=\"p\">):</span>        \n",
       "        <span class=\"k\">return</span> <span class=\"bp\">self</span><span class=\"o\">.</span><span class=\"n\">matriz</span> <span class=\"p\">[</span><span class=\"n\">c1</span><span class=\"p\">][</span><span class=\"n\">c2</span><span class=\"p\">]</span>\n",
       "</pre></div>\n",
       "</body>\n",
       "</html>\n"
      ],
      "text/plain": [
       "<IPython.core.display.HTML object>"
      ]
     },
     "execution_count": 16,
     "metadata": {
     },
     "output_type": "execute_result"
    }
   ],
   "source": [
    "psource (Localizaciones)"
   ]
  },
  {
   "cell_type": "markdown",
   "metadata": {
    "collapsed": false
   },
   "source": [
    "Fíjate que por defecto se carga el fichero `./data/grafo8cidades.txt`, que contiene las coordenadas GPS de 8 ciudades gallegas, siendo Santiago de Compostela la primera de ellas. La primera línea de estos ficheros indica el número de ciudades n, mientras que cada una de las líneas sucesivas especifican las coordenadas de cada ciudad, especificadas como coordenadas GPS (latitud y longitud en grados).\n",
    "\n",
    "Puedes cargar otro fichero haciendo uso del parámetro `filename` como se muestra a continuación. Si todo va bien, la primera distancia entre la ciudad 0 y 1 debe ser unos 55 km.\n",
    "\n",
    "❗ Para esta práctica, **debéis utilizar** el fichero `./data/grafo100cidades.txt` que contiene las coordenadas de 100 concellos gallegos."
   ]
  },
  {
   "cell_type": "code",
   "execution_count": 7,
   "metadata": {
    "collapsed": false
   },
   "outputs": [
    {
     "name": "stdout",
     "output_type": "stream",
     "text": [
      "55.88273580792048\n",
      "119.30959564041359\n",
      "68.81748609463234\n"
     ]
    }
   ],
   "source": [
    "g1=Localizaciones(filename='./data/grafo8cidades.txt')\n",
    "print (g1.distancia(0,1))\n",
    "g2=Localizaciones(filename='./data/grafos10_10/grafo_1.txt')\n",
    "print (g2.distancia(0,1))\n",
    "g3=Localizaciones(filename='./data/grafo100cidades.txt')\n",
    "print(g3.distancia(0,1))"
   ]
  },
  {
   "cell_type": "markdown",
   "metadata": {
    "collapsed": false
   },
   "source": [
    "\n",
    "## P2.1: Implementación básica de Búsqueda Tabú (especificación obligatoria, 6pts)\n"
   ]
  },
  {
   "cell_type": "markdown",
   "metadata": {
    "collapsed": false,
    "tags": [
    ]
   },
   "source": [
    "\n",
    "En este apartado debes desarrollar una **versión básica del algoritmo de Búsqueda Tabú que resuelva el problema del viajante de comercio (TSP)** aplicado a los concellos de Galicia. La especificación del algoritmo será muy detallada, ya que el objetivo principal de esta primera parte es que dispongas de una implementación totalmente funcional y verificada que resuelva el problema correctamente.\n",
    "Igual que en la práctica anterior (P1), consideramos que el recorrido es circular (empieza y termina en el mismo concello) y que tienen que pasar por N=100 concellos de Galicia. Implementa el algoritmo básico de Búsqueda Tabú para resolver el problema del VC enunciado arriba. Para ello, revisa la descripción algorítmica de la MH vista en la clase expositiva.\n",
    "\n",
    "Ten en cuenta las **siguientes consideraciones** de diseño para completar la implementación básica:\n",
    "- **Representación  de  las  soluciones:**  representación  de  orden  (permutaciones)  **comenzando y finalizando en la ciudad 0**. Es decir, utilizamos una representación de orden formada por una secuencia de valores numéricos que representan cada uno de los concellos {0, 1, ..., 99}. Consideramos siempre como punto de partida y retorno el concello 0, por lo que efectivamente una solución *S* se representa como una permutación de los demás valores {1, ..., 99}. \n",
    "\n",
    "\n",
    "- **Solución inicial:** generación **totalmente aleatoria** de una permutación válida como está explicado en los apartados previos. \n",
    "\n",
    "❗  **NOTA: Es importante que la generación de la solución inicial se implemente en una función propia y que después, esta solución inicial se pase a la función que implementa el algoritmo de búsqueda tabú *per se*.**\n",
    "\n",
    "\n",
    "- **Operador  de  generación de vecindario de una solución** (generación de la solución  siguiente  $S_{cand}$  a  partir  de  la  actual  $S_{act}$): Se utilizará el **operador  de  intercambio** y se generarán *todos los posibles intercambios**. Es decir, con este operador, se explota el vecindario de forma completa, con lo que se genera el siguiente número de vecinos:\n",
    "\n",
    "$$ \\sum_{i=1}^{L-1}i = \\frac{L(L-1)}{2} $$\n",
    "\n",
    "donde *L* es la longitud de la solución y se ha tenido en cuenta que es lo mismo intercambiar los vecinos *i, j* que *j, i*.\n",
    "\n",
    "❗  **NOTA: Es importante que la generación del vecindario de una solución se implemente en una función propia y que después, el vecino seleccionado, se pase a la función que implementa el algoritmo de búsqueda tabú *per se*.**\n",
    "\n",
    "\n",
    "\n",
    "- **Función de coste:** suma de las distancias del camino según el orden del recorrido teniendo en cuenta que se parte de y se llega al concello 0.  La distancia se calcula teniendo en cuenta los siguientes tres elementos:\n",
    "    - Distancia desde el concello 0 al primer concello de la solución: 0 -> S[0]\n",
    "    - Distancia recorrida en la solución: S[0] -> S[1] -> ... -> S[-1]\n",
    "    - Distancia recorrida desde el concello final al concello 0: S[-1] ->0\n",
    "    \n",
    "\n",
    "\n",
    "- **Lista Tabú:** La lista tabú (LT) estará formada por los **movimientos de intercambio de índices** {i,j} que den lugar a las soluciones que forman la trayectoria de búsqueda. Tenéis que establecer **N=100** como parámetro de tenencia tabú, esto es, el tamaño de la lista tabú será de **N** elementos, de forma que un movimiento {i,j} saldrá de la lista tabú después de **N=100** operaciones y volverá a estar permitido.\n",
    "\n",
    "\n",
    "- **Reinicialización:** En el caso de que transcurran **1000 iteraciones consecutivas** sin que mejore la solución óptima $S_{opt}$ alcanzada hasta el momento, se hará una reinicialización desde ella: $S_{opt}$. Se trata por tanto de una estrategia de reinicialización por **intensificación**. En el reinicio **no se restaura la lista tabú**, para dar opción a visitar vecinos no visitados anteriormente ya que determinados intercambios prohibidos al estar incluidos en la lista tabú. Es decir, cuando se hace un reinicio, se vuelve a la solución $S_{opt}$ y **se vacía la lista tabú.**\n",
    "\n",
    "\n",
    "- **Criterio de parada:** Se finaliza la ejecución cuando se alcanzan **10.000 iteraciones** del algoritmo.\n",
    "\n"
   ]
  },
  {
   "cell_type": "markdown",
   "metadata": {
    "collapsed": false
   },
   "source": [
    "### Preguntas sobre la especificación básica obligatoria (se responde al final del notebook)\n",
    "\n",
    "❓ **Pregunta 1**. Explica brevemente los detalles relevantes de tu código para entender tu implementación (p.ej., estructura de tu código, funciones, etc.)"
   ]
  },
  {
   "cell_type": "markdown",
   "metadata": {
    "collapsed": false
   },
   "source": [
    "❓ **Pregunta 2**. La parte experimental de la práctica consiste en realizar **10 ejecuciones diferentes** de la implementación realizada y reportar:\n",
    "- **Media y desviación** estándar de la mejor solución obtenida.\n",
    "- El **número de iteración** en el que se obtuvo la mejor solución (por lo que debéis mantener además de la solución óptima hasta el momento $S_{opt}$, la iteración en la que se obtiene). \n",
    "- El **tiempo de ejecución** del algoritmo (en las nociones previas se explica cómo hacer esto)."
   ]
  },
  {
   "cell_type": "markdown",
   "metadata": {
    "collapsed": false
   },
   "source": [
    "\n",
    "\n"
   ]
  },
  {
   "cell_type": "markdown",
   "metadata": {
    "collapsed": false
   },
   "source": [
    " \n",
    "## P2.2: Mejoras del algoritmo de Búsqueda Tabú (especificación opcional, 4pts)\n",
    "En este apartado el objetivo es aplicar la resolución del problema que acabáis de programar a un nuevo conjunto de 120 localizaciones tomadas del archivo de [50.000 lugares históricos del Registro Nacional de los EE.UU](http://www.math.uwaterloo.ca/tsp/us/data.html), tal y como se describe en la web del [Traveller Salesman Problem (TSP)](http://www.math.uwaterloo.ca/tsp/) del [Department of Combinatorics and Optimization](https://uwaterloo.ca/combinatorics-and-optimization/) de la University of Waterloo CA [(Prof. William Cook)](http://www.math.uwaterloo.ca/~bico/).\n",
    "Para evitar problemas de tiempo excesivo de cómputo, reduciremos el problema a 120 localizaciones que se indican en el fichero **US120.txt**.\n",
    "\n",
    "**NOTA:** Si alguno de vosotros quiere realizar pruebas con todos los lugares indicados, puede obtener el fichero de texto original en el [siguiente enlace](http://www.math.uwaterloo.ca/tsp/us/files/us50000_latlong.txt).\n",
    "\n",
    "\n",
    "En esta sección el objetivo es realizar mejoras al algoritmo desarrollado previamente, de acuerdo a lo visto en las clases expositivas. Podrá modificarse cualquier parámetro u operador, como por ejemplo:\n",
    "- **Generación de la solución inicial** (inicialización greedy, ...)\n",
    "- **Gestión de la lista tabú** con la inclusión de algún criterio de aspiración (por ejemplo excluir de la lista una solución si mejora a la mejor solución hasta el momento)\n",
    "- El **operador de generación de vecinos** (por ejemplo no considerar todos los pares de índices, cambiar el operador de generación, ...)\n",
    "- Utilizar **otras estrategias de reinicialización** por intensificación (por ejemplo reiniciar desde una solución aleatoria de un conjunto de las N mejores soluciones hasta ahora, restaurar la lista tabú, ...).\n",
    "- Cambiar la **estrategia de reinicialización para dar diversificación** con una estrategia de **memoria a largo plazo**. Como puede ser utilizar una matriz simétriza *frec* que almacene elnúmero de veces que cada par de ciudades han sido consecutivas en las soluciones aceptadas hasta el momento. Con esta matriz de frecuencias se podría realizar una inicialización voraz sobre una matriz de distancias modificada que incluya las frecuencias almacenadas en memoria y penalice los pares de ciudads con mayor frecuencia, incrementando ficticiamente su distancia:\n",
    "\n",
    "$$ D(i,j)_{MOD} = D(i,j) + \\mu (D_{MAX} - D_{min}) \\frac{frec(i,j)}{frec_{MAX}} $$\n",
    "\n",
    "- Utilizar un criterio de **oscilación estratégica** que alterne entre las estrategias de intensificación y diversificación**-"
   ]
  },
  {
   "cell_type": "markdown",
   "metadata": {
    "collapsed": false
   },
   "source": [
    "### Preguntas sobre la práctica optativa con las mejoras (se responde al final del notebook)\n",
    "\n",
    "❓ **Pregunta 3**. ¿Qué intervenciones de mejora te ha llevado a mejores resultados? Explica brevemente las mejoras o intervenciones de mejora realizadas, cómo la has implementado, porqué las consideras buenas para el problema y presenta tus conclusiones acompañadas de los resultados obtenidos.\n"
   ]
  },
  {
   "cell_type": "markdown",
   "metadata": {
    "collapsed": false
   },
   "source": [
    "---\n",
    "\n",
    "# Respuestas a las preguntas y evaluación\n",
    "\n",
    "**Recordatorio:** No olvides escribir tu nombre y apellidos en la segunda celda de este documento.\n",
    "La respuestas a las preguntas deben venir acompañadas de las implementaciones necesarias para su respuesta.\n",
    "\n",
    "## P2.1 Especificación obligatoria (6pt)\n",
    "\n",
    "La implementación básica se evaluará mediante un cuestionario automático de evaluación. Es también necesaria **realizar la implementación del algoritmo** y **responder a las preguntas 1 y 2** respectivamente. El cuestionario de evaluación lo realizarás en la primera sesión de la próxima práctica, y se centrará en la resolución por tu parte de diversas cuestiones prácticas relacionadas con la implementación realizada, pudiendo ser necesaria la ejecución, adaptación y modificación de la misma.\n",
    "\n",
    "Aclaración: Independientemente del cuestionario automático de evaluación, siempre considera que las preguntas planteadas en el notebook deben ser respondidas también. Esas preguntas generales están diseñadas para formarte, y te servián para razonar y reflexionar sobre el tema, así como también para fomentar una discusión constructiva con los docentes en caso de dudas.\n",
    "\n",
    "\n",
    "### **Pregunta 1** \n",
    "\n",
    "Explica brevemente los detalles relevantes de tu código para entender tu implementación (p.ej., estructura de tu código, funciones, etc.)\n",
    "\n",
    "*Incluye todas las celdas que consideres oportunas para que sea legible y fácil de seguir.*\n",
    "\n",
    "<div class=\"alert alert-block alert-danger\">\n",
    "    <b>NOTA:</b> ¿Cómo me aseguro de que mi implementación es correcta?\n",
    "    \n",
    "Es importante que para poder comprobar la correcta implementación de tu solución, tu código tenga en cuenta los siguientes elementos:\n",
    "-  Mantener en cada iteración la mejor solución encontrada hasta el momento y la iteración en la que se encontró\n",
    "-  Que puedas imprimir los elementos que se encuentran en la lista tabú\n",
    "-  Saber en qué iteraciones se llevaron a cabo los reinicios\n",
    "</div>\n",
    "\n",
    "<div class=\"alert alert-block alert-success\">\n",
    "<b>NOTA:</b>  Para verificar tu implementación, debes utilizar el fichero de localizaciones de los 100 concellos gallegos (grafo100cidades.txt). Puedes utilizar como prueba para verificar que la implementaición es correcta inicialmente, el fichero de localizaciones de 8 ciudades gallegas (grafo8cidades.txt). La solución óptima resuelta con una búsqueda informada como A* se situa en torno a los 382km para el problema de prueba con 8 ciudades.\n",
    "</div>\n",
    "    \n",
    "<div class=\"alert alert-block alert-success\">    \n",
    "<b>AYUDA EXTRA</b>: Si quieres comprobar la implementación de tu práctica puedes probar a utilizar como solución inicial la solución siguiente (pasándosela directamente a la función que implementa el algoritmo de búsqueda tabú):\n",
    "    \n",
    "<b> Solución inicial: </b> \n",
    "- [77, 9, 43, 73, 2, 53, 12, 83, 92, 33, 50, 63, 54, 59, 64, 74, 55, 14, 35, 5, 58, 87, 37, 7, 69, 79, 89, 21, 23, 80, 20, 56, 75, 68, 27, 95, 78, 25, 88, 51, 47, 91, 49, 60, 13, 36, 70, 42, 11, 22, 40, 72, 28, 97, 19, 71, 29, 90, 85, 76, 16, 24, 81, 84, 34, 8, 31, 38, 67, 45, 44, 32, 96, 10, 61, 94, 17, 18, 93, 30, 52, 66, 99, 26, 46, 39, 15, 86, 41, 4, 62, 1, 48, 82, 57, 98, 3, 65, 6]\n",
    "\n",
    "Como resultados, deberías obtener los siguientes:\n",
    "- <b>Mejor solución:</b> [59, 69, 75, 53, 44, 10, 87, 12, 73, 38, 94, 41, 51, 15, 9, 99, 46, 32, 17, 92, 64, 37, 55, 23, 65, 79, 20, 4, 62, 86, 11, 63, 72, 26, 14, 48, 35, 60, 83, 70, 98, 47, 43, 58, 85, 19, 40, 5, 96, 68, 45, 25, 50, 89, 74, 27, 33, 97, 7, 84, 21, 16, 67, 66, 88, 29, 95, 8, 81, 31, 30, 49, 93, 61, 1, 78, 34, 13, 2, 80, 56, 82, 6, 22, 36, 71, 18, 91, 52, 90, 54, 57, 39, 28, 76, 24, 42, 77, 3]\n",
    "- <b> Coste de la solución: </b> 1663.18\n",
    "- <b>Iteración en la que se encuentra la mejor solución (empezando a contar en 1):</b> 4633\n",
    "    \n",
    "    \n",
    "    \n",
    "<b>Prueba adicional con el fichero de grafo50cidadesA.txt</b>:\n",
    "    \n",
    "<b> Solución inicial: </b> \n",
    "- [25, 6, 43, 23, 13, 47, 4, 11, 46, 41, 15, 38, 21, 26, 14, 42, 49, 32, 33, 3, 12, 20, 8, 48, 39, 28, 37, 45, 36, 2, 17, 9, 31, 29, 7, 24, 1, 5, 18, 35, 44, 22, 16, 30, 34, 10, 40, 19, 27]\n",
    "\n",
    "Como resultados, deberías obtener los siguientes:\n",
    "- <b>Mejor solución:</b> [16, 21, 28, 23, 37, 39, 7, 2, 34, 13, 38, 27, 33, 6, 22, 20, 4, 32, 17, 46, 18, 36, 11, 26, 14, 9, 15, 41, 48, 25, 45, 35, 5, 40, 19, 47, 43, 12, 49, 1, 31, 30, 10, 44, 8, 29, 3, 42, 24]\n",
    "- <b> Coste de la solución: </b> 1032.76\n",
    "- <b>Iteración en la que se encuentra la mejor solución (empezando a contar en 1):</b> 4280\n",
    "</div>\n",
    "\n",
    "\n",
    "## Código"
   ]
  },
  {
   "cell_type": "code",
   "execution_count": 17,
   "metadata": {
    "collapsed": false
   },
   "outputs": [
    {
     "name": "stdout",
     "output_type": "stream",
     "text": [
      "455.35456260967374\n",
      "455.35456260967374\n",
      "560.1529486462811\n",
      "560.1529486462811\n"
     ]
    }
   ],
   "source": [
    "# escribe aqui el codigo de la implementacion basica del algoritmo de busqueda tabu\n",
    "# se dan pre-definidas las funciones mínimas que debe tener la implementación, dales los parámetros que creas oportunos\n",
    "# puedes definir funciones adicionales, estos solo son los requisitos mínimos\n",
    "# recuerda que puedes incluir tantas celdas como quieras\n",
    "\n",
    "import random\n",
    "import time\n",
    "\n",
    "# funcion de generacion de solucion inicial\n",
    "def genera_solucion_inicial(longitud):\n",
    "    random.seed(time.time())\n",
    "    #se obtiene un array con las ciudades intermedias mezcladas\n",
    "    vector_aleatorio = random.sample(list(range(1, longitud)), longitud-1)\n",
    "    return vector_aleatorio\n",
    "\n",
    "def coste_ini(g, solucion):\n",
    "    suma_coste = 0\n",
    "    #se van sumando las distancias entre las ciudades de la solucion\n",
    "    for i in range(0, len(solucion)-1):\n",
    "        suma_coste += g.distancia(solucion[i], solucion[i+1])\n",
    "    return suma_coste\n",
    "\n",
    "\n",
    "# funcion de generacion de vencindario\n",
    "def genera_vecindario(solucionIni, g, costeIni):\n",
    "    vecindario={}\n",
    "    s = solucionIni\n",
    "    for i in range(len(s)):\n",
    "        for j in range(i+1, len(s)):\n",
    "            c = coste_incremental([0]+s+[0], [i+1, j+1], g, costeIni)\n",
    "            vecindario[c] = [i, j]\n",
    "    return vecindario\n",
    "\n",
    "def coste_incremental(solIni, intercambio, g, costeIni):\n",
    "    difcoste=0\n",
    "    #restamos los recorridos que rompemos\n",
    "    difcoste =  - g.distancia(solIni[intercambio[0] - 1], solIni[intercambio[0]])\n",
    "    difcoste -= g.distancia(solIni[intercambio[1]], solIni[intercambio[1] + 1 ])\n",
    "    #y sumamos los nuevos\n",
    "    difcoste += g.distancia(solIni[intercambio[0] - 1], solIni[intercambio[1]])\n",
    "    difcoste += g.distancia(solIni[intercambio[0]], solIni[intercambio[1] + 1])\n",
    "    #si las posiciones son seguidas, no hacen falta más operaciones. Si no:\n",
    "    if (intercambio[0] != (intercambio[1]-1)):\n",
    "        #restas\n",
    "        difcoste -= g.distancia(solIni[intercambio[0]], solIni[intercambio[0] + 1])\n",
    "        difcoste -= g.distancia(solIni[intercambio[1] - 1], solIni[intercambio[1]])\n",
    "        #sumas\n",
    "        difcoste += g.distancia(solIni[intercambio[1]], solIni[intercambio[0] + 1])\n",
    "        difcoste += g.distancia(solIni[intercambio[1] -1], solIni[intercambio[0]])\n",
    "    return (difcoste + costeIni)\n",
    "\n",
    "#calcular el coste de todos los posibles vecinos va a ser muy poco eficient\n",
    "#si sabemos la solucion inicial y su coste\n",
    "#solamente cambian 4 tramos de la solución (de cambiar 2 posiciones con el elemento de antes y de despues)\n",
    "#y el resto de distancias siguen iguales\n",
    "#podríamos restarle al coste inicial, el coste de los segmentos que se van a cambiar\n",
    "#y sumarle la distancia de los nuevos tramos\n",
    "#calcular el coste incrementalmente con la solucion inicial, el intercambio que se lleva a cabo, el grafo para poder saber las distancias, y el coste\n",
    "#el vecindario lo podemos especificar como una lista de intercambios, y el coste de aplicar ese intercambio\n",
    "\n",
    "def intercambio(s0, indice1, indice2):\n",
    "    aux = s0[indice1]\n",
    "    s0[indice1] = s0[indice2]\n",
    "    s0[indice2] = aux\n",
    "    return s0\n",
    "\n",
    "\n",
    "from collections import deque\n",
    "import numpy as np\n",
    "import copy\n",
    "\n",
    "# funcion que implementa el algoritmo búsqueda tabú\n",
    "def busqueda_tabu(s0, iteraciones=10000, filename='./data/grafo100cidades.txt'):\n",
    "    maxLT = 100\n",
    "    INFINITO = 10000000\n",
    "    \n",
    "    g = Localizaciones(filename=filename)\n",
    "    sMejor = []\n",
    "    sAct = s0\n",
    "    itActualizacion = 0\n",
    "    costeMin = coste_ini(g, [0] + sAct + [0])\n",
    "    fitnessAct = costeMin\n",
    "    listaTabu = deque()\n",
    "    iteracion = 0\n",
    "    reinicios = []\n",
    "    while (iteracion < iteraciones):\n",
    "        vecinos = genera_vecindario(sAct, g, fitnessAct)\n",
    "        fitnessAct = INFINITO #infinito\n",
    "        #de los vecinos generados, ver que no esté en la lista tabú\n",
    "        for i in range(len(vecinos.keys())):\n",
    "            cmin = np.amin(list(vecinos.keys()))\n",
    "            #si el intercambio con el coste minimo encontrado no está en la lista tabú, nos quedamos con él\n",
    "            if (vecinos[cmin] not in listaTabu):\n",
    "                fitnessAct = cmin\n",
    "                sAct = intercambio(sAct, vecinos[cmin][0], vecinos[cmin][1])\n",
    "                break; #sale del bucle for\n",
    "            else: #se borra de vecinos y busca el siguiente mínimo\n",
    "                del vecinos[cmin]\n",
    "        if (fitnessAct == INFINITO):\n",
    "                break; #sale del while pq todos los vecinos generados están en la lista tabú\n",
    "        #si la solucion obtenida es mejor que la mejor obtenida hasta ahora, se actualiza\n",
    "        if (fitnessAct < costeMin):\n",
    "            itActualizacion = iteracion\n",
    "            sMejor = []\n",
    "            sMejor = sAct.copy()\n",
    "            costeMin = fitnessAct\n",
    "        #REINICIALIZACION\n",
    "        if (itActualizacion == (iteracion - 1000) or (itActualizacion < (iteracion -1000) and (len(reinicios) > 0) and (reinicios[-1] == (iteracion - 1000)))):\n",
    "            sAct = sMejor.copy()\n",
    "            fitnessAct = costeMin\n",
    "            reinicios.append(iteracion)\n",
    "            #itActualizacion = iteracion\n",
    "            #vaciamos la lista tabú\n",
    "            listaTabu.clear()\n",
    "        #metemos el nuevo\n",
    "        listaTabu.append(vecinos[cmin])\n",
    "        if (len(listaTabu) > maxLT):\n",
    "            listaTabu.popleft() #quitamos el primer elemento de la lista tabu\n",
    "        iteracion += 1\n",
    "    print(reinicios)\n",
    "    return (sMejor, costeMin, itActualizacion)\n",
    "#en cada iteracion se genera el mejor vecino de Nrestringido (sin tener en cuenta los moviemientos de la lista tabú)\n",
    "#diccionario, indexado por el coste para poder sacar de manera eficiente el de menor coste\n",
    "\n",
    "\n",
    "\n",
    "\n",
    "#comprobacion de funcion coste_incremental\n",
    "g=Localizaciones(filename='./data/grafo8cidades.txt')\n",
    "c=coste_incremental([0,1,2,3,4,5,6,7,0], [1,2], g, coste_ini(g, [0,1,2,3,4,5,6,7,0]))\n",
    "print(c)\n",
    "print(coste_ini(g, [0,2,1,3,4,5,6,7,0]))\n",
    "c2 = coste_incremental([0,1,2,3,4,5,6,7,0], [1,4], g, coste_ini(g, [0,1,2,3,4,5,6,7,0]))\n",
    "print(coste_ini(g, [0,4,2,3,1,5,6,7,0]))\n",
    "print(c2)\n"
   ]
  },
  {
   "cell_type": "code",
   "execution_count": 5,
   "metadata": {
    "collapsed": false,
    "scrolled": true
   },
   "outputs": [
    {
     "ename": "KeyboardInterrupt",
     "evalue": "",
     "output_type": "error",
     "traceback": [
      "\u001b[0;31m---------------------------------------------------------------------------\u001b[0m",
      "\u001b[0;31mKeyboardInterrupt\u001b[0m                         Traceback (most recent call last)",
      "\u001b[0;32m/tmp/ipykernel_301/2249202582.py\u001b[0m in \u001b[0;36m<cell line: 2>\u001b[0;34m()\u001b[0m\n\u001b[1;32m      1\u001b[0m \u001b[0mtIni\u001b[0m \u001b[0;34m=\u001b[0m \u001b[0mtime\u001b[0m\u001b[0;34m.\u001b[0m\u001b[0mtime\u001b[0m\u001b[0;34m(\u001b[0m\u001b[0;34m)\u001b[0m\u001b[0;34m\u001b[0m\u001b[0;34m\u001b[0m\u001b[0m\n\u001b[0;32m----> 2\u001b[0;31m \u001b[0msol\u001b[0m \u001b[0;34m=\u001b[0m \u001b[0mbusqueda_tabu\u001b[0m\u001b[0;34m(\u001b[0m\u001b[0;34m[\u001b[0m\u001b[0;36m25\u001b[0m\u001b[0;34m,\u001b[0m \u001b[0;36m6\u001b[0m\u001b[0;34m,\u001b[0m \u001b[0;36m43\u001b[0m\u001b[0;34m,\u001b[0m \u001b[0;36m23\u001b[0m\u001b[0;34m,\u001b[0m \u001b[0;36m13\u001b[0m\u001b[0;34m,\u001b[0m \u001b[0;36m47\u001b[0m\u001b[0;34m,\u001b[0m \u001b[0;36m4\u001b[0m\u001b[0;34m,\u001b[0m \u001b[0;36m11\u001b[0m\u001b[0;34m,\u001b[0m \u001b[0;36m46\u001b[0m\u001b[0;34m,\u001b[0m \u001b[0;36m41\u001b[0m\u001b[0;34m,\u001b[0m \u001b[0;36m15\u001b[0m\u001b[0;34m,\u001b[0m \u001b[0;36m38\u001b[0m\u001b[0;34m,\u001b[0m \u001b[0;36m21\u001b[0m\u001b[0;34m,\u001b[0m \u001b[0;36m26\u001b[0m\u001b[0;34m,\u001b[0m \u001b[0;36m14\u001b[0m\u001b[0;34m,\u001b[0m \u001b[0;36m42\u001b[0m\u001b[0;34m,\u001b[0m \u001b[0;36m49\u001b[0m\u001b[0;34m,\u001b[0m \u001b[0;36m32\u001b[0m\u001b[0;34m,\u001b[0m \u001b[0;36m33\u001b[0m\u001b[0;34m,\u001b[0m \u001b[0;36m3\u001b[0m\u001b[0;34m,\u001b[0m \u001b[0;36m12\u001b[0m\u001b[0;34m,\u001b[0m \u001b[0;36m20\u001b[0m\u001b[0;34m,\u001b[0m \u001b[0;36m8\u001b[0m\u001b[0;34m,\u001b[0m \u001b[0;36m48\u001b[0m\u001b[0;34m,\u001b[0m \u001b[0;36m39\u001b[0m\u001b[0;34m,\u001b[0m \u001b[0;36m28\u001b[0m\u001b[0;34m,\u001b[0m \u001b[0;36m37\u001b[0m\u001b[0;34m,\u001b[0m \u001b[0;36m45\u001b[0m\u001b[0;34m,\u001b[0m \u001b[0;36m36\u001b[0m\u001b[0;34m,\u001b[0m \u001b[0;36m2\u001b[0m\u001b[0;34m,\u001b[0m \u001b[0;36m17\u001b[0m\u001b[0;34m,\u001b[0m \u001b[0;36m9\u001b[0m\u001b[0;34m,\u001b[0m \u001b[0;36m31\u001b[0m\u001b[0;34m,\u001b[0m \u001b[0;36m29\u001b[0m\u001b[0;34m,\u001b[0m \u001b[0;36m7\u001b[0m\u001b[0;34m,\u001b[0m \u001b[0;36m24\u001b[0m\u001b[0;34m,\u001b[0m \u001b[0;36m1\u001b[0m\u001b[0;34m,\u001b[0m \u001b[0;36m5\u001b[0m\u001b[0;34m,\u001b[0m \u001b[0;36m18\u001b[0m\u001b[0;34m,\u001b[0m \u001b[0;36m35\u001b[0m\u001b[0;34m,\u001b[0m \u001b[0;36m44\u001b[0m\u001b[0;34m,\u001b[0m \u001b[0;36m22\u001b[0m\u001b[0;34m,\u001b[0m \u001b[0;36m16\u001b[0m\u001b[0;34m,\u001b[0m \u001b[0;36m30\u001b[0m\u001b[0;34m,\u001b[0m \u001b[0;36m34\u001b[0m\u001b[0;34m,\u001b[0m \u001b[0;36m10\u001b[0m\u001b[0;34m,\u001b[0m \u001b[0;36m40\u001b[0m\u001b[0;34m,\u001b[0m \u001b[0;36m19\u001b[0m\u001b[0;34m,\u001b[0m \u001b[0;36m27\u001b[0m\u001b[0;34m]\u001b[0m\u001b[0;34m,\u001b[0m \u001b[0mfilename\u001b[0m\u001b[0;34m=\u001b[0m\u001b[0;34m'./data/grafo50cidadesA.txt'\u001b[0m\u001b[0;34m)\u001b[0m\u001b[0;34m\u001b[0m\u001b[0;34m\u001b[0m\u001b[0m\n\u001b[0m\u001b[1;32m      3\u001b[0m \u001b[0mtFin\u001b[0m \u001b[0;34m=\u001b[0m \u001b[0mtime\u001b[0m\u001b[0;34m.\u001b[0m\u001b[0mtime\u001b[0m\u001b[0;34m(\u001b[0m\u001b[0;34m)\u001b[0m\u001b[0;34m\u001b[0m\u001b[0;34m\u001b[0m\u001b[0m\n\u001b[1;32m      4\u001b[0m \u001b[0mprint\u001b[0m\u001b[0;34m(\u001b[0m\u001b[0msol\u001b[0m\u001b[0;34m[\u001b[0m\u001b[0;36m1\u001b[0m\u001b[0;34m]\u001b[0m\u001b[0;34m,\u001b[0m \u001b[0msol\u001b[0m\u001b[0;34m[\u001b[0m\u001b[0;36m2\u001b[0m\u001b[0;34m]\u001b[0m\u001b[0;34m+\u001b[0m\u001b[0;36m1\u001b[0m\u001b[0;34m)\u001b[0m\u001b[0;34m\u001b[0m\u001b[0;34m\u001b[0m\u001b[0m\n\u001b[1;32m      5\u001b[0m \u001b[0mprint\u001b[0m\u001b[0;34m(\u001b[0m\u001b[0;34m'Tiempo ejecución: '\u001b[0m\u001b[0;34m,\u001b[0m \u001b[0mtFin\u001b[0m\u001b[0;34m-\u001b[0m\u001b[0mtIni\u001b[0m\u001b[0;34m)\u001b[0m\u001b[0;34m\u001b[0m\u001b[0;34m\u001b[0m\u001b[0m\n",
      "\u001b[0;32m/tmp/ipykernel_301/255701293.py\u001b[0m in \u001b[0;36mbusqueda_tabu\u001b[0;34m(s0, iteraciones, filename)\u001b[0m\n\u001b[1;32m     85\u001b[0m     \u001b[0mreinicios\u001b[0m \u001b[0;34m=\u001b[0m \u001b[0;34m[\u001b[0m\u001b[0;34m]\u001b[0m\u001b[0;34m\u001b[0m\u001b[0;34m\u001b[0m\u001b[0m\n\u001b[1;32m     86\u001b[0m     \u001b[0;32mwhile\u001b[0m \u001b[0;34m(\u001b[0m\u001b[0miteracion\u001b[0m \u001b[0;34m<\u001b[0m \u001b[0miteraciones\u001b[0m\u001b[0;34m)\u001b[0m\u001b[0;34m:\u001b[0m\u001b[0;34m\u001b[0m\u001b[0;34m\u001b[0m\u001b[0m\n\u001b[0;32m---> 87\u001b[0;31m         \u001b[0mvecinos\u001b[0m \u001b[0;34m=\u001b[0m \u001b[0mgenera_vecindario\u001b[0m\u001b[0;34m(\u001b[0m\u001b[0msAct\u001b[0m\u001b[0;34m,\u001b[0m \u001b[0mg\u001b[0m\u001b[0;34m,\u001b[0m \u001b[0mfitnessAct\u001b[0m\u001b[0;34m)\u001b[0m\u001b[0;34m\u001b[0m\u001b[0;34m\u001b[0m\u001b[0m\n\u001b[0m\u001b[1;32m     88\u001b[0m         \u001b[0mfitnessAct\u001b[0m \u001b[0;34m=\u001b[0m \u001b[0mINFINITO\u001b[0m \u001b[0;31m#infinito\u001b[0m\u001b[0;34m\u001b[0m\u001b[0;34m\u001b[0m\u001b[0m\n\u001b[1;32m     89\u001b[0m         \u001b[0;31m#de los vecinos generados, ver que no esté en la lista tabú\u001b[0m\u001b[0;34m\u001b[0m\u001b[0;34m\u001b[0m\u001b[0m\n",
      "\u001b[0;32m/tmp/ipykernel_301/255701293.py\u001b[0m in \u001b[0;36mgenera_vecindario\u001b[0;34m(solucionIni, g, costeIni)\u001b[0m\n\u001b[1;32m     28\u001b[0m     \u001b[0;32mfor\u001b[0m \u001b[0mi\u001b[0m \u001b[0;32min\u001b[0m \u001b[0mrange\u001b[0m\u001b[0;34m(\u001b[0m\u001b[0mlen\u001b[0m\u001b[0;34m(\u001b[0m\u001b[0ms\u001b[0m\u001b[0;34m)\u001b[0m\u001b[0;34m)\u001b[0m\u001b[0;34m:\u001b[0m\u001b[0;34m\u001b[0m\u001b[0;34m\u001b[0m\u001b[0m\n\u001b[1;32m     29\u001b[0m         \u001b[0;32mfor\u001b[0m \u001b[0mj\u001b[0m \u001b[0;32min\u001b[0m \u001b[0mrange\u001b[0m\u001b[0;34m(\u001b[0m\u001b[0mi\u001b[0m\u001b[0;34m+\u001b[0m\u001b[0;36m1\u001b[0m\u001b[0;34m,\u001b[0m \u001b[0mlen\u001b[0m\u001b[0;34m(\u001b[0m\u001b[0ms\u001b[0m\u001b[0;34m)\u001b[0m\u001b[0;34m)\u001b[0m\u001b[0;34m:\u001b[0m\u001b[0;34m\u001b[0m\u001b[0;34m\u001b[0m\u001b[0m\n\u001b[0;32m---> 30\u001b[0;31m             \u001b[0mc\u001b[0m \u001b[0;34m=\u001b[0m \u001b[0mcoste_incremental\u001b[0m\u001b[0;34m(\u001b[0m\u001b[0;34m[\u001b[0m\u001b[0;36m0\u001b[0m\u001b[0;34m]\u001b[0m\u001b[0;34m+\u001b[0m\u001b[0ms\u001b[0m\u001b[0;34m+\u001b[0m\u001b[0;34m[\u001b[0m\u001b[0;36m0\u001b[0m\u001b[0;34m]\u001b[0m\u001b[0;34m,\u001b[0m \u001b[0;34m[\u001b[0m\u001b[0mi\u001b[0m\u001b[0;34m+\u001b[0m\u001b[0;36m1\u001b[0m\u001b[0;34m,\u001b[0m \u001b[0mj\u001b[0m\u001b[0;34m+\u001b[0m\u001b[0;36m1\u001b[0m\u001b[0;34m]\u001b[0m\u001b[0;34m,\u001b[0m \u001b[0mg\u001b[0m\u001b[0;34m,\u001b[0m \u001b[0mcosteIni\u001b[0m\u001b[0;34m)\u001b[0m\u001b[0;34m\u001b[0m\u001b[0;34m\u001b[0m\u001b[0m\n\u001b[0m\u001b[1;32m     31\u001b[0m             \u001b[0mvecindario\u001b[0m\u001b[0;34m[\u001b[0m\u001b[0mc\u001b[0m\u001b[0;34m]\u001b[0m \u001b[0;34m=\u001b[0m \u001b[0;34m[\u001b[0m\u001b[0mi\u001b[0m\u001b[0;34m,\u001b[0m \u001b[0mj\u001b[0m\u001b[0;34m]\u001b[0m\u001b[0;34m\u001b[0m\u001b[0;34m\u001b[0m\u001b[0m\n\u001b[1;32m     32\u001b[0m     \u001b[0;32mreturn\u001b[0m \u001b[0mvecindario\u001b[0m\u001b[0;34m\u001b[0m\u001b[0;34m\u001b[0m\u001b[0m\n",
      "\u001b[0;32m/tmp/ipykernel_301/255701293.py\u001b[0m in \u001b[0;36mcoste_incremental\u001b[0;34m(solIni, intercambio, g, costeIni)\u001b[0m\n\u001b[1;32m     46\u001b[0m         \u001b[0mdifcoste\u001b[0m \u001b[0;34m-=\u001b[0m \u001b[0mg\u001b[0m\u001b[0;34m.\u001b[0m\u001b[0mdistancia\u001b[0m\u001b[0;34m(\u001b[0m\u001b[0msolIni\u001b[0m\u001b[0;34m[\u001b[0m\u001b[0mintercambio\u001b[0m\u001b[0;34m[\u001b[0m\u001b[0;36m1\u001b[0m\u001b[0;34m]\u001b[0m \u001b[0;34m-\u001b[0m \u001b[0;36m1\u001b[0m\u001b[0;34m]\u001b[0m\u001b[0;34m,\u001b[0m \u001b[0msolIni\u001b[0m\u001b[0;34m[\u001b[0m\u001b[0mintercambio\u001b[0m\u001b[0;34m[\u001b[0m\u001b[0;36m1\u001b[0m\u001b[0;34m]\u001b[0m\u001b[0;34m]\u001b[0m\u001b[0;34m)\u001b[0m\u001b[0;34m\u001b[0m\u001b[0;34m\u001b[0m\u001b[0m\n\u001b[1;32m     47\u001b[0m         \u001b[0;31m#sumas\u001b[0m\u001b[0;34m\u001b[0m\u001b[0;34m\u001b[0m\u001b[0m\n\u001b[0;32m---> 48\u001b[0;31m         \u001b[0mdifcoste\u001b[0m \u001b[0;34m+=\u001b[0m \u001b[0mg\u001b[0m\u001b[0;34m.\u001b[0m\u001b[0mdistancia\u001b[0m\u001b[0;34m(\u001b[0m\u001b[0msolIni\u001b[0m\u001b[0;34m[\u001b[0m\u001b[0mintercambio\u001b[0m\u001b[0;34m[\u001b[0m\u001b[0;36m1\u001b[0m\u001b[0;34m]\u001b[0m\u001b[0;34m]\u001b[0m\u001b[0;34m,\u001b[0m \u001b[0msolIni\u001b[0m\u001b[0;34m[\u001b[0m\u001b[0mintercambio\u001b[0m\u001b[0;34m[\u001b[0m\u001b[0;36m0\u001b[0m\u001b[0;34m]\u001b[0m \u001b[0;34m+\u001b[0m \u001b[0;36m1\u001b[0m\u001b[0;34m]\u001b[0m\u001b[0;34m)\u001b[0m\u001b[0;34m\u001b[0m\u001b[0;34m\u001b[0m\u001b[0m\n\u001b[0m\u001b[1;32m     49\u001b[0m         \u001b[0mdifcoste\u001b[0m \u001b[0;34m+=\u001b[0m \u001b[0mg\u001b[0m\u001b[0;34m.\u001b[0m\u001b[0mdistancia\u001b[0m\u001b[0;34m(\u001b[0m\u001b[0msolIni\u001b[0m\u001b[0;34m[\u001b[0m\u001b[0mintercambio\u001b[0m\u001b[0;34m[\u001b[0m\u001b[0;36m1\u001b[0m\u001b[0;34m]\u001b[0m \u001b[0;34m-\u001b[0m\u001b[0;36m1\u001b[0m\u001b[0;34m]\u001b[0m\u001b[0;34m,\u001b[0m \u001b[0msolIni\u001b[0m\u001b[0;34m[\u001b[0m\u001b[0mintercambio\u001b[0m\u001b[0;34m[\u001b[0m\u001b[0;36m0\u001b[0m\u001b[0;34m]\u001b[0m\u001b[0;34m]\u001b[0m\u001b[0;34m)\u001b[0m\u001b[0;34m\u001b[0m\u001b[0;34m\u001b[0m\u001b[0m\n\u001b[1;32m     50\u001b[0m     \u001b[0;32mreturn\u001b[0m \u001b[0;34m(\u001b[0m\u001b[0mdifcoste\u001b[0m \u001b[0;34m+\u001b[0m \u001b[0mcosteIni\u001b[0m\u001b[0;34m)\u001b[0m\u001b[0;34m\u001b[0m\u001b[0;34m\u001b[0m\u001b[0m\n",
      "\u001b[0;32m~/P2_TabuSearch/helpers_mod_sa.py\u001b[0m in \u001b[0;36mdistancia\u001b[0;34m(self, c1, c2)\u001b[0m\n\u001b[1;32m     57\u001b[0m         \u001b[0;32mreturn\u001b[0m \u001b[0;36m2\u001b[0m \u001b[0;34m*\u001b[0m \u001b[0mradioTierra\u001b[0m \u001b[0;34m*\u001b[0m \u001b[0mmath\u001b[0m\u001b[0;34m.\u001b[0m\u001b[0masin\u001b[0m\u001b[0;34m(\u001b[0m\u001b[0mmath\u001b[0m\u001b[0;34m.\u001b[0m\u001b[0msqrt\u001b[0m\u001b[0;34m(\u001b[0m\u001b[0mraiz\u001b[0m\u001b[0;34m)\u001b[0m\u001b[0;34m)\u001b[0m\u001b[0;34m;\u001b[0m\u001b[0;34m\u001b[0m\u001b[0;34m\u001b[0m\u001b[0m\n\u001b[1;32m     58\u001b[0m \u001b[0;34m\u001b[0m\u001b[0m\n\u001b[0;32m---> 59\u001b[0;31m     \u001b[0;32mdef\u001b[0m \u001b[0mdistancia\u001b[0m \u001b[0;34m(\u001b[0m\u001b[0mself\u001b[0m\u001b[0;34m,\u001b[0m \u001b[0mc1\u001b[0m\u001b[0;34m,\u001b[0m \u001b[0mc2\u001b[0m\u001b[0;34m)\u001b[0m\u001b[0;34m:\u001b[0m\u001b[0;34m\u001b[0m\u001b[0;34m\u001b[0m\u001b[0m\n\u001b[0m\u001b[1;32m     60\u001b[0m         \u001b[0;32mreturn\u001b[0m \u001b[0mself\u001b[0m\u001b[0;34m.\u001b[0m\u001b[0mmatriz\u001b[0m \u001b[0;34m[\u001b[0m\u001b[0mc1\u001b[0m\u001b[0;34m]\u001b[0m\u001b[0;34m[\u001b[0m\u001b[0mc2\u001b[0m\u001b[0;34m]\u001b[0m\u001b[0;34m\u001b[0m\u001b[0;34m\u001b[0m\u001b[0m\n\u001b[1;32m     61\u001b[0m \u001b[0;34m\u001b[0m\u001b[0m\n",
      "\u001b[0;31mKeyboardInterrupt\u001b[0m: "
     ]
    }
   ],
   "source": [
    "tIni = time.time()\n",
    "sol = busqueda_tabu([25, 6, 43, 23, 13, 47, 4, 11, 46, 41, 15, 38, 21, 26, 14, 42, 49, 32, 33, 3, 12, 20, 8, 48, 39, 28, 37, 45, 36, 2, 17, 9, 31, 29, 7, 24, 1, 5, 18, 35, 44, 22, 16, 30, 34, 10, 40, 19, 27], filename='./data/grafo50cidadesA.txt')\n",
    "tFin = time.time()\n",
    "print(sol[1], sol[2]+1)\n",
    "print('Tiempo ejecución: ', tFin-tIni)"
   ]
  },
  {
   "cell_type": "code",
   "execution_count": 17,
   "metadata": {
    "collapsed": false
   },
   "outputs": [
    {
     "name": "stdout",
     "output_type": "stream",
     "text": [
      "73.0780565738678\n"
     ]
    }
   ],
   "source": [
    "print(tFin-tIni)"
   ]
  },
  {
   "cell_type": "code",
   "execution_count": 8,
   "metadata": {
    "collapsed": false,
    "scrolled": true
   },
   "outputs": [
    {
     "name": "stdout",
     "output_type": "stream",
     "text": [
      "[1698, 4625, 5632, 6632, 7632, 8632, 9632]\n",
      "1663.1801510027742\n"
     ]
    }
   ],
   "source": [
    "#100 CIUDADES\n",
    "sol100 = busqueda_tabu([77, 9, 43, 73, 2, 53, 12, 83, 92, 33, 50, 63, 54, 59, 64, 74, 55, 14, 35, 5, 58, 87, 37, 7, 69, 79, 89, 21, 23, 80, 20, 56, 75, 68, 27, 95, 78, 25, 88, 51, 47, 91, 49, 60, 13, 36, 70, 42, 11, 22, 40, 72, 28, 97, 19, 71, 29, 90, 85, 76, 16, 24, 81, 84, 34, 8, 31, 38, 67, 45, 44, 32, 96, 10, 61, 94, 17, 18, 93, 30, 52, 66, 99, 26, 46, 39, 15, 86, 41, 4, 62, 1, 48, 82, 57, 98, 3, 65, 6], filename='./data/grafo100cidades.txt')\n",
    "print(sol100[1])"
   ]
  },
  {
   "cell_type": "code",
   "execution_count": 11,
   "metadata": {
    "collapsed": false
   },
   "outputs": [
    {
     "data": {
      "text/plain": [
       "1"
      ]
     },
     "execution_count": 11,
     "metadata": {
     },
     "output_type": "execute_result"
    }
   ],
   "source": [
    "import numpy as np\n",
    "np.amin([1,2,3,4])"
   ]
  },
  {
   "cell_type": "markdown",
   "metadata": {
    "collapsed": false
   },
   "source": [
    "###  **Pregunta 2**\n",
    "\n",
    "La parte experimental de la práctica consiste en realizar **10 ejecuciones diferentes** de la implementación realizada y reportar:\n",
    "- **Media y desviación** estándar de las soluciones obtenidas.\n",
    "- El **número de iteración** en el que se obtuvo la mejor solución (por lo que debéis mantener además de la solución óptima hasta el momento $S_{opt}$, la iteración en la que se obtiene). \n",
    "- El **tiempo de ejecución** del algoritmo (en las nociones previas se explica cómo hacer esto).\n",
    "\n",
    "*Incluye todas las celdas que consideres oportunas para que sea legible y fácil de seguir.*\n"
   ]
  },
  {
   "cell_type": "code",
   "execution_count": 3,
   "metadata": {
    "collapsed": false
   },
   "outputs": [
   ],
   "source": [
    "# escribe aquí el código que utilizas para realizar la parte experimental de la práctica\n",
    "def ejecuciones(numero_ejecuciones=10):\n",
    "    soluciones = []\n",
    "    tiempos = []\n",
    "    iteraciones_sol = []\n",
    "    for i in range(numero_ejecuciones):\n",
    "        t_ini = time.time()\n",
    "        sAux = busqueda_tabu(genera_solucion_inicial(99), iteraciones=5000, filename='./data/grafo100cidades.txt')\n",
    "        t_final = time.time()\n",
    "        soluciones.append(sAux[1])\n",
    "        iteraciones_sol.append(sAux[2])\n",
    "        tiempos.append(t_final-t_ini)\n",
    "    return (soluciones, tiempos, iteraciones_sol)\n",
    "\n",
    "import statistics\n",
    "def estadisticas(soluciones):\n",
    "    return (statistics.mean(soluciones), statistics.stdev(soluciones))"
   ]
  },
  {
   "cell_type": "code",
   "execution_count": 0,
   "metadata": {
    "collapsed": false
   },
   "outputs": [
   ],
   "source": [
    "experimento = ejecuciones()\n",
    "stads = estadisticas(experimento[0])"
   ]
  },
  {
   "cell_type": "code",
   "execution_count": 32,
   "metadata": {
    "collapsed": false
   },
   "outputs": [
    {
     "name": "stdout",
     "output_type": "stream",
     "text": [
      "Estadísticas de coste:  (1666.2940310421056, 57.80982253171119)\n",
      "Estadísticas de n iteraciones:  (3815.7, 920.3074425912728)\n",
      "Tiempo:  29.490019019444784\n"
     ]
    }
   ],
   "source": [
    "print('Estadísticas de coste: ', stads)\n",
    "print('Estadísticas de n iteraciones: ', estadisticas(experimento[2]))\n",
    "print('Tiempo en minutos: ', sum(experimento[1])/60, ' minutos')"
   ]
  },
  {
   "cell_type": "markdown",
   "metadata": {
    "collapsed": false,
    "tags": [
    ]
   },
   "source": [
    "❗  **NOTA: sé conservador en tu estrategia para verificar tu implementación**, especialmente cuando empleas ficheros de datos grandes como el del problema de las 100 ciudades. Si dejas ejecutando tu algoritmo por un número elevado de iteraciones, puede resultarte útil medir el tiempo que tarda para tomar decisiones sobre donde establecer el límite. \n",
    "\n",
    "## P2.2 Implementación de las mejoras (4 pt)\n",
    "\n",
    "### **Pregunta 3** \n",
    "\n",
    "¿Qué intervenciones de mejora te ha llevado a mejores resultados? Prepara un informe en el que explices brevemente las mejoras o intervenciones de mejora realizadas, cómo las has implementado, y diseña un laboratorio para obtener resultados que te permitan explicar porqué las consideras buenas para el problema y soportar tus conclusiones acompañadas de los resultados obtenidos. (MAX. aprox. 1200 palabras)\n",
    "\n",
    "Aclaraciones: La evaluación de esta parte se llevará a cabo en términos de la completitud y correctitud del laboratorio implementado, así como de la calidad del propio informe, que debe ser conciso y preciso, pudiendo acompañarse de gráficas y tablas que faciliten y fundamenten la explicación e argumentación. Es muy importante explicar de manera clara, precisa y fundamentada. Se valorará más positivamente las intervenciones de mejora que tengan mayor dificultad de implementación que las triviales. Se reservará hasta un punto que se asignará en términos de la calidad de la mejor solución obtenida entre el conjunto de las prácticas entregadas (es por ello que no debes olvidar marcar en tu informe muy claramente cuál ha sido tu mejor solución y con qué configuración/versión).\n",
    "\n",
    "*Incluye todas las celdas que consideres oportunas para que sea legible y fácil de seguir*"
   ]
  },
  {
   "cell_type": "code",
   "execution_count": 0,
   "metadata": {
    "collapsed": false
   },
   "outputs": [
   ],
   "source": [
    "# escribe aqui el codigo de la implementacion optimizada del algoritmo de busqueda tabu\n",
    "# debe seguir la misma estructuración en funciones que la implementación obligatoria"
   ]
  },
  {
   "cell_type": "markdown",
   "metadata": {
    "collapsed": false
   },
   "source": [
    "**Diferentes tipos de generación de la solución inicial**\n",
    "\n",
    "En la versión incial, la solución inicial la generábamos de manera totalmente aleatoria. La inicialización es un factor importante a la hora de implementar el algoritmo de búsqueda, puesto que puede orientar el recrorrido del algoritmo durante su ejecución. Por eso, en nuestra búsqueda de una mejora, vamos a probar diferentes tipos de generación de la primera solución.\n",
    "\n",
    "En primer lugar, haremos un árbol de expansión mínimo. Recorriendolo, tendremos la solución inicial a utilizar"
   ]
  },
  {
   "cell_type": "code",
   "execution_count": 4,
   "metadata": {
    "collapsed": false
   },
   "outputs": [
   ],
   "source": [
    "#ARBOL EXPANSION MINIMO\n",
    "import networkx as nx\n",
    "def generacion_arbol(filename = './data/US120.txt'):\n",
    "    g = Localizaciones(filename=filename)\n",
    "    G = nx.Graph()\n",
    "    #añadimos las ciudades al grafo como nodos\n",
    "    for i in range(g.nciudades):\n",
    "        G.add_node(i)\n",
    "    #añadimos al grafo las distancias entre ciudades (nodos)\n",
    "    for ciudad1 in range(g.nciudades):\n",
    "        for ciudad2 in range(ciudad1 + 1, g.nciudades):\n",
    "            distancia = g.distancia(ciudad1, ciudad2)\n",
    "            G.add_edge(ciudad1, ciudad2, weight=distancia)\n",
    "    arbol = nx.minimum_spanning_tree(G)\n",
    "    sol = list(nx.dfs_preorder_nodes(arbol, source=0))\n",
    "    return(sol[1:])"
   ]
  },
  {
   "cell_type": "code",
   "execution_count": 21,
   "metadata": {
    "collapsed": false
   },
   "outputs": [
    {
     "name": "stdout",
     "output_type": "stream",
     "text": [
      "[91, 81, 109, 13, 83, 69, 82, 2, 84, 37, 74, 64, 50, 4, 59, 16, 35, 94, 18, 66, 3, 53, 28, 93, 65, 27, 86, 47, 60, 9, 111, 20, 19, 49, 25, 17, 103, 70, 73, 88, 31, 72, 54, 112, 95, 85, 33, 108, 48, 97, 57, 104, 46, 87, 116, 29, 39, 76, 102, 44, 30, 45, 6, 5, 118, 15, 67, 12, 61, 1, 115, 106, 96, 34, 92, 117, 52, 23, 7, 56, 99, 98, 36, 105, 42, 71, 14, 58, 11, 62, 75, 63, 41, 24, 26, 55, 21, 110, 113, 119, 89, 8, 40, 38, 78, 80, 114, 107, 77, 10, 101, 79, 51, 32, 43, 22, 68, 90, 100]\n",
      "coste:  29275.673071751236\n",
      "False\n",
      "tiempo:  0.05643868446350098\n"
     ]
    }
   ],
   "source": [
    "tI = time.time()\n",
    "gen = generacion_arbol()\n",
    "tF = time.time()\n",
    "print(gen)\n",
    "g = Localizaciones(filename='./data/US120.txt')\n",
    "print('coste: ', coste_ini(g, [0]+gen+[0]))\n",
    "print(0 in gen) #la solucion no tiene la ciudad inicial \n",
    "print('tiempo: ', tF-tI)"
   ]
  },
  {
   "cell_type": "markdown",
   "metadata": {
    "collapsed": false
   },
   "source": [
    "Otra manera de generar la solución inicial es la estrategia voraz o greedy. Esata empieza en una ciudad aleatoria y a partir de esta, irá seleccionando la más cercana que todavía no forme parte de la solución."
   ]
  },
  {
   "cell_type": "code",
   "execution_count": 5,
   "metadata": {
    "collapsed": false
   },
   "outputs": [
   ],
   "source": [
    "#INICIALIZACION GREEDY (voraz)\n",
    "def generacion_greedy(filename='./data/US120.txt'):\n",
    "    g = Localizaciones(filename=filename)\n",
    "    long = g.nciudades\n",
    "    visitadas = [False] * long\n",
    "    solucion = []\n",
    "    ciudadAct = 0\n",
    "    \n",
    "    for i in range(long-1):\n",
    "        visitadas[ciudadAct] = True\n",
    "        solucion.append(ciudadAct)\n",
    "        \n",
    "        ciudad_cercana = -1\n",
    "        distancia_minima = float('inf')\n",
    "\n",
    "        for ciudad in range(long):\n",
    "            if not visitadas[ciudad]:\n",
    "                distancia = g.distancia(ciudadAct, ciudad)\n",
    "                if distancia < distancia_minima:\n",
    "                    distancia_minima = distancia\n",
    "                    ciudad_cercana = ciudad\n",
    "        \n",
    "        ciudadAct = ciudad_cercana\n",
    "    solucion.append(ciudadAct) #la ultima\n",
    "    \n",
    "    return solucion[1:]"
   ]
  },
  {
   "cell_type": "code",
   "execution_count": 19,
   "metadata": {
    "collapsed": false
   },
   "outputs": [
    {
     "name": "stdout",
     "output_type": "stream",
     "text": [
      "[91, 81, 109, 119, 89, 8, 40, 38, 105, 36, 42, 4, 59, 16, 35, 94, 18, 66, 3, 53, 50, 64, 74, 37, 84, 2, 69, 83, 82, 13, 78, 80, 114, 107, 77, 10, 101, 79, 51, 22, 68, 90, 100, 43, 32, 71, 110, 113, 14, 58, 11, 62, 75, 63, 41, 24, 21, 55, 28, 93, 65, 27, 86, 47, 60, 9, 111, 20, 49, 25, 17, 92, 34, 117, 52, 23, 103, 96, 70, 73, 88, 31, 72, 54, 112, 95, 85, 33, 108, 48, 97, 57, 6, 45, 30, 102, 44, 76, 39, 29, 116, 87, 5, 118, 15, 67, 12, 61, 115, 106, 1, 98, 99, 56, 7, 19, 104, 46, 26]\n",
      "coste:  27033.84988200304\n",
      "False\n",
      "tiempo:  0.0178682804107666\n"
     ]
    }
   ],
   "source": [
    "tI = time.time()\n",
    "gen = generacion_greedy()\n",
    "tF = time.time()\n",
    "print(gen)\n",
    "g = Localizaciones(filename='./data/US120.txt')\n",
    "print('coste: ', coste_ini(g, [0]+gen+[0]))\n",
    "print(0 in gen) #la solucion no tiene la ciudad inicial \n",
    "print('tiempo: ', tF-tI)"
   ]
  },
  {
   "cell_type": "markdown",
   "metadata": {
    "collapsed": false
   },
   "source": [
    "Otra manera de generar la solucion inicial es generar varias aleatorias de la misma manera que en la implementación inicial y quedarnos con la mejor de estas"
   ]
  },
  {
   "cell_type": "code",
   "execution_count": 6,
   "metadata": {
    "collapsed": false
   },
   "outputs": [
   ],
   "source": [
    "def generacion_mejor_aleatorias(filename='./data/US120.txt'):\n",
    "    g = Localizaciones(filename=filename)\n",
    "    coste = float('inf')\n",
    "    sol = []\n",
    "    for i in range(15):\n",
    "        aux = genera_solucion_inicial(g.nciudades)\n",
    "        cAux = coste_ini(g, aux)\n",
    "        if (cAux < coste):\n",
    "            coste = cAux\n",
    "            sol = aux\n",
    "    return sol"
   ]
  },
  {
   "cell_type": "code",
   "execution_count": 22,
   "metadata": {
    "collapsed": false
   },
   "outputs": [
    {
     "name": "stdout",
     "output_type": "stream",
     "text": [
      "[65, 103, 25, 116, 1, 115, 95, 38, 18, 16, 59, 6, 108, 46, 9, 73, 72, 39, 3, 91, 30, 5, 27, 89, 7, 69, 113, 13, 8, 85, 44, 96, 14, 82, 10, 15, 63, 47, 53, 77, 81, 104, 40, 48, 68, 41, 64, 35, 4, 20, 100, 36, 75, 37, 19, 102, 71, 31, 58, 107, 26, 34, 21, 118, 76, 60, 70, 88, 62, 111, 99, 87, 105, 114, 109, 94, 12, 54, 80, 2, 97, 78, 29, 61, 79, 28, 32, 42, 83, 66, 55, 52, 67, 86, 33, 23, 106, 74, 49, 93, 112, 45, 98, 24, 17, 117, 43, 11, 101, 22, 119, 90, 57, 110, 84, 50, 51, 92, 56]\n",
      "coste:  171503.71065139954\n",
      "tiempo:  0.020794391632080078\n"
     ]
    }
   ],
   "source": [
    "tI = time.time()\n",
    "gen = generacion_mejor_aleatorias()\n",
    "tF = time.time()\n",
    "print(gen)\n",
    "g = Localizaciones(filename='./data/US120.txt')\n",
    "print('coste: ', coste_ini(g, [0]+gen+[0]))\n",
    "print('tiempo: ', tF-tI)"
   ]
  },
  {
   "cell_type": "code",
   "execution_count": 12,
   "metadata": {
    "collapsed": false
   },
   "outputs": [
    {
     "name": "stdout",
     "output_type": "stream",
     "text": [
      "[1979, 2997, 4002]\n"
     ]
    },
    {
     "name": "stdout",
     "output_type": "stream",
     "text": [
      "[1361, 2383, 3387, 4387]\n"
     ]
    },
    {
     "name": "stdout",
     "output_type": "stream",
     "text": [
      "[]\n",
      "Tipo --- Tiempos --- Costes --- itearcion\n",
      "Arbol:  5.652783421675364 26201.040813337862 4992\n",
      "Greedy:  5.636741471290589 25619.983016850812 2387\n",
      "Aleats:  5.3550938685735066 34811.78294222459 4142\n",
      "\n",
      "\n"
     ]
    }
   ],
   "source": [
    "ti_arbol = time.time()\n",
    "sol_arbol = busqueda_tabu(generacion_arbol(), iteraciones=5000, filename='./data/US120.txt')\n",
    "tf_arbol = time.time()\n",
    "\n",
    "ti_greedy = time.time()\n",
    "sol_greedy = busqueda_tabu(generacion_greedy(), iteraciones=5000, filename='./data/US120.txt')\n",
    "tf_greedy = time.time()\n",
    "\n",
    "ti_aleats = time.time()\n",
    "sol_aleats = busqueda_tabu(generacion_mejor_aleatorias(),iteraciones=5000, filename='./data/US120.txt')\n",
    "tf_aleats = time.time()\n",
    "\n",
    "print('Tipo --- Tiempos --- Costes --- itearcion')\n",
    "print('Arbol: ', (tf_arbol-ti_arbol)/60, sol_arbol[1], sol_arbol[2])\n",
    "print('Greedy: ', (tf_greedy-ti_greedy)/60, sol_greedy[1], sol_greedy[2])\n",
    "print('Aleats: ', (tf_aleats-ti_aleats)/60, sol_aleats[1], sol_aleats[2])\n",
    "print('\\n')"
   ]
  },
  {
   "cell_type": "markdown",
   "metadata": {
    "collapsed": false
   },
   "source": [
    "Tras observar estos resultados podemos ver que la solución greedy es la que obtiene los mejores resultados en un menor número de iteraciones, por lo que se podría reducir el número de estas sin tener que prescindir de un resultado mucho mejor.  A partir de aquí, utilizaremos el algoritmo greedy como generador de la solución inicial de las mejoras implementadas"
   ]
  },
  {
   "cell_type": "code",
   "execution_count": 0,
   "metadata": {
    "collapsed": false
   },
   "outputs": [
   ],
   "source": [
   ]
  },
  {
   "cell_type": "markdown",
   "metadata": {
    "collapsed": false
   },
   "source": [
    "**Gestión de la lista tabú**\n",
    "\n",
    "En cuanto a la gestión de la lista tabú, en la primera implementación excluíamos todas las soluciones generadas que estuviesen en la lista tabú. Otra opción es permitir excepciones, para hacerla más flexible. De esta manera ,podríamos aceptar determinadas soluciones si cumplen unas determinadas condiciones, los llamados criterios de aspiración. Esto podría ser por ejemplo, aceptar una solución si su coste es menor que el de la mejor solución encontrada hasta ese momento."
   ]
  },
  {
   "cell_type": "code",
   "execution_count": 7,
   "metadata": {
    "collapsed": false
   },
   "outputs": [
   ],
   "source": [
    "# acepta soluciones de la lista tabú mejores que la actual\n",
    "def busqueda_tabu_m1(s0, iteraciones=10000, filename='./data/US120.txt'):\n",
    "    maxLT = 100\n",
    "    INFINITO = 100000000\n",
    "    \n",
    "    g = Localizaciones(filename=filename)\n",
    "    sMejor = []\n",
    "    sAct = s0\n",
    "    itActualizacion = 0\n",
    "    costeMin = coste_ini(g, [0] + sAct + [0])\n",
    "    fitnessAct = costeMin\n",
    "    listaTabu = deque()\n",
    "    iteracion = 0\n",
    "    reinicios = []\n",
    "    while (iteracion < iteraciones):\n",
    "        vecinos = genera_vecindario(sAct, g, fitnessAct)\n",
    "        fitnessAct = INFINITO #infinito\n",
    "        #de los vecinos generados, ver que no esté en la lista tabú\n",
    "        for i in range(len(vecinos.keys())):\n",
    "            cmin = np.amin(list(vecinos.keys()))\n",
    "            #si el intercambio con el coste minimo encontrado no está en la lista tabú, nos quedamos con él\n",
    "            if (vecinos[cmin] not in listaTabu or (cmin < costeMin)):\n",
    "                fitnessAct = cmin\n",
    "                sAct = intercambio(sAct, vecinos[cmin][0], vecinos[cmin][1])\n",
    "                break; #sale del bucle for\n",
    "            else: #se borra de vecinos y busca el siguiente mínimo\n",
    "                del vecinos[cmin]\n",
    "        if (fitnessAct == INFINITO):\n",
    "                break; #sale del while pq todos los vecinos generados están en la lista tabú\n",
    "        #si la solucion obtenida es mejor que la mejor obtenida hasta ahora, se actualiza\n",
    "        if (fitnessAct < costeMin):\n",
    "            itActualizacion = iteracion\n",
    "            sMejor = []\n",
    "            sMejor = sAct.copy()\n",
    "            costeMin = fitnessAct\n",
    "        #REINICIALIZACION\n",
    "        if (itActualizacion == (iteracion - 1000) or (itActualizacion < (iteracion -1000) and (len(reinicios) > 0) and (reinicios[-1] == (iteracion - 1000)))):\n",
    "            sAct = sMejor.copy()\n",
    "            fitnessAct = costeMin\n",
    "            reinicios.append(iteracion)\n",
    "            #itActualizacion = iteracion\n",
    "            #vaciamos la lista tabú\n",
    "            listaTabu.clear()\n",
    "        #metemos el nuevo\n",
    "        listaTabu.append(vecinos[cmin])\n",
    "        if (len(listaTabu) > maxLT):\n",
    "            listaTabu.popleft() #quitamos el primer elemento de la lista tabu\n",
    "        iteracion += 1\n",
    "    print(reinicios)\n",
    "    return (sMejor, costeMin, itActualizacion)"
   ]
  },
  {
   "cell_type": "code",
   "execution_count": 14,
   "metadata": {
    "collapsed": false
   },
   "outputs": [
    {
     "name": "stdout",
     "output_type": "stream",
     "text": [
      "[1703, 2703, 3703, 4703]\n",
      "m1:  5.536862647533416 25926.32317122482 703\n"
     ]
    }
   ],
   "source": [
    "tim1 = time.time()\n",
    "sm1 = busqueda_tabu_m1(generacion_greedy(), iteraciones=5000)\n",
    "tfm1 = time.time()\n",
    "print('m1: ', (tfm1-tim1)/60, sm1[1], sm1[2])\n"
   ]
  },
  {
   "cell_type": "markdown",
   "metadata": {
    "collapsed": false
   },
   "source": [
    "Aceptando soluciones mejores podemos ver que encuentra la mejor solución en muy pocas iteraciones. Además, la solución es peor. Esto nos indica que el algoritmo cae en un mínimo local, por lo que no vamos a contemplar esta modificación"
   ]
  },
  {
   "cell_type": "markdown",
   "metadata": {
    "collapsed": false
   },
   "source": [
    "**Generación de vecinos**\n",
    "\n",
    "Hay muchas maneras diferentes de generar el vecindario a partir de la solución actual. En la primera implementación se utilizaba el operador de intercambio para generar todos los posibles vecinos. \n",
    "\n",
    "A continuación probaremos con el mismo operador pero generando la mitad de los vecinos, y con el operador de inserción. Para este último tendremos que cambiar también la manera de insertar los movimientos en la tabla tabú. La generación de vecinos nos devolverá un vecindario en forma de diccionario donde las claves serán los costes, y los valores una tupla [i, j] donde i será el índice actual de la ciudad a mover, y j será la nueva posición en la que se insertará. Por esta razón, incluiremos en la lista tabú la tupla al revés, [j, i], de manera que el movimiento que se prohibirá es que la ciudad de la posición j (la que se acaba de insertar) vuelva a la posición i."
   ]
  },
  {
   "cell_type": "code",
   "execution_count": 8,
   "metadata": {
    "collapsed": false
   },
   "outputs": [
    {
     "ename": "NameError",
     "evalue": "name 'Localizaciones' is not defined",
     "output_type": "error",
     "traceback": [
      "\u001b[0;31m---------------------------------------------------------------------------\u001b[0m",
      "\u001b[0;31mNameError\u001b[0m                                 Traceback (most recent call last)",
      "\u001b[0;32m/tmp/ipykernel_301/2592461500.py\u001b[0m in \u001b[0;36m<cell line: 10>\u001b[0;34m()\u001b[0m\n\u001b[1;32m      8\u001b[0m     \u001b[0;32mreturn\u001b[0m \u001b[0mvecindario\u001b[0m\u001b[0;34m\u001b[0m\u001b[0;34m\u001b[0m\u001b[0m\n\u001b[1;32m      9\u001b[0m \u001b[0;34m\u001b[0m\u001b[0m\n\u001b[0;32m---> 10\u001b[0;31m \u001b[0mg\u001b[0m \u001b[0;34m=\u001b[0m \u001b[0mLocalizaciones\u001b[0m\u001b[0;34m(\u001b[0m\u001b[0mfilename\u001b[0m\u001b[0;34m=\u001b[0m\u001b[0;34m'./data/US120.txt'\u001b[0m\u001b[0;34m)\u001b[0m\u001b[0;34m\u001b[0m\u001b[0;34m\u001b[0m\u001b[0m\n\u001b[0m\u001b[1;32m     11\u001b[0m \u001b[0ms\u001b[0m \u001b[0;34m=\u001b[0m \u001b[0mgeneracion_greedy\u001b[0m\u001b[0;34m(\u001b[0m\u001b[0;34m)\u001b[0m\u001b[0;34m\u001b[0m\u001b[0;34m\u001b[0m\u001b[0m\n\u001b[1;32m     12\u001b[0m \u001b[0mprint\u001b[0m\u001b[0;34m(\u001b[0m\u001b[0mlen\u001b[0m\u001b[0;34m(\u001b[0m\u001b[0mgeneracion_mitad_vecinos\u001b[0m\u001b[0;34m(\u001b[0m\u001b[0ms\u001b[0m\u001b[0;34m,\u001b[0m \u001b[0mg\u001b[0m\u001b[0;34m,\u001b[0m \u001b[0mcoste_ini\u001b[0m\u001b[0;34m(\u001b[0m\u001b[0mg\u001b[0m\u001b[0;34m,\u001b[0m \u001b[0ms\u001b[0m\u001b[0;34m)\u001b[0m\u001b[0;34m)\u001b[0m\u001b[0;34m)\u001b[0m\u001b[0;34m)\u001b[0m\u001b[0;34m\u001b[0m\u001b[0;34m\u001b[0m\u001b[0m\n",
      "\u001b[0;31mNameError\u001b[0m: name 'Localizaciones' is not defined"
     ]
    }
   ],
   "source": [
    "def generacion_mitad_vecinos(solucionIni, g, costeIni):\n",
    "    vecindario={}\n",
    "    s = solucionIni\n",
    "    for i in range(len(s)):\n",
    "        for j in range(i+1,len(s), 2):\n",
    "            c = coste_incremental([0]+s+[0], [i+1, j+1], g, costeIni)\n",
    "            vecindario[c] = [i, j]\n",
    "    return vecindario\n",
    "\n",
    "g = Localizaciones(filename='./data/US120.txt')\n",
    "s = generacion_greedy()\n",
    "print(len(generacion_mitad_vecinos(s, g, coste_ini(g, s))))\n"
   ]
  },
  {
   "cell_type": "code",
   "execution_count": 9,
   "metadata": {
    "collapsed": false
   },
   "outputs": [
   ],
   "source": [
    "#generando la mitad de los vecinos\n",
    "def busqueda_tabu_m2(s0, iteraciones=10000, filename='./data/US120.txt'):\n",
    "    maxLT = 100\n",
    "    INFINITO = 100000000\n",
    "    \n",
    "    g = Localizaciones(filename=filename)\n",
    "    sMejor = []\n",
    "    sAct = s0\n",
    "    itActualizacion = 0\n",
    "    costeMin = coste_ini(g, [0] + sAct + [0])\n",
    "    fitnessAct = costeMin\n",
    "    listaTabu = deque()\n",
    "    iteracion = 0\n",
    "    reinicios = []\n",
    "    while (iteracion < iteraciones):\n",
    "        vecinos = generacion_mitad_vecinos(sAct, g, fitnessAct)\n",
    "        fitnessAct = INFINITO #infinito\n",
    "        #de los vecinos generados, ver que no esté en la lista tabú\n",
    "        for i in range(len(vecinos.keys())):\n",
    "            cmin = np.amin(list(vecinos.keys()))\n",
    "            #si el intercambio con el coste minimo encontrado no está en la lista tabú, nos quedamos con él\n",
    "            if (vecinos[cmin] not in listaTabu):\n",
    "                fitnessAct = cmin\n",
    "                sAct = intercambio(sAct, vecinos[cmin][0], vecinos[cmin][1])\n",
    "                break; #sale del bucle for\n",
    "            else: #se borra de vecinos y busca el siguiente mínimo\n",
    "                del vecinos[cmin]\n",
    "        if (fitnessAct == INFINITO):\n",
    "                break; #sale del while pq todos los vecinos generados están en la lista tabú\n",
    "        #si la solucion obtenida es mejor que la mejor obtenida hasta ahora, se actualiza\n",
    "        if (fitnessAct < costeMin):\n",
    "            itActualizacion = iteracion\n",
    "            sMejor = []\n",
    "            sMejor = sAct.copy()\n",
    "            costeMin = fitnessAct\n",
    "        #REINICIALIZACION\n",
    "        if (itActualizacion == (iteracion - 1000) or (itActualizacion < (iteracion -1000) and (len(reinicios) > 0) and (reinicios[-1] == (iteracion - 1000)))):\n",
    "            sAct = sMejor.copy()\n",
    "            fitnessAct = costeMin\n",
    "            reinicios.append(iteracion)\n",
    "            #itActualizacion = iteracion\n",
    "            #vaciamos la lista tabú\n",
    "            listaTabu.clear()\n",
    "        #metemos el nuevo\n",
    "        listaTabu.append(vecinos[cmin])\n",
    "        if (len(listaTabu) > maxLT):\n",
    "            listaTabu.popleft() #quitamos el primer elemento de la lista tabu\n",
    "        iteracion += 1\n",
    "    print(reinicios)\n",
    "    return (sMejor, costeMin, itActualizacion)"
   ]
  },
  {
   "cell_type": "code",
   "execution_count": 84,
   "metadata": {
    "collapsed": false
   },
   "outputs": [
    {
     "name": "stdout",
     "output_type": "stream",
     "text": [
      "[1011, 2013, 3013, 4013]\n",
      "Tipo --- Tiempos --- Costes --- itearcion\n",
      "generar mitad vecinos:  2.5667369246482847 26535.1370152978 1013\n",
      "\n",
      "\n"
     ]
    }
   ],
   "source": [
    "ti_m2 = time.time()\n",
    "sol_m2 = busqueda_tabu_m2(generacion_greedy(), iteraciones=5000)\n",
    "tf_m2 = time.time()\n",
    "\n",
    "\n",
    "print('Tipo --- Tiempos --- Costes --- itearcion')\n",
    "print('generar mitad vecinos: ', (tf_m2-ti_m2)/60, sol_m2[1], sol_m2[2])\n",
    "print('\\n')"
   ]
  },
  {
   "cell_type": "markdown",
   "metadata": {
    "collapsed": false
   },
   "source": [
    "Aquí podemos ver que generando la mitad de los vecinos el tiempo de computación es indudablemente más bajo que en la original, puesto que se exploran muchas menos opciones. Además, encuentra la mejor solución muy pronto y el coste se aleja bastante de la mejor solución encontrada hasta el momento,  lo que nos indica que cayó en un mínimo local, por lo que no seguiremos explorando esta opción de generación de vecinos."
   ]
  },
  {
   "cell_type": "code",
   "execution_count": 10,
   "metadata": {
    "collapsed": false
   },
   "outputs": [
   ],
   "source": [
    "def coste_insercion(solIni, insercion, g, costeIni):\n",
    "    difcoste = 0\n",
    "    #restamos los recorridos que rompemos\n",
    "    difcoste -= g.distancia(solIni[insercion[0]-1], solIni[insercion[0]])\n",
    "    difcoste -= g.distancia(solIni[insercion[0]+1], solIni[insercion[0]])\n",
    "    #sumamos los nuevos\n",
    "    difcoste += g.distancia(solIni[insercion[0]], solIni[insercion[1]])\n",
    "    difcoste += g.distancia(solIni[insercion[0]-1], solIni[insercion[0]+1])\n",
    "    if (insercion[0] < insercion[1]):\n",
    "        #restamos el punto donde se va a insertar la ciudad\n",
    "        difcoste -= g.distancia(solIni[insercion[1]], solIni[insercion[1]+1])\n",
    "        difcoste += g.distancia(solIni[insercion[1]+ 1], solIni[insercion[0]])\n",
    "    else:\n",
    "        #restamos el punto donde se va a insertar la ciudad\n",
    "        difcoste -= g.distancia(solIni[insercion[1]-1], solIni[insercion[1]])\n",
    "        difcoste += g.distancia(solIni[insercion[1]-1], solIni[insercion[0]])\n",
    "    return (difcoste + costeIni)\n",
    "\n",
    "def generacion_insercion(sol, g, costeIni):\n",
    "    vecindario = {}\n",
    "    s = sol\n",
    "    for i in range(len(s)):\n",
    "        for j in range(len(s)):\n",
    "            if (i != j) and (i != j+1):\n",
    "                # Inserta la ciudad i en la posición j\n",
    "                c = coste_insercion([0]+s+[0], [i+1, j+1], g, costeIni)\n",
    "                #i es la posicion inicial de la ciudad cambiada y j es la posicion de inserción\n",
    "                vecindario[c] = [i, j]\n",
    "    return vecindario\n",
    "\n",
    "\n",
    "def insercion(sAct, posIni, posInsercion):\n",
    "    sol = sAct\n",
    "    aux = sol[posIni]\n",
    "    sol.pop(posIni)\n",
    "    sol.insert(posInsercion, aux)\n",
    "    return sol\n",
    "\n",
    "def busqueda_tabu_insercion(s0, iteraciones=10000, filename='./data/US120.txt'):\n",
    "    maxLT = 100\n",
    "    INFINITO = 10000000\n",
    "    \n",
    "    g = Localizaciones(filename=filename)\n",
    "    sMejor = s0\n",
    "    sAct = s0\n",
    "    itActualizacion = 0\n",
    "    costeMin = coste_ini(g, [0] + s0 + [0])\n",
    "    fitnessAct = costeMin\n",
    "    listaTabu = deque()\n",
    "    iteracion = 0\n",
    "    reinicios = []\n",
    "    while (iteracion < iteraciones):\n",
    "        vecinos = generacion_insercion(sAct, g, fitnessAct)\n",
    "        fitnessAct = INFINITO #infinito\n",
    "        #de los vecinos generados, ver que no esté en la lista tabú\n",
    "        for i in range(len(vecinos.keys())):\n",
    "            cmin = np.amin(list(vecinos.keys()))\n",
    "            #si el intercambio con el coste minimo encontrado no está en la lista tabú, nos quedamos con él\n",
    "            if (vecinos[cmin] not in listaTabu):\n",
    "                fitnessAct = cmin\n",
    "                sAct = insercion(sAct, vecinos[cmin][0], vecinos[cmin][1])\n",
    "                break; #sale del bucle for\n",
    "            else: #se borra de vecinos y busca el siguiente mínimo\n",
    "                del vecinos[cmin]\n",
    "        if (fitnessAct == INFINITO):\n",
    "                break; #sale del while pq todos los vecinos generados están en la lista tabú\n",
    "        #si la solucion obtenida es mejor que la mejor obtenida hasta ahora, se actualiza\n",
    "        if (fitnessAct < costeMin):\n",
    "            itActualizacion = iteracion\n",
    "            sMejor = []\n",
    "            sMejor = sAct.copy()\n",
    "            costeMin = fitnessAct\n",
    "        #REINICIALIZACION\n",
    "        if (itActualizacion == (iteracion - 1000) or (itActualizacion < (iteracion -1000) and (len(reinicios) > 0) and (reinicios[-1] == (iteracion - 1000)))):\n",
    "            sAct = sMejor.copy()\n",
    "            fitnessAct = costeMin\n",
    "            reinicios.append(iteracion)\n",
    "            #itActualizacion = iteracion\n",
    "            #vaciamos la lista tabú\n",
    "            listaTabu.clear()\n",
    "        #metemos el nuevo\n",
    "        listaTabu.append([vecinos[cmin][1], vecinos[cmin][0]]) #cambiamos la manera de meterlo en la lista tabú \n",
    "        if (len(listaTabu) > maxLT):\n",
    "            listaTabu.popleft() #quitamos el primer elemento de la lista tabu\n",
    "        iteracion += 1\n",
    "    print(reinicios)\n",
    "    return (sMejor, costeMin, itActualizacion)\n",
    "#en cada iteracion se genera el mejor vecino de Nrestringido (sin tener en cuenta los moviemientos de la lista tabú)\n",
    "#diccionario, indexado por el coste para poder sacar de manera eficiente el de menor coste\n"
   ]
  },
  {
   "cell_type": "code",
   "execution_count": 87,
   "metadata": {
    "collapsed": false
   },
   "outputs": [
    {
     "name": "stdout",
     "output_type": "stream",
     "text": [
      "[1027, 2027, 3027, 4027]\n",
      "Tipo --- Tiempos --- Costes --- itearcion\n",
      "inserc  6.910066866874695 24673.721028278356 27\n",
      "[91, 81, 109, 119, 89, 40, 38, 105, 36, 4, 59, 16, 35, 94, 18, 66, 3, 53, 50, 74, 37, 84, 82, 69, 83, 78, 80, 114, 107, 77, 51, 79, 101, 10, 22, 68, 100, 90, 43, 32, 8, 71, 42, 64, 58, 62, 75, 21, 55, 28, 93, 65, 27, 86, 47, 60, 9, 20, 111, 25, 17, 92, 34, 49, 70, 73, 88, 31, 72, 54, 112, 95, 85, 33, 108, 48, 97, 57, 6, 45, 30, 44, 102, 76, 39, 29, 116, 87, 5, 118, 15, 67, 12, 115, 106, 1, 61, 98, 99, 56, 7, 19, 104, 46, 96, 103, 117, 52, 23, 41, 63, 24, 26, 11, 14, 113, 110, 2, 13]\n"
     ]
    }
   ],
   "source": [
    "ti_insercion = time.time()\n",
    "sol_insercion = busqueda_tabu_insercion(generacion_greedy(), iteraciones = 5000)\n",
    "tf_insercion = time.time()\n",
    "\n",
    "\n",
    "print('Tipo --- Tiempos --- Costes --- itearcion')\n",
    "print('inserc ', (tf_insercion-ti_insercion)/60, sol_insercion[1], sol_insercion[2])\n",
    "print(sol_insercion[0])"
   ]
  },
  {
   "cell_type": "markdown",
   "metadata": {
    "collapsed": false
   },
   "source": [
    "**Estrategias de reinicialización**\n",
    "\n",
    "**INTENSIFICACIÓN**\n",
    "\n",
    "Como estrategia de reinicialización inicialmente tilizamos una estrategia por intensificación en la que volvíamos a la mejor solución encontrada hasta el momento y seguíamos explorando desde esa con la lista tabú vacía. A parte de esta, hay otras estrategias d reinicialización por intensificación como en lugar de escoger la mejor solución encontrada, almacenar las x mejores, en este caso contemplaremos 10, y de estas, elegir una aleatoriamente para reiniciar el algoritmo y la quitaremos de esta lista. Con respecto a la memoria de corto plazo, vaciaremos la lista tabú a 0 para que se puedan explorar nuevas soluciones."
   ]
  },
  {
   "cell_type": "code",
   "execution_count": 65,
   "metadata": {
    "collapsed": false
   },
   "outputs": [
    {
     "name": "stdout",
     "output_type": "stream",
     "text": [
      "664.9266099934867\n"
     ]
    }
   ],
   "source": [
    "g = Localizaciones(filename='./data/grafo8cidades.txt')\n",
    "print(coste_ini(g, [0]+[7, 6, 2,4,  1, 3, 5]+[0]))"
   ]
  },
  {
   "cell_type": "code",
   "execution_count": 11,
   "metadata": {
    "collapsed": false
   },
   "outputs": [
   ],
   "source": [
    "#con reinicialización por intensificación. Aleatoria de las 10 mejores\n",
    "def busqueda_tabu_m3(s0, tamMejores=10, iteraciones=10000, filename='./data/US120.txt'):\n",
    "    maxLT = 100\n",
    "    INFINITO = 10000000\n",
    "    \n",
    "    g = Localizaciones(filename=filename)\n",
    "    sMejor = []\n",
    "    sMejores = {}\n",
    "    sAct = s0\n",
    "    itActualizacion = 0\n",
    "    costeMin = coste_ini(g, [0] + sAct + [0])\n",
    "    fitnessAct = costeMin\n",
    "    sMejores[costeMin] = s0\n",
    "    listaTabu = deque()\n",
    "    iteracion = 0\n",
    "    reinicios = []\n",
    "    while (iteracion < iteraciones):\n",
    "        vecinos = genera_vecindario(sAct, g, fitnessAct)\n",
    "        fitnessAct = INFINITO #infinito\n",
    "        #de los vecinos generados, ver que no esté en la lista tabú\n",
    "        for i in range(len(vecinos.keys())):\n",
    "            cmin = np.amin(list(vecinos.keys()))\n",
    "            #si el intercambio con el coste minimo encontrado no está en la lista tabú, nos quedamos con él\n",
    "            if (vecinos[cmin] not in listaTabu):\n",
    "                fitnessAct = cmin\n",
    "                sAct = intercambio(sAct, vecinos[cmin][0], vecinos[cmin][1])\n",
    "                if (len(sMejores) < 10):\n",
    "                    sMejores[fitnessAct] = sAct\n",
    "                else:\n",
    "                    maxm = np.amax(list(sMejores.keys()))\n",
    "                    if (fitnessAct < maxm):\n",
    "                        del sMejores[maxm]\n",
    "                        sMejores[fitnessAct] = sAct\n",
    "                break; #sale del bucle for\n",
    "            else: #se borra de vecinos y busca el siguiente mínimo\n",
    "                del vecinos[cmin]\n",
    "        if (fitnessAct == INFINITO):\n",
    "                break; #sale del while pq todos los vecinos generados están en la lista tabú\n",
    "        #si la solucion obtenida es mejor que la mejor obtenida hasta ahora, se actualiza\n",
    "        if (fitnessAct < costeMin):\n",
    "            itActualizacion = iteracion\n",
    "            sMejor = []\n",
    "            sMejor = sAct.copy()\n",
    "            costeMin = fitnessAct\n",
    "        #REINICIALIZACION\n",
    "        if (itActualizacion == (iteracion - 1000) or (itActualizacion < (iteracion -1000) and (len(reinicios) > 0) and (reinicios[-1] == (iteracion - 1000)))):\n",
    "            #elegimos una solucion aleatoria de las 10 mejores\n",
    "            key = random.choice(list(sMejores.keys()))\n",
    "            sAct = sMejores.pop(key)\n",
    "            fitnessAct = costeMin\n",
    "            reinicios.append(iteracion)\n",
    "            #actualizamos la lista tabu\n",
    "            listaTabu.clear()\n",
    "        #metemos el nuevo\n",
    "        listaTabu.append(vecinos[cmin])\n",
    "        if (len(listaTabu) > maxLT):\n",
    "            listaTabu.popleft() #quitamos el primer elemento de la lista tabu\n",
    "        iteracion += 1\n",
    "    print(reinicios)\n",
    "    return (sMejor, costeMin, itActualizacion)"
   ]
  },
  {
   "cell_type": "code",
   "execution_count": 80,
   "metadata": {
    "collapsed": false
   },
   "outputs": [
    {
     "name": "stdout",
     "output_type": "stream",
     "text": [
      "[1361, 3007, 4030]\n",
      "Tipo --- Tiempos --- Costes --- itearcion\n",
      "inserc  4.9284229675928755 23806.746757341924 4067\n",
      "[81, 91, 109, 13, 119, 89, 8, 38, 40, 71, 42, 105, 36, 4, 35, 59, 16, 18, 66, 3, 53, 50, 64, 74, 37, 84, 82, 83, 78, 77, 101, 10, 79, 51, 32, 43, 90, 100, 68, 22, 114, 107, 80, 69, 2, 110, 113, 14, 58, 11, 26, 24, 41, 63, 75, 62, 55, 21, 28, 93, 65, 27, 86, 47, 60, 9, 20, 111, 49, 25, 17, 34, 92, 23, 52, 117, 103, 96, 70, 73, 88, 31, 72, 54, 112, 95, 85, 33, 108, 48, 97, 57, 6, 45, 30, 44, 102, 76, 39, 29, 116, 87, 5, 118, 15, 67, 12, 61, 115, 106, 1, 99, 98, 19, 46, 104, 7, 56, 94]\n"
     ]
    }
   ],
   "source": [
    "ti_intensf = time.time()\n",
    "sol_intensf = busqueda_tabu_m3(generacion_greedy(), iteraciones = 5000)\n",
    "tf_intensf = time.time()\n",
    "\n",
    "\n",
    "print('Tipo --- Tiempos --- Costes --- itearcion')\n",
    "print('inserc ', (tf_intensf-ti_intensf)/60, sol_intensf[1], sol_intensf[2])\n",
    "print(sol_intensf[0])"
   ]
  },
  {
   "cell_type": "markdown",
   "metadata": {
    "collapsed": false
   },
   "source": [
    "**DIVERSIFICACIÓN**\n",
    "\n",
    "La estrategia de reinicialización busca explorar más el espacio de soluciones. Para hacer esto, a la hora de reinicializar, en lugar de partir de la mejor solución encontrada hasta el momento, partiremos de una solución generada aleatoriamente, en concreto con la función anterior con la que seleccionamos la solución aleatoria con menor coste de 5 generadas."
   ]
  },
  {
   "cell_type": "code",
   "execution_count": 13,
   "metadata": {
    "collapsed": false
   },
   "outputs": [
   ],
   "source": [
    "#con reinicialización por diversificacion. Mejor de 5 aleatorias\n",
    "def busqueda_tabu_m4(s0, tamMejores=10, iteraciones=10000, filename='./data/US120.txt'):\n",
    "    maxLT = 100\n",
    "    INFINITO = 10000000\n",
    "    \n",
    "    g = Localizaciones(filename=filename)\n",
    "    sMejor = []\n",
    "    sMejores = {}\n",
    "    sAct = s0\n",
    "    itActualizacion = 0\n",
    "    costeMin = coste_ini(g, [0] + sAct + [0])\n",
    "    fitnessAct = costeMin\n",
    "    sMejores[costeMin] = s0\n",
    "    listaTabu = deque()\n",
    "    iteracion = 0\n",
    "    reinicios = []\n",
    "    while (iteracion < iteraciones):\n",
    "        vecinos = genera_vecindario(sAct, g, fitnessAct)\n",
    "        fitnessAct = INFINITO #infinito\n",
    "        #de los vecinos generados, ver que no esté en la lista tabú\n",
    "        for i in range(len(vecinos.keys())):\n",
    "            cmin = np.amin(list(vecinos.keys()))\n",
    "            #si el intercambio con el coste minimo encontrado no está en la lista tabú, nos quedamos con él\n",
    "            if (vecinos[cmin] not in listaTabu):\n",
    "                fitnessAct = cmin\n",
    "                sAct = intercambio(sAct, vecinos[cmin][0], vecinos[cmin][1])\n",
    "                if (len(sMejores) < 10):\n",
    "                    sMejores[fitnessAct] = sAct\n",
    "                else:\n",
    "                    maxm = np.amax(list(sMejores.keys()))\n",
    "                    if (fitnessAct < maxm):\n",
    "                        del sMejores[maxm]\n",
    "                        sMejores[fitnessAct] = sAct\n",
    "                break; #sale del bucle for\n",
    "            else: #se borra de vecinos y busca el siguiente mínimo\n",
    "                del vecinos[cmin]\n",
    "        if (fitnessAct == INFINITO):\n",
    "                break; #sale del while pq todos los vecinos generados están en la lista tabú\n",
    "        #si la solucion obtenida es mejor que la mejor obtenida hasta ahora, se actualiza\n",
    "        if (fitnessAct < costeMin):\n",
    "            itActualizacion = iteracion\n",
    "            sMejor = []\n",
    "            sMejor = sAct.copy()\n",
    "            costeMin = fitnessAct\n",
    "        #REINICIALIZACION\n",
    "        if (itActualizacion == (iteracion - 1000) or (itActualizacion < (iteracion -1000) and (len(reinicios) > 0) and (reinicios[-1] == (iteracion - 1000)))):\n",
    "            #elegimos una solucion aleatoria de las 10 mejores\n",
    "            sAct = generacion_mejor_aleatorias()\n",
    "            fitnessAct = coste_ini(g, [0] + sAct + [0])\n",
    "            reinicios.append(iteracion)\n",
    "            #actualizamos la lista tabu\n",
    "            listaTabu.clear()\n",
    "        #metemos el nuevo\n",
    "        listaTabu.append(vecinos[cmin])\n",
    "        if (len(listaTabu) > maxLT):\n",
    "            listaTabu.popleft() #quitamos el primer elemento de la lista tabu\n",
    "        iteracion += 1\n",
    "    print(reinicios)\n",
    "    return (sMejor, costeMin, itActualizacion)"
   ]
  },
  {
   "cell_type": "code",
   "execution_count": 18,
   "metadata": {
    "collapsed": false
   },
   "outputs": [
    {
     "name": "stdout",
     "output_type": "stream",
     "text": [
      "[1361, 2361, 3361, 4361]\n",
      "Tipo --- Tiempos --- Costes --- itearcion\n",
      "diversificacion  4.6967650334040325 26302.462686658382 361\n",
      "[81, 91, 109, 119, 89, 8, 40, 38, 71, 42, 105, 36, 4, 35, 18, 59, 16, 66, 3, 53, 50, 64, 74, 37, 84, 69, 82, 83, 13, 78, 80, 107, 114, 90, 100, 68, 22, 32, 43, 79, 51, 10, 101, 77, 2, 110, 113, 14, 58, 11, 26, 24, 41, 63, 75, 62, 55, 21, 28, 93, 65, 27, 86, 47, 60, 20, 111, 9, 49, 25, 17, 34, 92, 23, 52, 117, 103, 96, 70, 73, 88, 31, 72, 54, 112, 95, 85, 33, 108, 48, 97, 57, 6, 45, 30, 102, 44, 76, 39, 29, 116, 87, 5, 118, 15, 67, 12, 115, 106, 1, 61, 98, 99, 56, 7, 19, 46, 104, 94]\n"
     ]
    }
   ],
   "source": [
    "import time\n",
    "ti_diversif= time.time()\n",
    "sol_diversif = busqueda_tabu_m4(generacion_greedy(), iteraciones = 5000)\n",
    "tf_diversif = time.time()\n",
    "\n",
    "\n",
    "print('Tipo --- Tiempos --- Costes --- itearcion')\n",
    "print('diversificacion ', (tf_diversif-ti_diversif)/60, sol_diversif[1], sol_diversif[2])\n",
    "print(sol_diversif[0])"
   ]
  },
  {
   "cell_type": "code",
   "execution_count": 0,
   "metadata": {
    "collapsed": false
   },
   "outputs": [
   ],
   "source": [
   ]
  },
  {
   "cell_type": "markdown",
   "metadata": {
    "collapsed": false
   },
   "source": [
    "### Pregunta 3\n",
    "\n",
    "En esta pregunta llevaremos a cabo la implementación de diferentes variaciones del algoritmo de búsqueda tabú con la finalidad de encontrar algunas con las que obtengamos alguna mejora, ya sea en términos de tiempo como de los resultados obtenidos. Para esto modificaremos diferentes parámetros y operaciones como el modo de generación de la solución inicial, el modo de gestió de la lista tabú,  o el operador de generación de vecinos, entre otros. Estas mejoras las probaremos con el archivo de 120 ciudades.\n",
    "\n",
    "**Generación de la solución inicial**\n",
    "\n",
    "En lo tocante a los diferentes tipos de generación de la solución inicial, en la primera versión implementada, esta la generábamos de manera totalmente aleatoria. La inicialización es un factor importante a la hora de implementar un algoritmo de búsqueda, puesto que puede orientar el recrorrido del algoritmo durante su ejecución. Por eso, en nuestra búsqueda de una mejora, vamos a probar diferentes tipos de generación de la primera solución.\n",
    "\n",
    "En primer lugar, haremos un árbol de expansión mínimo. Recorriendolo en profundidad tendremos la solución inicial a utilizar. También probaremos con la estrategia voraz o greedy. Esta empieza en una ciudad aleatoria y a partir de esta, irá seleccionando la más cercana que todavía no forme parte de la solución. Otra manera puede ser también la generación de un número controlado de posibles soluciones aleatorias y elegir la de menor coste de estas.\n",
    "\n",
    "Tras implementar y probar estas tres opciones podemos ver que el árbol de expansión mínimo es el que más tarda en ejecutarse por si solo. Las otras dos necesitan de poco tiempo hasta dar con la solución qeue utilizaremos, sin embargo, la aleatoria puede dar resultados de un coste muy elevado."
   ]
  },
  {
   "cell_type": "code",
   "execution_count": 24,
   "metadata": {
    "collapsed": false
   },
   "outputs": [
    {
     "name": "stdout",
     "output_type": "stream",
     "text": [
      "+----------------+--------------------+----------------------+\n",
      "|      Tipo      |       Coste        |     Tiempo (seg)     |\n",
      "+----------------+--------------------+----------------------+\n",
      "| Árbol expasión | 29275.673071751236 | 0.05643868446350098  |\n",
      "|     Greedy     | 27033.84988200304  |  0.0178682804107666  |\n",
      "|   Aleatorias   | 171503.71065139954 | 0.020794391632080078 |\n",
      "+----------------+--------------------+----------------------+\n"
     ]
    }
   ],
   "source": [
    "from tabulate import tabulate\n",
    "\n",
    "encabezados=['Tipo', 'Coste', 'Tiempo (seg)']\n",
    "datos=[['Árbol expasión', 29275.673071751236, 0.05643868446350098],\n",
    "      ['Greedy', 27033.84988200304, 0.0178682804107666],\n",
    "      ['Aleatorias', 171503.71065139954, 0.020794391632080078]]\n",
    "tabla = tabulate(datos, headers=encabezados, tablefmt=\"pretty\")\n",
    "print(tabla)"
   ]
  },
  {
   "cell_type": "markdown",
   "metadata": {
    "collapsed": false
   },
   "source": [
    "Además, en cuanto al comportamiento del algoritmo con la solución inicial generada de estas maneras, obtenemos que mediante el algoritmo voraz obtenemos el resultado final con un coste más reducido, además de que necesita menos iteraciones que para los otros casos, por lo que se podría reducir el número de estas sin tener que prescindir de un buen resultado. \n",
    "\n",
    "<img src=\".Practica2_BusquedaTabu.ipynb.upload/paste-0.4311559410605462\" style=\"max-width:100%\" />\n",
    "\n",
    "A partir de aquí, utilizaremos el algoritmo greedy como generador de la solución inicial de las mejoras implementadas.\n",
    "\n",
    "**Gestión de la lista tabú**\n",
    "\n",
    "En cuanto a la gestión de la lista tabú, en la primera implementación excluíamos todas las soluciones generadas que estuviesen en la lista tabú. Otra opción es permitir excepciones, para hacerla más flexible. De esta manera, podríamos aceptar determinadas soluciones si cumplen unas ciertas condiciones, llamadas criterios de aspiración. Esto podría ser por ejemplo, aceptar una solución si su coste es menor que el de la mejor solución encontrada hasta ese momento.\n",
    "\n",
    "Aceptando soluciones mejores podemos ver que encuentra la mejor solución en muy pocas iteraciones. Además, la solución es peor. Esto nos indica que el algoritmo cae en un mínimo local, por lo que no vamos a contemplar esta modificación"
   ]
  },
  {
   "cell_type": "code",
   "execution_count": 25,
   "metadata": {
    "collapsed": false
   },
   "outputs": [
    {
     "name": "stdout",
     "output_type": "stream",
     "text": [
      "+--------------------------+--------------------+--------------------+-------------+\n",
      "|           Tipo           |       Coste        |    Tiempo (min)    | Iteraciones |\n",
      "+--------------------------+--------------------+--------------------+-------------+\n",
      "| Aceptación tabús mejores | 25926.32317122482  | 5.536862647533416  |     703     |\n",
      "| Generación menos vecinos |  26535.1370152978  | 2.5667369246482847 |    1013     |\n",
      "|        Inserción         | 24673.721028278356 | 6.910066866874695  |     27      |\n",
      "+--------------------------+--------------------+--------------------+-------------+\n"
     ]
    }
   ],
   "source": [
    "from tabulate import tabulate\n",
    "\n",
    "encabezados=['Tipo', 'Coste', 'Tiempo (min)', 'Iteraciones']\n",
    "datos=[['Aceptación tabús mejores', 25926.32317122482, 5.536862647533416, 703],\n",
    "      ['Generación menos vecinos', 26535.1370152978, 2.5667369246482847, 1013],\n",
    "      ['Inserción', 24673.721028278356, 6.910066866874695, 27]]\n",
    "tabla = tabulate(datos, headers=encabezados, tablefmt=\"pretty\")\n",
    "print(tabla)"
   ]
  },
  {
   "cell_type": "markdown",
   "metadata": {
    "collapsed": false
   },
   "source": [
    "**Generación de vecinos**\n",
    "\n",
    "Hay muchas maneras diferentes de generar el vecindario a partir de la solución actual. En la primera implementación se utilizaba el operador de intercambio para generar todos los posibles vecinos. \n",
    "\n",
    "A continuación probaremos con el mismo operador pero generando la mitad de los vecinos, y con el operador de inserción. Para este último tendremos que cambiar también la manera de insertar los movimientos en la tabla tabú. La generación de vecinos nos devolverá un vecindario en forma de diccionario donde las claves serán los costes, y los valores una tupla [i, j] donde i será el índice actual de la ciudad a mover, y j será la nueva posición en la que se insertará. Por esta razón, incluiremos en la lista tabú la tupla al revés, [j, i], de manera que el movimiento que se prohibirá es que la ciudad de la posición j (la que se acaba de insertar) vuelva a la posición i.\n",
    "\n",
    "En la tabla superior podemos ver que generando la mitad de los vecinos el tiempo de computación es indudablemente más bajo que en la original, puesto que se exploran muchas menos opciones. Además, encuentra la mejor solución muy pronto y el coste se aleja bastante de la mejor solución encontrada hasta el momento,  lo que nos indica que cayó en un mínimo local, por lo que no seguiremos explorando esta opción de generación de vecinos.\n",
    "\n",
    "Por otra parte, en cuanto a la inserción como operador , consigue una solución de coste bajo, pero tarda bastante más tiempo que la versión original. Además, la solución devuelta se encuentra en las primeras iteraciones, lo que nos puede hacer entender que se queda estancado en un mínimo local.\n",
    "\n",
    "**Estrategias de reinicialización**\n",
    "\n",
    "**INTENSIFICACIÓN**\n",
    "\n",
    "Como estrategia de reinicialización inicialmente empleamos una estrategia por intensificación en la que volvíamos a la mejor solución encontrada hasta el momento y seguíamos explorando desde esa con la lista tabú vacía. A parte de esta, hay otras estrategias d reinicialización por intensificación como en lugar de escoger la mejor solución encontrada, almacenar las x mejores, en este caso contemplaremos 10, y de estas, elegir una aleatoriamente para reiniciar el algoritmo y la quitaremos de esta lista. Con respecto a la memoria de corto plazo, vaciaremos la lista tabú a 0 para que se puedan explorar nuevas soluciones.\n",
    "\n",
    "**DIVERSIFICACIÓN**\n",
    "\n",
    "La estrategia de reinicialización busca explorar más el espacio de soluciones. Para hacer esto, a la hora de reinicializar, en lugar de partir de la mejor solución encontrada hasta el momento, partiremos de una solución generada aleatoriamente, en concreto con la función anterior con la que seleccionamos la solución aleatoria con menor coste de 5 generadas.\n",
    "\n",
    "Tras probar con estas dos variaciones podemos ver que con la estrategia de intensificación obtenemos el mejor resultado obtenido hasta el momento. Además, ninguna de estas dos variaciones aumenta excesivamente el tiempo de computacionalmente."
   ]
  },
  {
   "cell_type": "code",
   "execution_count": 26,
   "metadata": {
    "collapsed": false
   },
   "outputs": [
    {
     "name": "stdout",
     "output_type": "stream",
     "text": [
      "+-----------------+--------------------+--------------------+-------------+\n",
      "|      Tipo       |       Coste        |    Tiempo (min)    | Iteraciones |\n",
      "+-----------------+--------------------+--------------------+-------------+\n",
      "| Intensificación | 23806.746757341924 | 4.9284229675928755 |    4067     |\n",
      "| Diversificación | 26302.462686658382 | 4.6967650334040325 |     361     |\n",
      "+-----------------+--------------------+--------------------+-------------+\n"
     ]
    }
   ],
   "source": [
    "from tabulate import tabulate\n",
    "\n",
    "encabezados=['Tipo', 'Coste', 'Tiempo (min)', 'Iteraciones']\n",
    "datos=[['Intensificación', 23806.746757341924, 4.9284229675928755, 4067],\n",
    "      ['Diversificación', 26302.462686658382, 4.6967650334040325, 361]]\n",
    "tabla = tabulate(datos, headers=encabezados, tablefmt=\"pretty\")\n",
    "print(tabla)"
   ]
  },
  {
   "cell_type": "markdown",
   "metadata": {
    "collapsed": false
   },
   "source": [
    "Tras la realización de estos experimentos, de las variaciones implementadas, la combinación que mejores resultados nos brinda es:\n",
    "La generación de la solución inicial mediante un algoritmo voraz o greedy.La gestión de la lista tabú de manera normal, puesto que al aceptar soluciones tabú mejores caía fácilmente en mínimos locales.\n",
    "Para la generación de vecinos, en caso de querer disminuir el tiempo de computación podemos optar por la generación de la mitad de los vecinos, o bien, de preferir una solución más óptima, la generación medianete el operador de intercambio de dos ciudados da buenos resultados en un tiempo asumible.\n",
    "Por último, para las estrategias de reinicialización, la mejor sería la de intensificación, puesto que con ella, tras un período de exploración (hasta que no es necesaria una reinicialización), aporta explotación de las mejores soluciones encontradas, de manera que podemos encontrar algunas aun mejores a partir de estas."
   ]
  },
  {
   "cell_type": "code",
   "execution_count": 0,
   "metadata": {
    "collapsed": false
   },
   "outputs": [
   ],
   "source": [
   ]
  }
 ],
 "metadata": {
  "kernelspec": {
   "argv": [
    "/usr/bin/python3",
    "-m",
    "ipykernel",
    "--HistoryManager.enabled=False",
    "--matplotlib=inline",
    "-c",
    "%config InlineBackend.figure_formats = set(['retina'])\nimport matplotlib; matplotlib.rcParams['figure.figsize'] = (12, 7)",
    "-f",
    "{connection_file}"
   ],
   "display_name": "Python 3 (system-wide)",
   "env": {
   },
   "language": "python",
   "metadata": {
    "cocalc": {
     "description": "Python 3 programming language",
     "priority": 100,
     "url": "https://www.python.org/"
    }
   },
   "name": "python3",
   "resource_dir": "/ext/jupyter/kernels/python3"
  },
  "language_info": {
   "codemirror_mode": {
    "name": "ipython",
    "version": 3
   },
   "file_extension": ".py",
   "mimetype": "text/x-python",
   "name": "python",
   "nbconvert_exporter": "python",
   "pygments_lexer": "ipython3",
   "version": "3.10.12"
  }
 },
 "nbformat": 4,
 "nbformat_minor": 4
}